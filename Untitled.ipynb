{
 "cells": [
  {
   "cell_type": "code",
   "execution_count": 1221,
   "metadata": {},
   "outputs": [],
   "source": [
    "import pandas as pd\n",
    "import numpy as np\n",
    "import matplotlib.pyplot as plt\n",
    "import seaborn as sns"
   ]
  },
  {
   "cell_type": "code",
   "execution_count": 1222,
   "metadata": {},
   "outputs": [
    {
     "name": "stderr",
     "output_type": "stream",
     "text": [
      "e:\\Anaconda3\\lib\\site-packages\\IPython\\core\\interactiveshell.py:2728: DtypeWarning: Columns (4,5,20,21) have mixed types. Specify dtype option on import or set low_memory=False.\n",
      "  interactivity=interactivity, compiler=compiler, result=result)\n",
      "e:\\Anaconda3\\lib\\site-packages\\IPython\\core\\interactiveshell.py:2728: DtypeWarning: Columns (4,5) have mixed types. Specify dtype option on import or set low_memory=False.\n",
      "  interactivity=interactivity, compiler=compiler, result=result)\n"
     ]
    }
   ],
   "source": [
    "train = pd.read_csv('train.csv')\n",
    "test = pd.read_csv('test.csv')"
   ]
  },
  {
   "cell_type": "code",
   "execution_count": 1223,
   "metadata": {},
   "outputs": [
    {
     "data": {
      "text/html": [
       "<div>\n",
       "<style scoped>\n",
       "    .dataframe tbody tr th:only-of-type {\n",
       "        vertical-align: middle;\n",
       "    }\n",
       "\n",
       "    .dataframe tbody tr th {\n",
       "        vertical-align: top;\n",
       "    }\n",
       "\n",
       "    .dataframe thead th {\n",
       "        text-align: right;\n",
       "    }\n",
       "</style>\n",
       "<table border=\"1\" class=\"dataframe\">\n",
       "  <thead>\n",
       "    <tr style=\"text-align: right;\">\n",
       "      <th></th>\n",
       "      <th>service_type</th>\n",
       "      <th>is_mix_service</th>\n",
       "      <th>online_time</th>\n",
       "      <th>1_total_fee</th>\n",
       "      <th>2_total_fee</th>\n",
       "      <th>3_total_fee</th>\n",
       "      <th>4_total_fee</th>\n",
       "      <th>month_traffic</th>\n",
       "      <th>many_over_bill</th>\n",
       "      <th>contract_type</th>\n",
       "      <th>...</th>\n",
       "      <th>local_caller_time</th>\n",
       "      <th>service1_caller_time</th>\n",
       "      <th>service2_caller_time</th>\n",
       "      <th>gender</th>\n",
       "      <th>age</th>\n",
       "      <th>complaint_level</th>\n",
       "      <th>former_complaint_num</th>\n",
       "      <th>former_complaint_fee</th>\n",
       "      <th>current_service</th>\n",
       "      <th>user_id</th>\n",
       "    </tr>\n",
       "  </thead>\n",
       "  <tbody>\n",
       "    <tr>\n",
       "      <th>0</th>\n",
       "      <td>4</td>\n",
       "      <td>0</td>\n",
       "      <td>85</td>\n",
       "      <td>295.96</td>\n",
       "      <td>296.2</td>\n",
       "      <td>296</td>\n",
       "      <td>296.80</td>\n",
       "      <td>3813.614698</td>\n",
       "      <td>0</td>\n",
       "      <td>1</td>\n",
       "      <td>...</td>\n",
       "      <td>108.100000</td>\n",
       "      <td>0.000000</td>\n",
       "      <td>564.366667</td>\n",
       "      <td>1</td>\n",
       "      <td>31</td>\n",
       "      <td>0</td>\n",
       "      <td>0</td>\n",
       "      <td>0.0</td>\n",
       "      <td>99999825</td>\n",
       "      <td>Gx4sJzcQog01UhZL</td>\n",
       "    </tr>\n",
       "    <tr>\n",
       "      <th>1</th>\n",
       "      <td>1</td>\n",
       "      <td>0</td>\n",
       "      <td>10</td>\n",
       "      <td>265.20</td>\n",
       "      <td>261.2</td>\n",
       "      <td>208.5</td>\n",
       "      <td>174.50</td>\n",
       "      <td>0.000000</td>\n",
       "      <td>1</td>\n",
       "      <td>0</td>\n",
       "      <td>...</td>\n",
       "      <td>240.100000</td>\n",
       "      <td>355.166667</td>\n",
       "      <td>0.000000</td>\n",
       "      <td>1</td>\n",
       "      <td>30</td>\n",
       "      <td>0</td>\n",
       "      <td>0</td>\n",
       "      <td>0.0</td>\n",
       "      <td>90063345</td>\n",
       "      <td>kEXrhTiug93DIcLG</td>\n",
       "    </tr>\n",
       "    <tr>\n",
       "      <th>2</th>\n",
       "      <td>1</td>\n",
       "      <td>0</td>\n",
       "      <td>12</td>\n",
       "      <td>44.50</td>\n",
       "      <td>70.2</td>\n",
       "      <td>69</td>\n",
       "      <td>61.40</td>\n",
       "      <td>2598.397406</td>\n",
       "      <td>0</td>\n",
       "      <td>0</td>\n",
       "      <td>...</td>\n",
       "      <td>27.666667</td>\n",
       "      <td>0.000000</td>\n",
       "      <td>98.416667</td>\n",
       "      <td>2</td>\n",
       "      <td>25</td>\n",
       "      <td>0</td>\n",
       "      <td>0</td>\n",
       "      <td>0.0</td>\n",
       "      <td>90109916</td>\n",
       "      <td>AouXr0EOUtSRdiYK</td>\n",
       "    </tr>\n",
       "    <tr>\n",
       "      <th>3</th>\n",
       "      <td>4</td>\n",
       "      <td>0</td>\n",
       "      <td>134</td>\n",
       "      <td>87.95</td>\n",
       "      <td>81.4</td>\n",
       "      <td>76</td>\n",
       "      <td>88.30</td>\n",
       "      <td>988.440563</td>\n",
       "      <td>0</td>\n",
       "      <td>0</td>\n",
       "      <td>...</td>\n",
       "      <td>89.900000</td>\n",
       "      <td>74.483333</td>\n",
       "      <td>121.833333</td>\n",
       "      <td>1</td>\n",
       "      <td>44</td>\n",
       "      <td>0</td>\n",
       "      <td>0</td>\n",
       "      <td>0.0</td>\n",
       "      <td>89950166</td>\n",
       "      <td>Yds7U30hnRZDiLtb</td>\n",
       "    </tr>\n",
       "    <tr>\n",
       "      <th>4</th>\n",
       "      <td>4</td>\n",
       "      <td>0</td>\n",
       "      <td>84</td>\n",
       "      <td>317.04</td>\n",
       "      <td>314.08</td>\n",
       "      <td>435.51</td>\n",
       "      <td>413.05</td>\n",
       "      <td>5885.800642</td>\n",
       "      <td>0</td>\n",
       "      <td>1</td>\n",
       "      <td>...</td>\n",
       "      <td>0.000000</td>\n",
       "      <td>35.100000</td>\n",
       "      <td>496.733333</td>\n",
       "      <td>1</td>\n",
       "      <td>31</td>\n",
       "      <td>2</td>\n",
       "      <td>1</td>\n",
       "      <td>0.0</td>\n",
       "      <td>99999825</td>\n",
       "      <td>OFDTSXrhN9Q2mbVw</td>\n",
       "    </tr>\n",
       "  </tbody>\n",
       "</table>\n",
       "<p>5 rows × 27 columns</p>\n",
       "</div>"
      ],
      "text/plain": [
       "   service_type  is_mix_service  online_time  1_total_fee 2_total_fee  \\\n",
       "0             4               0           85       295.96       296.2   \n",
       "1             1               0           10       265.20       261.2   \n",
       "2             1               0           12        44.50        70.2   \n",
       "3             4               0          134        87.95        81.4   \n",
       "4             4               0           84       317.04      314.08   \n",
       "\n",
       "  3_total_fee  4_total_fee  month_traffic  many_over_bill  contract_type  \\\n",
       "0         296       296.80    3813.614698               0              1   \n",
       "1       208.5       174.50       0.000000               1              0   \n",
       "2          69        61.40    2598.397406               0              0   \n",
       "3          76        88.30     988.440563               0              0   \n",
       "4      435.51       413.05    5885.800642               0              1   \n",
       "\n",
       "         ...         local_caller_time  service1_caller_time  \\\n",
       "0        ...                108.100000              0.000000   \n",
       "1        ...                240.100000            355.166667   \n",
       "2        ...                 27.666667              0.000000   \n",
       "3        ...                 89.900000             74.483333   \n",
       "4        ...                  0.000000             35.100000   \n",
       "\n",
       "   service2_caller_time  gender  age  complaint_level  former_complaint_num  \\\n",
       "0            564.366667       1   31                0                     0   \n",
       "1              0.000000       1   30                0                     0   \n",
       "2             98.416667       2   25                0                     0   \n",
       "3            121.833333       1   44                0                     0   \n",
       "4            496.733333       1   31                2                     1   \n",
       "\n",
       "   former_complaint_fee  current_service           user_id  \n",
       "0                   0.0         99999825  Gx4sJzcQog01UhZL  \n",
       "1                   0.0         90063345  kEXrhTiug93DIcLG  \n",
       "2                   0.0         90109916  AouXr0EOUtSRdiYK  \n",
       "3                   0.0         89950166  Yds7U30hnRZDiLtb  \n",
       "4                   0.0         99999825  OFDTSXrhN9Q2mbVw  \n",
       "\n",
       "[5 rows x 27 columns]"
      ]
     },
     "execution_count": 1223,
     "metadata": {},
     "output_type": "execute_result"
    }
   ],
   "source": [
    "train.head()"
   ]
  },
  {
   "cell_type": "code",
   "execution_count": 1313,
   "metadata": {},
   "outputs": [
    {
     "data": {
      "text/html": [
       "<div>\n",
       "<style scoped>\n",
       "    .dataframe tbody tr th:only-of-type {\n",
       "        vertical-align: middle;\n",
       "    }\n",
       "\n",
       "    .dataframe tbody tr th {\n",
       "        vertical-align: top;\n",
       "    }\n",
       "\n",
       "    .dataframe thead th {\n",
       "        text-align: right;\n",
       "    }\n",
       "</style>\n",
       "<table border=\"1\" class=\"dataframe\">\n",
       "  <thead>\n",
       "    <tr style=\"text-align: right;\">\n",
       "      <th></th>\n",
       "      <th>month_traffic</th>\n",
       "      <th>last_month_traffic</th>\n",
       "      <th>local_trafffic_month</th>\n",
       "    </tr>\n",
       "  </thead>\n",
       "  <tbody>\n",
       "    <tr>\n",
       "      <th>0</th>\n",
       "      <td>3813.614698</td>\n",
       "      <td>4.096000e+03</td>\n",
       "      <td>1392.038508</td>\n",
       "    </tr>\n",
       "    <tr>\n",
       "      <th>1</th>\n",
       "      <td>0.000000</td>\n",
       "      <td>0.000000e+00</td>\n",
       "      <td>62852.509718</td>\n",
       "    </tr>\n",
       "    <tr>\n",
       "      <th>2</th>\n",
       "      <td>2598.397406</td>\n",
       "      <td>0.000000e+00</td>\n",
       "      <td>1935.242104</td>\n",
       "    </tr>\n",
       "    <tr>\n",
       "      <th>3</th>\n",
       "      <td>988.440563</td>\n",
       "      <td>3.733642e+01</td>\n",
       "      <td>988.561075</td>\n",
       "    </tr>\n",
       "    <tr>\n",
       "      <th>4</th>\n",
       "      <td>5885.800642</td>\n",
       "      <td>3.305741e+03</td>\n",
       "      <td>0.000000</td>\n",
       "    </tr>\n",
       "    <tr>\n",
       "      <th>5</th>\n",
       "      <td>218.003452</td>\n",
       "      <td>4.592940e+02</td>\n",
       "      <td>218.003452</td>\n",
       "    </tr>\n",
       "    <tr>\n",
       "      <th>6</th>\n",
       "      <td>0.000000</td>\n",
       "      <td>0.000000e+00</td>\n",
       "      <td>0.000000</td>\n",
       "    </tr>\n",
       "    <tr>\n",
       "      <th>7</th>\n",
       "      <td>0.000000</td>\n",
       "      <td>0.000000e+00</td>\n",
       "      <td>3420.079102</td>\n",
       "    </tr>\n",
       "    <tr>\n",
       "      <th>8</th>\n",
       "      <td>635.946276</td>\n",
       "      <td>1.024000e+03</td>\n",
       "      <td>635.978400</td>\n",
       "    </tr>\n",
       "    <tr>\n",
       "      <th>9</th>\n",
       "      <td>0.002190</td>\n",
       "      <td>1.500000e+02</td>\n",
       "      <td>0.002190</td>\n",
       "    </tr>\n",
       "    <tr>\n",
       "      <th>10</th>\n",
       "      <td>230.273015</td>\n",
       "      <td>5.000000e+02</td>\n",
       "      <td>22.655023</td>\n",
       "    </tr>\n",
       "    <tr>\n",
       "      <th>11</th>\n",
       "      <td>0.000000</td>\n",
       "      <td>0.000000e+00</td>\n",
       "      <td>7830.505474</td>\n",
       "    </tr>\n",
       "    <tr>\n",
       "      <th>12</th>\n",
       "      <td>0.000000</td>\n",
       "      <td>8.000000e+02</td>\n",
       "      <td>0.000000</td>\n",
       "    </tr>\n",
       "    <tr>\n",
       "      <th>13</th>\n",
       "      <td>3048.047233</td>\n",
       "      <td>0.000000e+00</td>\n",
       "      <td>2877.650042</td>\n",
       "    </tr>\n",
       "    <tr>\n",
       "      <th>14</th>\n",
       "      <td>683.888563</td>\n",
       "      <td>0.000000e+00</td>\n",
       "      <td>699.484269</td>\n",
       "    </tr>\n",
       "    <tr>\n",
       "      <th>15</th>\n",
       "      <td>0.000000</td>\n",
       "      <td>0.000000e+00</td>\n",
       "      <td>46671.923997</td>\n",
       "    </tr>\n",
       "    <tr>\n",
       "      <th>16</th>\n",
       "      <td>1490.740294</td>\n",
       "      <td>8.653767e+02</td>\n",
       "      <td>892.298403</td>\n",
       "    </tr>\n",
       "    <tr>\n",
       "      <th>17</th>\n",
       "      <td>3882.650403</td>\n",
       "      <td>0.000000e+00</td>\n",
       "      <td>3337.917841</td>\n",
       "    </tr>\n",
       "    <tr>\n",
       "      <th>18</th>\n",
       "      <td>0.000000</td>\n",
       "      <td>0.000000e+00</td>\n",
       "      <td>0.000000</td>\n",
       "    </tr>\n",
       "    <tr>\n",
       "      <th>19</th>\n",
       "      <td>0.000000</td>\n",
       "      <td>0.000000e+00</td>\n",
       "      <td>3.842385</td>\n",
       "    </tr>\n",
       "    <tr>\n",
       "      <th>20</th>\n",
       "      <td>1824.925221</td>\n",
       "      <td>8.000000e+02</td>\n",
       "      <td>1545.382987</td>\n",
       "    </tr>\n",
       "    <tr>\n",
       "      <th>21</th>\n",
       "      <td>0.000000</td>\n",
       "      <td>0.000000e+00</td>\n",
       "      <td>0.000000</td>\n",
       "    </tr>\n",
       "    <tr>\n",
       "      <th>22</th>\n",
       "      <td>500.000000</td>\n",
       "      <td>0.000000e+00</td>\n",
       "      <td>1430.710204</td>\n",
       "    </tr>\n",
       "    <tr>\n",
       "      <th>23</th>\n",
       "      <td>0.000000</td>\n",
       "      <td>0.000000e+00</td>\n",
       "      <td>8121.108418</td>\n",
       "    </tr>\n",
       "    <tr>\n",
       "      <th>24</th>\n",
       "      <td>0.000000</td>\n",
       "      <td>0.000000e+00</td>\n",
       "      <td>17173.212537</td>\n",
       "    </tr>\n",
       "    <tr>\n",
       "      <th>25</th>\n",
       "      <td>2785.341695</td>\n",
       "      <td>1.975834e+03</td>\n",
       "      <td>0.000000</td>\n",
       "    </tr>\n",
       "    <tr>\n",
       "      <th>26</th>\n",
       "      <td>14946.728151</td>\n",
       "      <td>4.000599e+02</td>\n",
       "      <td>14946.734900</td>\n",
       "    </tr>\n",
       "    <tr>\n",
       "      <th>27</th>\n",
       "      <td>5078.918970</td>\n",
       "      <td>1.024000e+03</td>\n",
       "      <td>4511.737503</td>\n",
       "    </tr>\n",
       "    <tr>\n",
       "      <th>28</th>\n",
       "      <td>591.061872</td>\n",
       "      <td>8.000000e+02</td>\n",
       "      <td>479.671385</td>\n",
       "    </tr>\n",
       "    <tr>\n",
       "      <th>29</th>\n",
       "      <td>6.233837</td>\n",
       "      <td>3.072000e+03</td>\n",
       "      <td>0.000000</td>\n",
       "    </tr>\n",
       "    <tr>\n",
       "      <th>...</th>\n",
       "      <td>...</td>\n",
       "      <td>...</td>\n",
       "      <td>...</td>\n",
       "    </tr>\n",
       "    <tr>\n",
       "      <th>612616</th>\n",
       "      <td>0.000000</td>\n",
       "      <td>0.000000e+00</td>\n",
       "      <td>39141.179196</td>\n",
       "    </tr>\n",
       "    <tr>\n",
       "      <th>612617</th>\n",
       "      <td>2811.043504</td>\n",
       "      <td>0.000000e+00</td>\n",
       "      <td>2860.367636</td>\n",
       "    </tr>\n",
       "    <tr>\n",
       "      <th>612618</th>\n",
       "      <td>0.000000</td>\n",
       "      <td>2.134016e+06</td>\n",
       "      <td>596.478516</td>\n",
       "    </tr>\n",
       "    <tr>\n",
       "      <th>612619</th>\n",
       "      <td>7393.227899</td>\n",
       "      <td>2.645565e+03</td>\n",
       "      <td>7393.806967</td>\n",
       "    </tr>\n",
       "    <tr>\n",
       "      <th>612620</th>\n",
       "      <td>1258.683954</td>\n",
       "      <td>1.383766e+02</td>\n",
       "      <td>1258.672507</td>\n",
       "    </tr>\n",
       "    <tr>\n",
       "      <th>612621</th>\n",
       "      <td>0.000000</td>\n",
       "      <td>0.000000e+00</td>\n",
       "      <td>22096.717445</td>\n",
       "    </tr>\n",
       "    <tr>\n",
       "      <th>612622</th>\n",
       "      <td>0.000000</td>\n",
       "      <td>8.962048e+06</td>\n",
       "      <td>7022.675781</td>\n",
       "    </tr>\n",
       "    <tr>\n",
       "      <th>612623</th>\n",
       "      <td>0.000000</td>\n",
       "      <td>0.000000e+00</td>\n",
       "      <td>6241.599784</td>\n",
       "    </tr>\n",
       "    <tr>\n",
       "      <th>612624</th>\n",
       "      <td>0.000000</td>\n",
       "      <td>0.000000e+00</td>\n",
       "      <td>7157.484210</td>\n",
       "    </tr>\n",
       "    <tr>\n",
       "      <th>612625</th>\n",
       "      <td>1118.565297</td>\n",
       "      <td>0.000000e+00</td>\n",
       "      <td>3929.173550</td>\n",
       "    </tr>\n",
       "    <tr>\n",
       "      <th>612626</th>\n",
       "      <td>3633.110400</td>\n",
       "      <td>1.617227e+03</td>\n",
       "      <td>3774.205495</td>\n",
       "    </tr>\n",
       "    <tr>\n",
       "      <th>612627</th>\n",
       "      <td>0.000000</td>\n",
       "      <td>0.000000e+00</td>\n",
       "      <td>2327.771006</td>\n",
       "    </tr>\n",
       "    <tr>\n",
       "      <th>612628</th>\n",
       "      <td>0.000000</td>\n",
       "      <td>0.000000e+00</td>\n",
       "      <td>8157.077628</td>\n",
       "    </tr>\n",
       "    <tr>\n",
       "      <th>612629</th>\n",
       "      <td>816.720317</td>\n",
       "      <td>8.000000e+02</td>\n",
       "      <td>764.853554</td>\n",
       "    </tr>\n",
       "    <tr>\n",
       "      <th>612630</th>\n",
       "      <td>619.480688</td>\n",
       "      <td>1.024000e+03</td>\n",
       "      <td>437.328762</td>\n",
       "    </tr>\n",
       "    <tr>\n",
       "      <th>612631</th>\n",
       "      <td>794.634532</td>\n",
       "      <td>4.000000e+02</td>\n",
       "      <td>764.786456</td>\n",
       "    </tr>\n",
       "    <tr>\n",
       "      <th>612632</th>\n",
       "      <td>922.400115</td>\n",
       "      <td>8.000000e+02</td>\n",
       "      <td>769.293308</td>\n",
       "    </tr>\n",
       "    <tr>\n",
       "      <th>612633</th>\n",
       "      <td>0.000000</td>\n",
       "      <td>0.000000e+00</td>\n",
       "      <td>173.418791</td>\n",
       "    </tr>\n",
       "    <tr>\n",
       "      <th>612634</th>\n",
       "      <td>0.000000</td>\n",
       "      <td>0.000000e+00</td>\n",
       "      <td>22530.632041</td>\n",
       "    </tr>\n",
       "    <tr>\n",
       "      <th>612635</th>\n",
       "      <td>0.000000</td>\n",
       "      <td>0.000000e+00</td>\n",
       "      <td>6005.042532</td>\n",
       "    </tr>\n",
       "    <tr>\n",
       "      <th>612636</th>\n",
       "      <td>0.000000</td>\n",
       "      <td>0.000000e+00</td>\n",
       "      <td>13600.942320</td>\n",
       "    </tr>\n",
       "    <tr>\n",
       "      <th>612637</th>\n",
       "      <td>0.000000</td>\n",
       "      <td>0.000000e+00</td>\n",
       "      <td>0.000000</td>\n",
       "    </tr>\n",
       "    <tr>\n",
       "      <th>612638</th>\n",
       "      <td>0.000000</td>\n",
       "      <td>0.000000e+00</td>\n",
       "      <td>26987.111034</td>\n",
       "    </tr>\n",
       "    <tr>\n",
       "      <th>612639</th>\n",
       "      <td>3396.825494</td>\n",
       "      <td>0.000000e+00</td>\n",
       "      <td>3396.850797</td>\n",
       "    </tr>\n",
       "    <tr>\n",
       "      <th>612640</th>\n",
       "      <td>653.175931</td>\n",
       "      <td>3.796427e+02</td>\n",
       "      <td>492.228704</td>\n",
       "    </tr>\n",
       "    <tr>\n",
       "      <th>612641</th>\n",
       "      <td>731.053829</td>\n",
       "      <td>0.000000e+00</td>\n",
       "      <td>0.000000</td>\n",
       "    </tr>\n",
       "    <tr>\n",
       "      <th>612642</th>\n",
       "      <td>442.822695</td>\n",
       "      <td>8.000000e+02</td>\n",
       "      <td>442.775627</td>\n",
       "    </tr>\n",
       "    <tr>\n",
       "      <th>612643</th>\n",
       "      <td>889.596222</td>\n",
       "      <td>1.024000e+03</td>\n",
       "      <td>697.836780</td>\n",
       "    </tr>\n",
       "    <tr>\n",
       "      <th>612644</th>\n",
       "      <td>0.003510</td>\n",
       "      <td>5.000000e+02</td>\n",
       "      <td>0.018341</td>\n",
       "    </tr>\n",
       "    <tr>\n",
       "      <th>612645</th>\n",
       "      <td>3365.555038</td>\n",
       "      <td>0.000000e+00</td>\n",
       "      <td>3365.600807</td>\n",
       "    </tr>\n",
       "  </tbody>\n",
       "</table>\n",
       "<p>612646 rows × 3 columns</p>\n",
       "</div>"
      ],
      "text/plain": [
       "        month_traffic  last_month_traffic  local_trafffic_month\n",
       "0         3813.614698        4.096000e+03           1392.038508\n",
       "1            0.000000        0.000000e+00          62852.509718\n",
       "2         2598.397406        0.000000e+00           1935.242104\n",
       "3          988.440563        3.733642e+01            988.561075\n",
       "4         5885.800642        3.305741e+03              0.000000\n",
       "5          218.003452        4.592940e+02            218.003452\n",
       "6            0.000000        0.000000e+00              0.000000\n",
       "7            0.000000        0.000000e+00           3420.079102\n",
       "8          635.946276        1.024000e+03            635.978400\n",
       "9            0.002190        1.500000e+02              0.002190\n",
       "10         230.273015        5.000000e+02             22.655023\n",
       "11           0.000000        0.000000e+00           7830.505474\n",
       "12           0.000000        8.000000e+02              0.000000\n",
       "13        3048.047233        0.000000e+00           2877.650042\n",
       "14         683.888563        0.000000e+00            699.484269\n",
       "15           0.000000        0.000000e+00          46671.923997\n",
       "16        1490.740294        8.653767e+02            892.298403\n",
       "17        3882.650403        0.000000e+00           3337.917841\n",
       "18           0.000000        0.000000e+00              0.000000\n",
       "19           0.000000        0.000000e+00              3.842385\n",
       "20        1824.925221        8.000000e+02           1545.382987\n",
       "21           0.000000        0.000000e+00              0.000000\n",
       "22         500.000000        0.000000e+00           1430.710204\n",
       "23           0.000000        0.000000e+00           8121.108418\n",
       "24           0.000000        0.000000e+00          17173.212537\n",
       "25        2785.341695        1.975834e+03              0.000000\n",
       "26       14946.728151        4.000599e+02          14946.734900\n",
       "27        5078.918970        1.024000e+03           4511.737503\n",
       "28         591.061872        8.000000e+02            479.671385\n",
       "29           6.233837        3.072000e+03              0.000000\n",
       "...               ...                 ...                   ...\n",
       "612616       0.000000        0.000000e+00          39141.179196\n",
       "612617    2811.043504        0.000000e+00           2860.367636\n",
       "612618       0.000000        2.134016e+06            596.478516\n",
       "612619    7393.227899        2.645565e+03           7393.806967\n",
       "612620    1258.683954        1.383766e+02           1258.672507\n",
       "612621       0.000000        0.000000e+00          22096.717445\n",
       "612622       0.000000        8.962048e+06           7022.675781\n",
       "612623       0.000000        0.000000e+00           6241.599784\n",
       "612624       0.000000        0.000000e+00           7157.484210\n",
       "612625    1118.565297        0.000000e+00           3929.173550\n",
       "612626    3633.110400        1.617227e+03           3774.205495\n",
       "612627       0.000000        0.000000e+00           2327.771006\n",
       "612628       0.000000        0.000000e+00           8157.077628\n",
       "612629     816.720317        8.000000e+02            764.853554\n",
       "612630     619.480688        1.024000e+03            437.328762\n",
       "612631     794.634532        4.000000e+02            764.786456\n",
       "612632     922.400115        8.000000e+02            769.293308\n",
       "612633       0.000000        0.000000e+00            173.418791\n",
       "612634       0.000000        0.000000e+00          22530.632041\n",
       "612635       0.000000        0.000000e+00           6005.042532\n",
       "612636       0.000000        0.000000e+00          13600.942320\n",
       "612637       0.000000        0.000000e+00              0.000000\n",
       "612638       0.000000        0.000000e+00          26987.111034\n",
       "612639    3396.825494        0.000000e+00           3396.850797\n",
       "612640     653.175931        3.796427e+02            492.228704\n",
       "612641     731.053829        0.000000e+00              0.000000\n",
       "612642     442.822695        8.000000e+02            442.775627\n",
       "612643     889.596222        1.024000e+03            697.836780\n",
       "612644       0.003510        5.000000e+02              0.018341\n",
       "612645    3365.555038        0.000000e+00           3365.600807\n",
       "\n",
       "[612646 rows x 3 columns]"
      ]
     },
     "execution_count": 1313,
     "metadata": {},
     "output_type": "execute_result"
    }
   ],
   "source": [
    "train[['month_traffic', 'last_month_traffic', 'local_trafffic_month']]"
   ]
  },
  {
   "cell_type": "code",
   "execution_count": 1314,
   "metadata": {},
   "outputs": [
    {
     "data": {
      "text/plain": [
       "0     5205.653206\n",
       "1    62852.509718\n",
       "2     4533.639510\n",
       "3     1977.001638\n",
       "4     5885.800642\n",
       "dtype: float64"
      ]
     },
     "execution_count": 1314,
     "metadata": {},
     "output_type": "execute_result"
    }
   ],
   "source": [
    "# trr = train['month_traffic'] - train['last_month_traffic'] + train['local_trafffic_month']\n",
    "trr = train['month_traffic'] + train['local_trafffic_month']\n",
    "\n",
    "trr.head()"
   ]
  },
  {
   "cell_type": "code",
   "execution_count": 1224,
   "metadata": {},
   "outputs": [],
   "source": [
    "temp = train[train['current_service'] == 89016252]"
   ]
  },
  {
   "cell_type": "code",
   "execution_count": 1225,
   "metadata": {},
   "outputs": [
    {
     "data": {
      "text/html": [
       "<div>\n",
       "<style scoped>\n",
       "    .dataframe tbody tr th:only-of-type {\n",
       "        vertical-align: middle;\n",
       "    }\n",
       "\n",
       "    .dataframe tbody tr th {\n",
       "        vertical-align: top;\n",
       "    }\n",
       "\n",
       "    .dataframe thead th {\n",
       "        text-align: right;\n",
       "    }\n",
       "</style>\n",
       "<table border=\"1\" class=\"dataframe\">\n",
       "  <thead>\n",
       "    <tr style=\"text-align: right;\">\n",
       "      <th></th>\n",
       "      <th>service_type</th>\n",
       "      <th>is_mix_service</th>\n",
       "      <th>online_time</th>\n",
       "      <th>1_total_fee</th>\n",
       "      <th>2_total_fee</th>\n",
       "      <th>3_total_fee</th>\n",
       "      <th>4_total_fee</th>\n",
       "      <th>month_traffic</th>\n",
       "      <th>many_over_bill</th>\n",
       "      <th>contract_type</th>\n",
       "      <th>...</th>\n",
       "      <th>local_trafffic_month</th>\n",
       "      <th>local_caller_time</th>\n",
       "      <th>service1_caller_time</th>\n",
       "      <th>service2_caller_time</th>\n",
       "      <th>gender</th>\n",
       "      <th>age</th>\n",
       "      <th>complaint_level</th>\n",
       "      <th>former_complaint_num</th>\n",
       "      <th>former_complaint_fee</th>\n",
       "      <th>user_id</th>\n",
       "    </tr>\n",
       "  </thead>\n",
       "  <tbody>\n",
       "    <tr>\n",
       "      <th>0</th>\n",
       "      <td>4</td>\n",
       "      <td>0</td>\n",
       "      <td>193</td>\n",
       "      <td>80.00</td>\n",
       "      <td>80</td>\n",
       "      <td>80</td>\n",
       "      <td>80.00</td>\n",
       "      <td>872.042338</td>\n",
       "      <td>0</td>\n",
       "      <td>0</td>\n",
       "      <td>...</td>\n",
       "      <td>594.585080</td>\n",
       "      <td>130.316667</td>\n",
       "      <td>8.050000</td>\n",
       "      <td>146.666667</td>\n",
       "      <td>1</td>\n",
       "      <td>60</td>\n",
       "      <td>0</td>\n",
       "      <td>0</td>\n",
       "      <td>0</td>\n",
       "      <td>iC37kmjDBqrctznl</td>\n",
       "    </tr>\n",
       "    <tr>\n",
       "      <th>1</th>\n",
       "      <td>1</td>\n",
       "      <td>0</td>\n",
       "      <td>5</td>\n",
       "      <td>86.70</td>\n",
       "      <td>74.2</td>\n",
       "      <td>57.1</td>\n",
       "      <td>68.90</td>\n",
       "      <td>200.000000</td>\n",
       "      <td>1</td>\n",
       "      <td>0</td>\n",
       "      <td>...</td>\n",
       "      <td>0.000000</td>\n",
       "      <td>0.000000</td>\n",
       "      <td>104.483333</td>\n",
       "      <td>0.000000</td>\n",
       "      <td>1</td>\n",
       "      <td>22</td>\n",
       "      <td>0</td>\n",
       "      <td>0</td>\n",
       "      <td>0</td>\n",
       "      <td>jSf9GCWynNVFwOtQ</td>\n",
       "    </tr>\n",
       "    <tr>\n",
       "      <th>2</th>\n",
       "      <td>4</td>\n",
       "      <td>0</td>\n",
       "      <td>62</td>\n",
       "      <td>90.90</td>\n",
       "      <td>127.35</td>\n",
       "      <td>82.6</td>\n",
       "      <td>91.00</td>\n",
       "      <td>22927.945140</td>\n",
       "      <td>0</td>\n",
       "      <td>9</td>\n",
       "      <td>...</td>\n",
       "      <td>22915.222530</td>\n",
       "      <td>202.916667</td>\n",
       "      <td>85.600000</td>\n",
       "      <td>165.733333</td>\n",
       "      <td>1</td>\n",
       "      <td>29</td>\n",
       "      <td>2</td>\n",
       "      <td>1</td>\n",
       "      <td>0</td>\n",
       "      <td>j5hsAm8YagTcRXiB</td>\n",
       "    </tr>\n",
       "    <tr>\n",
       "      <th>3</th>\n",
       "      <td>4</td>\n",
       "      <td>0</td>\n",
       "      <td>87</td>\n",
       "      <td>95.45</td>\n",
       "      <td>154.65</td>\n",
       "      <td>75.95</td>\n",
       "      <td>143.35</td>\n",
       "      <td>4793.146457</td>\n",
       "      <td>0</td>\n",
       "      <td>1</td>\n",
       "      <td>...</td>\n",
       "      <td>4793.167977</td>\n",
       "      <td>66.083333</td>\n",
       "      <td>143.883333</td>\n",
       "      <td>131.783333</td>\n",
       "      <td>2</td>\n",
       "      <td>41</td>\n",
       "      <td>0</td>\n",
       "      <td>0</td>\n",
       "      <td>0</td>\n",
       "      <td>6EC1H9IjDYcGFP4v</td>\n",
       "    </tr>\n",
       "    <tr>\n",
       "      <th>4</th>\n",
       "      <td>4</td>\n",
       "      <td>0</td>\n",
       "      <td>53</td>\n",
       "      <td>76.00</td>\n",
       "      <td>86</td>\n",
       "      <td>76</td>\n",
       "      <td>76.00</td>\n",
       "      <td>563.253649</td>\n",
       "      <td>0</td>\n",
       "      <td>0</td>\n",
       "      <td>...</td>\n",
       "      <td>0.000000</td>\n",
       "      <td>0.000000</td>\n",
       "      <td>0.000000</td>\n",
       "      <td>3.300000</td>\n",
       "      <td>2</td>\n",
       "      <td>30</td>\n",
       "      <td>0</td>\n",
       "      <td>0</td>\n",
       "      <td>0</td>\n",
       "      <td>a0utDgZkXvJ1oFOs</td>\n",
       "    </tr>\n",
       "  </tbody>\n",
       "</table>\n",
       "<p>5 rows × 26 columns</p>\n",
       "</div>"
      ],
      "text/plain": [
       "   service_type  is_mix_service  online_time  1_total_fee 2_total_fee  \\\n",
       "0             4               0          193        80.00          80   \n",
       "1             1               0            5        86.70        74.2   \n",
       "2             4               0           62        90.90      127.35   \n",
       "3             4               0           87        95.45      154.65   \n",
       "4             4               0           53        76.00          86   \n",
       "\n",
       "  3_total_fee  4_total_fee  month_traffic  many_over_bill  contract_type  \\\n",
       "0          80        80.00     872.042338               0              0   \n",
       "1        57.1        68.90     200.000000               1              0   \n",
       "2        82.6        91.00   22927.945140               0              9   \n",
       "3       75.95       143.35    4793.146457               0              1   \n",
       "4          76        76.00     563.253649               0              0   \n",
       "\n",
       "         ...         local_trafffic_month  local_caller_time  \\\n",
       "0        ...                   594.585080         130.316667   \n",
       "1        ...                     0.000000           0.000000   \n",
       "2        ...                 22915.222530         202.916667   \n",
       "3        ...                  4793.167977          66.083333   \n",
       "4        ...                     0.000000           0.000000   \n",
       "\n",
       "   service1_caller_time  service2_caller_time  gender  age  complaint_level  \\\n",
       "0              8.050000            146.666667       1   60                0   \n",
       "1            104.483333              0.000000       1   22                0   \n",
       "2             85.600000            165.733333       1   29                2   \n",
       "3            143.883333            131.783333       2   41                0   \n",
       "4              0.000000              3.300000       2   30                0   \n",
       "\n",
       "   former_complaint_num  former_complaint_fee           user_id  \n",
       "0                     0                     0  iC37kmjDBqrctznl  \n",
       "1                     0                     0  jSf9GCWynNVFwOtQ  \n",
       "2                     1                     0  j5hsAm8YagTcRXiB  \n",
       "3                     0                     0  6EC1H9IjDYcGFP4v  \n",
       "4                     0                     0  a0utDgZkXvJ1oFOs  \n",
       "\n",
       "[5 rows x 26 columns]"
      ]
     },
     "execution_count": 1225,
     "metadata": {},
     "output_type": "execute_result"
    }
   ],
   "source": [
    "test.head()"
   ]
  },
  {
   "cell_type": "code",
   "execution_count": 1226,
   "metadata": {},
   "outputs": [],
   "source": [
    "n_train = train.shape[0]\n",
    "n_test = test.shape[0]"
   ]
  },
  {
   "cell_type": "code",
   "execution_count": 1227,
   "metadata": {},
   "outputs": [],
   "source": [
    "train_id = train['user_id']\n",
    "train.drop('user_id', axis = 1, inplace = True)\n",
    "test_id = test['user_id']\n",
    "test.drop('user_id', axis = 1, inplace = True)"
   ]
  },
  {
   "cell_type": "code",
   "execution_count": 1228,
   "metadata": {},
   "outputs": [],
   "source": [
    "y_train = train['current_service']\n",
    "# train['train_y'] = train_y\n",
    "# train.drop('current_service', axis = 1, inplace = True)"
   ]
  },
  {
   "cell_type": "code",
   "execution_count": 1229,
   "metadata": {},
   "outputs": [],
   "source": [
    "service_type = train['service_type']"
   ]
  },
  {
   "cell_type": "code",
   "execution_count": 1230,
   "metadata": {},
   "outputs": [],
   "source": [
    "all_data = pd.concat((train, test)).reset_index(drop=True)"
   ]
  },
  {
   "cell_type": "code",
   "execution_count": 1231,
   "metadata": {},
   "outputs": [
    {
     "name": "stdout",
     "output_type": "stream",
     "text": [
      "<class 'pandas.core.frame.DataFrame'>\n",
      "RangeIndex: 612652 entries, 0 to 612651\n",
      "Data columns (total 26 columns):\n",
      "service_type              612652 non-null int64\n",
      "is_mix_service            612652 non-null int64\n",
      "online_time               612652 non-null int64\n",
      "1_total_fee               612652 non-null float64\n",
      "2_total_fee               612652 non-null object\n",
      "3_total_fee               612652 non-null object\n",
      "4_total_fee               612652 non-null float64\n",
      "month_traffic             612652 non-null float64\n",
      "many_over_bill            612652 non-null int64\n",
      "contract_type             612652 non-null int64\n",
      "contract_time             612652 non-null int64\n",
      "is_promise_low_consume    612652 non-null int64\n",
      "net_service               612652 non-null int64\n",
      "pay_times                 612652 non-null int64\n",
      "pay_num                   612652 non-null float64\n",
      "last_month_traffic        612652 non-null float64\n",
      "local_trafffic_month      612652 non-null float64\n",
      "local_caller_time         612652 non-null float64\n",
      "service1_caller_time      612652 non-null float64\n",
      "service2_caller_time      612652 non-null float64\n",
      "gender                    612652 non-null object\n",
      "age                       612652 non-null object\n",
      "complaint_level           612652 non-null int64\n",
      "former_complaint_num      612652 non-null int64\n",
      "former_complaint_fee      612652 non-null float64\n",
      "current_service           612652 non-null int64\n",
      "dtypes: float64(10), int64(12), object(4)\n",
      "memory usage: 121.5+ MB\n"
     ]
    }
   ],
   "source": [
    "train.info()"
   ]
  },
  {
   "cell_type": "code",
   "execution_count": 1232,
   "metadata": {},
   "outputs": [
    {
     "name": "stdout",
     "output_type": "stream",
     "text": [
      "612652\n",
      "612648\n"
     ]
    }
   ],
   "source": [
    "temp = list(train['2_total_fee'])\n",
    "print(len(temp))\n",
    "i = 0\n",
    "while i < len(temp):\n",
    "    if temp[i] == '\\\\N':\n",
    "        del temp[i]\n",
    "        i -= 1\n",
    "    i += 1\n",
    "print(len(temp))\n",
    "train = train[train['2_total_fee'].isin(temp)].reset_index(drop=True)"
   ]
  },
  {
   "cell_type": "code",
   "execution_count": 1233,
   "metadata": {},
   "outputs": [
    {
     "name": "stdout",
     "output_type": "stream",
     "text": [
      "612648\n",
      "612648\n"
     ]
    }
   ],
   "source": [
    "temp = list(train['3_total_fee'])\n",
    "print(len(temp))\n",
    "i = 0\n",
    "while i < len(temp):\n",
    "    if temp[i] == '\\\\N':\n",
    "        del temp[i]\n",
    "        i -= 1\n",
    "    i += 1\n",
    "print(len(temp))\n",
    "train = train[train['3_total_fee'].isin(temp)].reset_index(drop=True)"
   ]
  },
  {
   "cell_type": "code",
   "execution_count": 1234,
   "metadata": {},
   "outputs": [
    {
     "name": "stdout",
     "output_type": "stream",
     "text": [
      "612648\n",
      "612648\n"
     ]
    }
   ],
   "source": [
    "temp = list(train['4_total_fee'])\n",
    "print(len(temp))\n",
    "i = 0\n",
    "while i < len(temp):\n",
    "    if temp[i] == '\\\\N':\n",
    "        del temp[i]\n",
    "        i -= 1\n",
    "    i += 1\n",
    "print(len(temp))\n",
    "train = train[train['4_total_fee'].isin(temp)].reset_index(drop=True)"
   ]
  },
  {
   "cell_type": "code",
   "execution_count": 1235,
   "metadata": {},
   "outputs": [
    {
     "name": "stdout",
     "output_type": "stream",
     "text": [
      "612648\n",
      "612646\n"
     ]
    }
   ],
   "source": [
    "temp = list(train['gender'])\n",
    "print(len(temp))\n",
    "num = len(temp)\n",
    "for i in range(num):\n",
    "    if(i == len(temp)):\n",
    "        break\n",
    "    if temp[i] == '\\\\N':\n",
    "        del temp[i]\n",
    "        i -= 1\n",
    "print(len(temp))\n",
    "train = train[train['gender'].isin(temp)].reset_index(drop=True)"
   ]
  },
  {
   "cell_type": "code",
   "execution_count": 1236,
   "metadata": {},
   "outputs": [],
   "source": [
    "_total_fee_2 = train['2_total_fee']\n",
    "_total_fee_2 = np.array(_total_fee_2, dtype = np.float)\n",
    "train['2_total_fee'] = pd.DataFrame(_total_fee_2)\n",
    "_total_fee_3 = train['3_total_fee']\n",
    "_total_fee_3 = np.array(_total_fee_3, dtype = np.float)\n",
    "train['3_total_fee'] = pd.DataFrame(_total_fee_3)\n",
    "gender = train['gender']\n",
    "gender = np.array(gender, dtype = np.float)\n",
    "train['gender'] = pd.DataFrame(gender)\n",
    "age = train['age']\n",
    "age = np.array(age, dtype = np.float)\n",
    "train['age'] = pd.DataFrame(age)"
   ]
  },
  {
   "cell_type": "code",
   "execution_count": 1237,
   "metadata": {},
   "outputs": [
    {
     "name": "stdout",
     "output_type": "stream",
     "text": [
      "<class 'pandas.core.frame.DataFrame'>\n",
      "RangeIndex: 612646 entries, 0 to 612645\n",
      "Data columns (total 26 columns):\n",
      "service_type              612646 non-null int64\n",
      "is_mix_service            612646 non-null int64\n",
      "online_time               612646 non-null int64\n",
      "1_total_fee               612646 non-null float64\n",
      "2_total_fee               612646 non-null float64\n",
      "3_total_fee               612646 non-null float64\n",
      "4_total_fee               612646 non-null float64\n",
      "month_traffic             612646 non-null float64\n",
      "many_over_bill            612646 non-null int64\n",
      "contract_type             612646 non-null int64\n",
      "contract_time             612646 non-null int64\n",
      "is_promise_low_consume    612646 non-null int64\n",
      "net_service               612646 non-null int64\n",
      "pay_times                 612646 non-null int64\n",
      "pay_num                   612646 non-null float64\n",
      "last_month_traffic        612646 non-null float64\n",
      "local_trafffic_month      612646 non-null float64\n",
      "local_caller_time         612646 non-null float64\n",
      "service1_caller_time      612646 non-null float64\n",
      "service2_caller_time      612646 non-null float64\n",
      "gender                    612646 non-null float64\n",
      "age                       612646 non-null float64\n",
      "complaint_level           612646 non-null int64\n",
      "former_complaint_num      612646 non-null int64\n",
      "former_complaint_fee      612646 non-null float64\n",
      "current_service           612646 non-null int64\n",
      "dtypes: float64(14), int64(12)\n",
      "memory usage: 121.5 MB\n"
     ]
    }
   ],
   "source": [
    "train.info()"
   ]
  },
  {
   "cell_type": "code",
   "execution_count": 1238,
   "metadata": {},
   "outputs": [
    {
     "data": {
      "text/plain": [
       "4    0.543462\n",
       "1    0.397304\n",
       "3    0.059233\n",
       "Name: service_type, dtype: float64"
      ]
     },
     "execution_count": 1238,
     "metadata": {},
     "output_type": "execute_result"
    }
   ],
   "source": [
    "train['service_type'].value_counts(normalize = True)"
   ]
  },
  {
   "cell_type": "code",
   "execution_count": 1239,
   "metadata": {},
   "outputs": [
    {
     "data": {
      "text/plain": [
       "service_type  current_service\n",
       "1             90063345           0.826784\n",
       "              90109916           0.109631\n",
       "              90155946           0.063585\n",
       "3             99104722           1.000000\n",
       "4             89950166           0.280075\n",
       "              89950167           0.154498\n",
       "              99999828           0.111566\n",
       "              89016252           0.109251\n",
       "              89950168           0.070026\n",
       "              99999827           0.068338\n",
       "              99999826           0.061249\n",
       "              99999830           0.044571\n",
       "              99999825           0.043018\n",
       "              89016253           0.030092\n",
       "              89016259           0.027316\n",
       "Name: current_service, dtype: float64"
      ]
     },
     "execution_count": 1239,
     "metadata": {},
     "output_type": "execute_result"
    }
   ],
   "source": [
    "train.groupby('service_type')['current_service'].value_counts(normalize = True)"
   ]
  },
  {
   "cell_type": "code",
   "execution_count": 1240,
   "metadata": {},
   "outputs": [
    {
     "data": {
      "text/plain": [
       "is_mix_service  current_service\n",
       "0               90063345           0.340589\n",
       "                89950166           0.147410\n",
       "                89950167           0.077777\n",
       "                99104722           0.061435\n",
       "                89016252           0.061395\n",
       "                99999828           0.057098\n",
       "                90109916           0.045136\n",
       "                89950168           0.039363\n",
       "                99999827           0.033869\n",
       "                99999826           0.030823\n",
       "                90155946           0.026175\n",
       "                99999830           0.025115\n",
       "                99999825           0.021487\n",
       "                89016253           0.016938\n",
       "                89016259           0.015391\n",
       "1               89950166           0.281330\n",
       "                89950167           0.250364\n",
       "                99999828           0.155692\n",
       "                99999827           0.125091\n",
       "                99999826           0.099545\n",
       "                99999825           0.074271\n",
       "                89016252           0.005009\n",
       "                89950168           0.002914\n",
       "                90063345           0.002914\n",
       "                90109916           0.001093\n",
       "                90155946           0.000729\n",
       "                89016253           0.000638\n",
       "                99999830           0.000228\n",
       "                89016259           0.000182\n",
       "Name: current_service, dtype: float64"
      ]
     },
     "execution_count": 1240,
     "metadata": {},
     "output_type": "execute_result"
    }
   ],
   "source": [
    "train['is_mix_service'].value_counts(normalize = True) \n",
    "train.groupby('is_mix_service')['current_service'].value_counts(normalize = True)"
   ]
  },
  {
   "cell_type": "code",
   "execution_count": 1241,
   "metadata": {},
   "outputs": [
    {
     "data": {
      "text/plain": [
       "count    612646.000000\n",
       "mean         42.831529\n",
       "std          45.368015\n",
       "min           1.000000\n",
       "25%          10.000000\n",
       "50%          21.000000\n",
       "75%          64.000000\n",
       "max         274.000000\n",
       "Name: online_time, dtype: float64"
      ]
     },
     "execution_count": 1241,
     "metadata": {},
     "output_type": "execute_result"
    }
   ],
   "source": [
    "train['online_time'].describe()"
   ]
  },
  {
   "cell_type": "code",
   "execution_count": 1242,
   "metadata": {},
   "outputs": [
    {
     "data": {
      "text/plain": [
       "count    612646.000000\n",
       "mean         97.412382\n",
       "std          89.426406\n",
       "min           0.000000\n",
       "25%          46.200000\n",
       "50%          72.630000\n",
       "75%         116.000000\n",
       "max        5940.830000\n",
       "Name: 1_total_fee, dtype: float64"
      ]
     },
     "execution_count": 1242,
     "metadata": {},
     "output_type": "execute_result"
    }
   ],
   "source": [
    "train['1_total_fee'].describe()"
   ]
  },
  {
   "cell_type": "code",
   "execution_count": 1243,
   "metadata": {},
   "outputs": [
    {
     "data": {
      "text/plain": [
       "count    612646.000000\n",
       "mean        102.702195\n",
       "std          97.642169\n",
       "min        -287.300000\n",
       "25%          47.200000\n",
       "50%          76.000000\n",
       "75%         126.000000\n",
       "max        5825.570000\n",
       "Name: 2_total_fee, dtype: float64"
      ]
     },
     "execution_count": 1243,
     "metadata": {},
     "output_type": "execute_result"
    }
   ],
   "source": [
    "train['2_total_fee'].describe()"
   ]
  },
  {
   "cell_type": "code",
   "execution_count": 1244,
   "metadata": {},
   "outputs": [
    {
     "data": {
      "text/plain": [
       "count    612646.000000\n",
       "mean         96.149901\n",
       "std          93.311812\n",
       "min        -276.030000\n",
       "25%          42.000000\n",
       "50%          69.000000\n",
       "75%         119.750000\n",
       "max        6965.500000\n",
       "Name: 3_total_fee, dtype: float64"
      ]
     },
     "execution_count": 1244,
     "metadata": {},
     "output_type": "execute_result"
    }
   ],
   "source": [
    "train['3_total_fee'].describe()"
   ]
  },
  {
   "cell_type": "code",
   "execution_count": 1245,
   "metadata": {},
   "outputs": [
    {
     "data": {
      "text/plain": [
       "count    612646.000000\n",
       "mean        102.871011\n",
       "std         101.235567\n",
       "min        -420.270000\n",
       "25%          44.900000\n",
       "50%          74.100000\n",
       "75%         129.200000\n",
       "max        5141.270000\n",
       "Name: 4_total_fee, dtype: float64"
      ]
     },
     "execution_count": 1245,
     "metadata": {},
     "output_type": "execute_result"
    }
   ],
   "source": [
    "train['4_total_fee'].describe()"
   ]
  },
  {
   "cell_type": "code",
   "execution_count": 1246,
   "metadata": {},
   "outputs": [
    {
     "data": {
      "text/plain": [
       "count    612646.000000\n",
       "mean       1159.344740\n",
       "std        2754.770986\n",
       "min           0.000000\n",
       "25%           0.000000\n",
       "50%         139.236942\n",
       "75%        1311.389001\n",
       "max      159057.397788\n",
       "Name: month_traffic, dtype: float64"
      ]
     },
     "execution_count": 1246,
     "metadata": {},
     "output_type": "execute_result"
    }
   ],
   "source": [
    "train['month_traffic'].describe()"
   ]
  },
  {
   "cell_type": "code",
   "execution_count": 1247,
   "metadata": {},
   "outputs": [
    {
     "name": "stdout",
     "output_type": "stream",
     "text": [
      "612646\n",
      "612646\n"
     ]
    }
   ],
   "source": [
    "temp = list(train['month_traffic'])\n",
    "print(len(temp))\n",
    "i = 0\n",
    "while i < len(temp):\n",
    "    if temp[i] == '\\\\N':\n",
    "        del temp[i]\n",
    "        i -= 1\n",
    "    elif float(temp[i]) > 200000:\n",
    "        del temp[i]\n",
    "        i -= 1\n",
    "    i += 1\n",
    "print(len(temp))\n",
    "train = train[train['month_traffic'].isin(temp)].reset_index(drop=True)"
   ]
  },
  {
   "cell_type": "code",
   "execution_count": 1248,
   "metadata": {},
   "outputs": [
    {
     "data": {
      "text/plain": [
       "count    612646.000000\n",
       "mean       1159.344740\n",
       "std        2754.770986\n",
       "min           0.000000\n",
       "25%           0.000000\n",
       "50%         139.236942\n",
       "75%        1311.389001\n",
       "max      159057.397788\n",
       "Name: month_traffic, dtype: float64"
      ]
     },
     "execution_count": 1248,
     "metadata": {},
     "output_type": "execute_result"
    }
   ],
   "source": [
    "train['month_traffic'].describe()"
   ]
  },
  {
   "cell_type": "code",
   "execution_count": 1249,
   "metadata": {},
   "outputs": [
    {
     "data": {
      "text/plain": [
       "0    0.573138\n",
       "1    0.426862\n",
       "Name: many_over_bill, dtype: float64"
      ]
     },
     "execution_count": 1249,
     "metadata": {},
     "output_type": "execute_result"
    }
   ],
   "source": [
    "train['many_over_bill'].value_counts(normalize = True) "
   ]
  },
  {
   "cell_type": "code",
   "execution_count": 1250,
   "metadata": {},
   "outputs": [
    {
     "data": {
      "text/plain": [
       "0     0.630813\n",
       "1     0.146135\n",
       "3     0.121094\n",
       "9     0.062645\n",
       "12    0.030336\n",
       "7     0.004748\n",
       "6     0.003119\n",
       "2     0.001092\n",
       "8     0.000018\n",
       "Name: contract_type, dtype: float64"
      ]
     },
     "execution_count": 1250,
     "metadata": {},
     "output_type": "execute_result"
    }
   ],
   "source": [
    "train['contract_type'].value_counts(normalize = True) "
   ]
  },
  {
   "cell_type": "code",
   "execution_count": 1251,
   "metadata": {},
   "outputs": [
    {
     "data": {
      "text/plain": [
       " 0     0.630842\n",
       " 12    0.188985\n",
       " 24    0.118657\n",
       " 36    0.026761\n",
       " 10    0.006243\n",
       " 13    0.005173\n",
       " 30    0.004389\n",
       " 23    0.002195\n",
       " 11    0.001980\n",
       " 26    0.001962\n",
       " 15    0.001660\n",
       " 18    0.001657\n",
       "-1     0.001632\n",
       " 8     0.001618\n",
       " 7     0.001208\n",
       " 34    0.001103\n",
       " 35    0.000891\n",
       " 16    0.000663\n",
       " 19    0.000519\n",
       " 17    0.000419\n",
       " 25    0.000402\n",
       " 20    0.000300\n",
       " 6     0.000165\n",
       " 29    0.000109\n",
       " 27    0.000108\n",
       " 21    0.000072\n",
       " 33    0.000064\n",
       " 31    0.000052\n",
       " 9     0.000044\n",
       " 14    0.000034\n",
       " 28    0.000024\n",
       " 32    0.000021\n",
       " 22    0.000018\n",
       " 45    0.000005\n",
       " 39    0.000005\n",
       " 48    0.000005\n",
       " 50    0.000003\n",
       " 52    0.000003\n",
       " 5     0.000003\n",
       " 37    0.000002\n",
       " 40    0.000002\n",
       "Name: contract_time, dtype: float64"
      ]
     },
     "execution_count": 1251,
     "metadata": {},
     "output_type": "execute_result"
    }
   ],
   "source": [
    "train['contract_time'].value_counts(normalize = True) "
   ]
  },
  {
   "cell_type": "code",
   "execution_count": 1252,
   "metadata": {},
   "outputs": [
    {
     "data": {
      "text/plain": [
       "0    0.933095\n",
       "1    0.066905\n",
       "Name: is_promise_low_consume, dtype: float64"
      ]
     },
     "execution_count": 1252,
     "metadata": {},
     "output_type": "execute_result"
    }
   ],
   "source": [
    "train['is_promise_low_consume'].value_counts(normalize = True) "
   ]
  },
  {
   "cell_type": "code",
   "execution_count": 1253,
   "metadata": {},
   "outputs": [
    {
     "data": {
      "text/plain": [
       "4    0.930028\n",
       "3    0.042669\n",
       "2    0.026725\n",
       "9    0.000578\n",
       "Name: net_service, dtype: float64"
      ]
     },
     "execution_count": 1253,
     "metadata": {},
     "output_type": "execute_result"
    }
   ],
   "source": [
    "train['net_service'].value_counts(normalize = True)"
   ]
  },
  {
   "cell_type": "code",
   "execution_count": 1254,
   "metadata": {},
   "outputs": [
    {
     "data": {
      "text/plain": [
       "count    612646.000000\n",
       "mean          1.908456\n",
       "std           1.490028\n",
       "min           1.000000\n",
       "25%           1.000000\n",
       "50%           1.000000\n",
       "75%           2.000000\n",
       "max         127.000000\n",
       "Name: pay_times, dtype: float64"
      ]
     },
     "execution_count": 1254,
     "metadata": {},
     "output_type": "execute_result"
    }
   ],
   "source": [
    "train['pay_times'].describe()"
   ]
  },
  {
   "cell_type": "code",
   "execution_count": 1255,
   "metadata": {},
   "outputs": [
    {
     "data": {
      "text/plain": [
       "count    612646.000000\n",
       "mean        115.742193\n",
       "std         192.293137\n",
       "min           0.010000\n",
       "25%          40.000000\n",
       "50%          80.000000\n",
       "75%         120.000000\n",
       "max       55395.030000\n",
       "Name: pay_num, dtype: float64"
      ]
     },
     "execution_count": 1255,
     "metadata": {},
     "output_type": "execute_result"
    }
   ],
   "source": [
    "train['pay_num'].describe()"
   ]
  },
  {
   "cell_type": "code",
   "execution_count": 1256,
   "metadata": {},
   "outputs": [
    {
     "data": {
      "text/plain": [
       "count    6.126460e+05\n",
       "mean     2.097039e+04\n",
       "std      2.683422e+05\n",
       "min      0.000000e+00\n",
       "25%      0.000000e+00\n",
       "50%      0.000000e+00\n",
       "75%      4.450594e+02\n",
       "max      2.716262e+07\n",
       "Name: last_month_traffic, dtype: float64"
      ]
     },
     "execution_count": 1256,
     "metadata": {},
     "output_type": "execute_result"
    }
   ],
   "source": [
    "train['last_month_traffic'].describe()"
   ]
  },
  {
   "cell_type": "code",
   "execution_count": 1257,
   "metadata": {},
   "outputs": [],
   "source": [
    "# temp = list(train['last_month_traffic'])\n",
    "# print(len(temp))\n",
    "# i = 0\n",
    "# while i < len(temp):\n",
    "#     if temp[i] == '\\\\N':\n",
    "#         del temp[i]\n",
    "#         i -= 1\n",
    "#     elif float(temp[i]) > 40000:\n",
    "#         del temp[i]\n",
    "#         i -= 1\n",
    "#     i += 1\n",
    "# print(len(temp))\n",
    "# train = train[train['last_month_traffic'].isin(temp)].reset_index(drop=True)"
   ]
  },
  {
   "cell_type": "code",
   "execution_count": 1258,
   "metadata": {},
   "outputs": [
    {
     "data": {
      "text/plain": [
       "count    6.126460e+05\n",
       "mean     2.097039e+04\n",
       "std      2.683422e+05\n",
       "min      0.000000e+00\n",
       "25%      0.000000e+00\n",
       "50%      0.000000e+00\n",
       "75%      4.450594e+02\n",
       "max      2.716262e+07\n",
       "Name: last_month_traffic, dtype: float64"
      ]
     },
     "execution_count": 1258,
     "metadata": {},
     "output_type": "execute_result"
    }
   ],
   "source": [
    "train['last_month_traffic'].describe()"
   ]
  },
  {
   "cell_type": "code",
   "execution_count": 1259,
   "metadata": {},
   "outputs": [
    {
     "data": {
      "text/plain": [
       "count    612646.000000\n",
       "mean       5828.222230\n",
       "std       11296.484120\n",
       "min           0.000000\n",
       "25%          95.322057\n",
       "50%        1262.557594\n",
       "75%        5185.040569\n",
       "max      484365.746313\n",
       "Name: local_trafffic_month, dtype: float64"
      ]
     },
     "execution_count": 1259,
     "metadata": {},
     "output_type": "execute_result"
    }
   ],
   "source": [
    "train['local_trafffic_month'].describe()"
   ]
  },
  {
   "cell_type": "code",
   "execution_count": 1260,
   "metadata": {},
   "outputs": [
    {
     "data": {
      "text/plain": [
       "count    612646.000000\n",
       "mean         59.028294\n",
       "std         115.763840\n",
       "min           0.000000\n",
       "25%           0.000000\n",
       "50%          14.066666\n",
       "75%          67.516667\n",
       "max        6461.050000\n",
       "Name: local_caller_time, dtype: float64"
      ]
     },
     "execution_count": 1260,
     "metadata": {},
     "output_type": "execute_result"
    }
   ],
   "source": [
    "train['local_caller_time'].describe()"
   ]
  },
  {
   "cell_type": "code",
   "execution_count": 1261,
   "metadata": {},
   "outputs": [
    {
     "data": {
      "text/plain": [
       "count    612646.000000\n",
       "mean         42.500430\n",
       "std         110.368497\n",
       "min           0.000000\n",
       "25%           0.000000\n",
       "50%           0.000000\n",
       "75%          34.466667\n",
       "max        5139.483333\n",
       "Name: service1_caller_time, dtype: float64"
      ]
     },
     "execution_count": 1261,
     "metadata": {},
     "output_type": "execute_result"
    }
   ],
   "source": [
    "train['service1_caller_time'].describe()"
   ]
  },
  {
   "cell_type": "code",
   "execution_count": 1262,
   "metadata": {},
   "outputs": [
    {
     "data": {
      "text/plain": [
       "count    612646.000000\n",
       "mean         84.485575\n",
       "std         137.038314\n",
       "min           0.000000\n",
       "25%           0.000000\n",
       "50%          29.150000\n",
       "75%         123.966667\n",
       "max       16454.383333\n",
       "Name: service2_caller_time, dtype: float64"
      ]
     },
     "execution_count": 1262,
     "metadata": {},
     "output_type": "execute_result"
    }
   ],
   "source": [
    "train['service2_caller_time'].describe()"
   ]
  },
  {
   "cell_type": "code",
   "execution_count": 1263,
   "metadata": {},
   "outputs": [
    {
     "data": {
      "text/plain": [
       "1.0    0.662778\n",
       "2.0    0.307388\n",
       "0.0    0.029835\n",
       "Name: gender, dtype: float64"
      ]
     },
     "execution_count": 1263,
     "metadata": {},
     "output_type": "execute_result"
    }
   ],
   "source": [
    "train['gender'].value_counts(normalize = True) "
   ]
  },
  {
   "cell_type": "code",
   "execution_count": 1264,
   "metadata": {},
   "outputs": [
    {
     "data": {
      "text/plain": [
       "count    612646.000000\n",
       "mean         31.727154\n",
       "std          12.289370\n",
       "min           0.000000\n",
       "25%          24.000000\n",
       "50%          29.000000\n",
       "75%          39.000000\n",
       "max          99.000000\n",
       "Name: age, dtype: float64"
      ]
     },
     "execution_count": 1264,
     "metadata": {},
     "output_type": "execute_result"
    }
   ],
   "source": [
    "train['age'].describe()"
   ]
  },
  {
   "cell_type": "code",
   "execution_count": 1265,
   "metadata": {},
   "outputs": [
    {
     "name": "stdout",
     "output_type": "stream",
     "text": [
      "18178\n"
     ]
    }
   ],
   "source": [
    "temp = list(train['age'])\n",
    "# print(len(temp))\n",
    "i = 0\n",
    "j = 0\n",
    "while i < len(temp):\n",
    "    if float(temp[i]) < 10 or float(temp[i]) > 80:\n",
    "        temp[i] = 30\n",
    "        j += 1\n",
    "    i += 1\n",
    "print(j)\n",
    "train['age'] = pd.Series(temp)"
   ]
  },
  {
   "cell_type": "code",
   "execution_count": 1266,
   "metadata": {},
   "outputs": [
    {
     "data": {
      "text/plain": [
       "count    612646.000000\n",
       "mean         32.592815\n",
       "std          10.953993\n",
       "min          11.000000\n",
       "25%          24.000000\n",
       "50%          30.000000\n",
       "75%          39.000000\n",
       "max          80.000000\n",
       "Name: age, dtype: float64"
      ]
     },
     "execution_count": 1266,
     "metadata": {},
     "output_type": "execute_result"
    }
   ],
   "source": [
    "train['age'].describe()"
   ]
  },
  {
   "cell_type": "code",
   "execution_count": 1267,
   "metadata": {},
   "outputs": [
    {
     "data": {
      "text/plain": [
       "0    0.897935\n",
       "1    0.087731\n",
       "2    0.011535\n",
       "3    0.002799\n",
       "Name: complaint_level, dtype: float64"
      ]
     },
     "execution_count": 1267,
     "metadata": {},
     "output_type": "execute_result"
    }
   ],
   "source": [
    "train['complaint_level'].value_counts(normalize = True) "
   ]
  },
  {
   "cell_type": "code",
   "execution_count": 1268,
   "metadata": {},
   "outputs": [],
   "source": [
    "train.drop('complaint_level', axis = 1 , inplace = True)"
   ]
  },
  {
   "cell_type": "code",
   "execution_count": 1269,
   "metadata": {},
   "outputs": [
    {
     "data": {
      "text/plain": [
       "count    612646.000000\n",
       "mean          0.139466\n",
       "std           0.491295\n",
       "min           0.000000\n",
       "25%           0.000000\n",
       "50%           0.000000\n",
       "75%           0.000000\n",
       "max          37.000000\n",
       "Name: former_complaint_num, dtype: float64"
      ]
     },
     "execution_count": 1269,
     "metadata": {},
     "output_type": "execute_result"
    }
   ],
   "source": [
    "train['former_complaint_num'].describe()"
   ]
  },
  {
   "cell_type": "code",
   "execution_count": 1270,
   "metadata": {},
   "outputs": [
    {
     "name": "stderr",
     "output_type": "stream",
     "text": [
      "Exception ignored in: <bound method DMatrix.__del__ of <xgboost.core.DMatrix object at 0x000001ABBBD42C88>>\n",
      "Traceback (most recent call last):\n",
      "  File \"e:\\Anaconda3\\lib\\site-packages\\xgboost\\core.py\", line 368, in __del__\n",
      "    if self.handle is not None:\n",
      "AttributeError: 'DMatrix' object has no attribute 'handle'\n"
     ]
    },
    {
     "data": {
      "text/plain": [
       "count    6.126460e+05\n",
       "mean     5.000731e+06\n",
       "std      2.798665e+09\n",
       "min      0.000000e+00\n",
       "25%      0.000000e+00\n",
       "50%      0.000000e+00\n",
       "75%      0.000000e+00\n",
       "max      1.762166e+12\n",
       "Name: former_complaint_fee, dtype: float64"
      ]
     },
     "execution_count": 1270,
     "metadata": {},
     "output_type": "execute_result"
    }
   ],
   "source": [
    "train['former_complaint_fee'].describe()"
   ]
  },
  {
   "cell_type": "code",
   "execution_count": 1271,
   "metadata": {},
   "outputs": [
    {
     "data": {
      "image/png": "[encoded data removed]",
      "text/plain": [
       "<matplotlib.figure.Figure at 0x1abbb99ca20>"
      ]
     },
     "metadata": {},
     "output_type": "display_data"
    }
   ],
   "source": [
    "plt.boxplot(train['former_complaint_fee'])\n",
    "plt.show()"
   ]
  },
  {
   "cell_type": "code",
   "execution_count": 1272,
   "metadata": {},
   "outputs": [
    {
     "name": "stdout",
     "output_type": "stream",
     "text": [
      "2\n"
     ]
    }
   ],
   "source": [
    "temp = list(train['former_complaint_fee'])\n",
    "# print(len(temp))\n",
    "i = 0\n",
    "j = 0\n",
    "while i < len(temp):\n",
    "    if float(temp[i]) > 1000000:\n",
    "        temp[i] = 30\n",
    "        j += 1\n",
    "    i += 1\n",
    "print(j)\n",
    "train['former_complaint_fee'] = pd.Series(temp)"
   ]
  },
  {
   "cell_type": "code",
   "execution_count": 1273,
   "metadata": {},
   "outputs": [
    {
     "data": {
      "text/plain": [
       "count    612646.000000\n",
       "mean        370.641126\n",
       "std        3663.270319\n",
       "min           0.000000\n",
       "25%           0.000000\n",
       "50%           0.000000\n",
       "75%           0.000000\n",
       "max      566000.000000\n",
       "Name: former_complaint_fee, dtype: float64"
      ]
     },
     "execution_count": 1273,
     "metadata": {},
     "output_type": "execute_result"
    }
   ],
   "source": [
    "train['former_complaint_fee'].describe()"
   ]
  },
  {
   "cell_type": "code",
   "execution_count": 1274,
   "metadata": {},
   "outputs": [
    {
     "data": {
      "text/html": [
       "<div>\n",
       "<style scoped>\n",
       "    .dataframe tbody tr th:only-of-type {\n",
       "        vertical-align: middle;\n",
       "    }\n",
       "\n",
       "    .dataframe tbody tr th {\n",
       "        vertical-align: top;\n",
       "    }\n",
       "\n",
       "    .dataframe thead th {\n",
       "        text-align: right;\n",
       "    }\n",
       "</style>\n",
       "<table border=\"1\" class=\"dataframe\">\n",
       "  <thead>\n",
       "    <tr style=\"text-align: right;\">\n",
       "      <th></th>\n",
       "      <th>service_type</th>\n",
       "      <th>is_mix_service</th>\n",
       "      <th>online_time</th>\n",
       "      <th>1_total_fee</th>\n",
       "      <th>2_total_fee</th>\n",
       "      <th>3_total_fee</th>\n",
       "      <th>4_total_fee</th>\n",
       "      <th>month_traffic</th>\n",
       "      <th>many_over_bill</th>\n",
       "      <th>contract_type</th>\n",
       "      <th>...</th>\n",
       "      <th>last_month_traffic</th>\n",
       "      <th>local_trafffic_month</th>\n",
       "      <th>local_caller_time</th>\n",
       "      <th>service1_caller_time</th>\n",
       "      <th>service2_caller_time</th>\n",
       "      <th>gender</th>\n",
       "      <th>age</th>\n",
       "      <th>former_complaint_num</th>\n",
       "      <th>former_complaint_fee</th>\n",
       "      <th>current_service</th>\n",
       "    </tr>\n",
       "  </thead>\n",
       "  <tbody>\n",
       "    <tr>\n",
       "      <th>0</th>\n",
       "      <td>4</td>\n",
       "      <td>0</td>\n",
       "      <td>85</td>\n",
       "      <td>295.96</td>\n",
       "      <td>296.20</td>\n",
       "      <td>296.00</td>\n",
       "      <td>296.80</td>\n",
       "      <td>3813.614698</td>\n",
       "      <td>0</td>\n",
       "      <td>1</td>\n",
       "      <td>...</td>\n",
       "      <td>4096.000000</td>\n",
       "      <td>1392.038508</td>\n",
       "      <td>108.100000</td>\n",
       "      <td>0.000000</td>\n",
       "      <td>564.366667</td>\n",
       "      <td>1.0</td>\n",
       "      <td>31.0</td>\n",
       "      <td>0</td>\n",
       "      <td>0.0</td>\n",
       "      <td>99999825</td>\n",
       "    </tr>\n",
       "    <tr>\n",
       "      <th>1</th>\n",
       "      <td>1</td>\n",
       "      <td>0</td>\n",
       "      <td>10</td>\n",
       "      <td>265.20</td>\n",
       "      <td>261.20</td>\n",
       "      <td>208.50</td>\n",
       "      <td>174.50</td>\n",
       "      <td>0.000000</td>\n",
       "      <td>1</td>\n",
       "      <td>0</td>\n",
       "      <td>...</td>\n",
       "      <td>0.000000</td>\n",
       "      <td>62852.509718</td>\n",
       "      <td>240.100000</td>\n",
       "      <td>355.166667</td>\n",
       "      <td>0.000000</td>\n",
       "      <td>1.0</td>\n",
       "      <td>30.0</td>\n",
       "      <td>0</td>\n",
       "      <td>0.0</td>\n",
       "      <td>90063345</td>\n",
       "    </tr>\n",
       "    <tr>\n",
       "      <th>2</th>\n",
       "      <td>1</td>\n",
       "      <td>0</td>\n",
       "      <td>12</td>\n",
       "      <td>44.50</td>\n",
       "      <td>70.20</td>\n",
       "      <td>69.00</td>\n",
       "      <td>61.40</td>\n",
       "      <td>2598.397406</td>\n",
       "      <td>0</td>\n",
       "      <td>0</td>\n",
       "      <td>...</td>\n",
       "      <td>0.000000</td>\n",
       "      <td>1935.242104</td>\n",
       "      <td>27.666667</td>\n",
       "      <td>0.000000</td>\n",
       "      <td>98.416667</td>\n",
       "      <td>2.0</td>\n",
       "      <td>25.0</td>\n",
       "      <td>0</td>\n",
       "      <td>0.0</td>\n",
       "      <td>90109916</td>\n",
       "    </tr>\n",
       "    <tr>\n",
       "      <th>3</th>\n",
       "      <td>4</td>\n",
       "      <td>0</td>\n",
       "      <td>134</td>\n",
       "      <td>87.95</td>\n",
       "      <td>81.40</td>\n",
       "      <td>76.00</td>\n",
       "      <td>88.30</td>\n",
       "      <td>988.440563</td>\n",
       "      <td>0</td>\n",
       "      <td>0</td>\n",
       "      <td>...</td>\n",
       "      <td>37.336425</td>\n",
       "      <td>988.561075</td>\n",
       "      <td>89.900000</td>\n",
       "      <td>74.483333</td>\n",
       "      <td>121.833333</td>\n",
       "      <td>1.0</td>\n",
       "      <td>44.0</td>\n",
       "      <td>0</td>\n",
       "      <td>0.0</td>\n",
       "      <td>89950166</td>\n",
       "    </tr>\n",
       "    <tr>\n",
       "      <th>4</th>\n",
       "      <td>4</td>\n",
       "      <td>0</td>\n",
       "      <td>84</td>\n",
       "      <td>317.04</td>\n",
       "      <td>314.08</td>\n",
       "      <td>435.51</td>\n",
       "      <td>413.05</td>\n",
       "      <td>5885.800642</td>\n",
       "      <td>0</td>\n",
       "      <td>1</td>\n",
       "      <td>...</td>\n",
       "      <td>3305.741127</td>\n",
       "      <td>0.000000</td>\n",
       "      <td>0.000000</td>\n",
       "      <td>35.100000</td>\n",
       "      <td>496.733333</td>\n",
       "      <td>1.0</td>\n",
       "      <td>31.0</td>\n",
       "      <td>1</td>\n",
       "      <td>0.0</td>\n",
       "      <td>99999825</td>\n",
       "    </tr>\n",
       "  </tbody>\n",
       "</table>\n",
       "<p>5 rows × 25 columns</p>\n",
       "</div>"
      ],
      "text/plain": [
       "   service_type  is_mix_service  online_time  1_total_fee  2_total_fee  \\\n",
       "0             4               0           85       295.96       296.20   \n",
       "1             1               0           10       265.20       261.20   \n",
       "2             1               0           12        44.50        70.20   \n",
       "3             4               0          134        87.95        81.40   \n",
       "4             4               0           84       317.04       314.08   \n",
       "\n",
       "   3_total_fee  4_total_fee  month_traffic  many_over_bill  contract_type  \\\n",
       "0       296.00       296.80    3813.614698               0              1   \n",
       "1       208.50       174.50       0.000000               1              0   \n",
       "2        69.00        61.40    2598.397406               0              0   \n",
       "3        76.00        88.30     988.440563               0              0   \n",
       "4       435.51       413.05    5885.800642               0              1   \n",
       "\n",
       "        ...         last_month_traffic  local_trafffic_month  \\\n",
       "0       ...                4096.000000           1392.038508   \n",
       "1       ...                   0.000000          62852.509718   \n",
       "2       ...                   0.000000           1935.242104   \n",
       "3       ...                  37.336425            988.561075   \n",
       "4       ...                3305.741127              0.000000   \n",
       "\n",
       "   local_caller_time  service1_caller_time  service2_caller_time  gender  \\\n",
       "0         108.100000              0.000000            564.366667     1.0   \n",
       "1         240.100000            355.166667              0.000000     1.0   \n",
       "2          27.666667              0.000000             98.416667     2.0   \n",
       "3          89.900000             74.483333            121.833333     1.0   \n",
       "4           0.000000             35.100000            496.733333     1.0   \n",
       "\n",
       "    age  former_complaint_num  former_complaint_fee  current_service  \n",
       "0  31.0                     0                   0.0         99999825  \n",
       "1  30.0                     0                   0.0         90063345  \n",
       "2  25.0                     0                   0.0         90109916  \n",
       "3  44.0                     0                   0.0         89950166  \n",
       "4  31.0                     1                   0.0         99999825  \n",
       "\n",
       "[5 rows x 25 columns]"
      ]
     },
     "execution_count": 1274,
     "metadata": {},
     "output_type": "execute_result"
    }
   ],
   "source": [
    "train.head()"
   ]
  },
  {
   "cell_type": "code",
   "execution_count": null,
   "metadata": {},
   "outputs": [],
   "source": []
  },
  {
   "cell_type": "code",
   "execution_count": 1275,
   "metadata": {},
   "outputs": [],
   "source": [
    "from sklearn.preprocessing import LabelEncoder\n",
    "from sklearn.preprocessing import OneHotEncoder\n",
    "y_train = train['current_service']\n",
    "lbl = LabelEncoder() \n",
    "lbl.fit(list(y_train.values)) \n",
    "train_y = lbl.transform(list(y_train.values))"
   ]
  },
  {
   "cell_type": "code",
   "execution_count": 1276,
   "metadata": {},
   "outputs": [
    {
     "name": "stdout",
     "output_type": "stream",
     "text": [
      "{89016252: 0, 0: 89016252, 89016253: 1, 1: 89016253, 89016259: 2, 2: 89016259, 89950166: 3, 3: 89950166, 89950167: 4, 4: 89950167, 89950168: 5, 5: 89950168, 90063345: 6, 6: 90063345, 90109916: 7, 7: 90109916, 90155946: 8, 8: 90155946, 99104722: 9, 9: 99104722, 99999825: 10, 10: 99999825, 99999826: 11, 11: 99999826, 99999827: 12, 12: 99999827, 99999828: 13, 13: 99999828, 99999830: 14, 14: 99999830}\n"
     ]
    }
   ],
   "source": [
    "label = dict()\n",
    "i = 0\n",
    "for d in lbl.classes_:\n",
    "    label[d] = i\n",
    "    label[i] = d\n",
    "    i += 1\n",
    "print(label)"
   ]
  },
  {
   "cell_type": "code",
   "execution_count": 1277,
   "metadata": {},
   "outputs": [],
   "source": [
    "# train.drop('current_service', axis = 1, inplace = True)"
   ]
  },
  {
   "cell_type": "code",
   "execution_count": 1278,
   "metadata": {
    "scrolled": false
   },
   "outputs": [
    {
     "data": {
      "text/html": [
       "<div>\n",
       "<style scoped>\n",
       "    .dataframe tbody tr th:only-of-type {\n",
       "        vertical-align: middle;\n",
       "    }\n",
       "\n",
       "    .dataframe tbody tr th {\n",
       "        vertical-align: top;\n",
       "    }\n",
       "\n",
       "    .dataframe thead th {\n",
       "        text-align: right;\n",
       "    }\n",
       "</style>\n",
       "<table border=\"1\" class=\"dataframe\">\n",
       "  <thead>\n",
       "    <tr style=\"text-align: right;\">\n",
       "      <th></th>\n",
       "      <th>service_type</th>\n",
       "      <th>is_mix_service</th>\n",
       "      <th>online_time</th>\n",
       "      <th>1_total_fee</th>\n",
       "      <th>2_total_fee</th>\n",
       "      <th>3_total_fee</th>\n",
       "      <th>4_total_fee</th>\n",
       "      <th>month_traffic</th>\n",
       "      <th>many_over_bill</th>\n",
       "      <th>contract_type</th>\n",
       "      <th>...</th>\n",
       "      <th>last_month_traffic</th>\n",
       "      <th>local_trafffic_month</th>\n",
       "      <th>local_caller_time</th>\n",
       "      <th>service1_caller_time</th>\n",
       "      <th>service2_caller_time</th>\n",
       "      <th>gender</th>\n",
       "      <th>age</th>\n",
       "      <th>former_complaint_num</th>\n",
       "      <th>former_complaint_fee</th>\n",
       "      <th>current_service</th>\n",
       "    </tr>\n",
       "  </thead>\n",
       "  <tbody>\n",
       "    <tr>\n",
       "      <th>0</th>\n",
       "      <td>4</td>\n",
       "      <td>0</td>\n",
       "      <td>85</td>\n",
       "      <td>295.96</td>\n",
       "      <td>296.20</td>\n",
       "      <td>296.00</td>\n",
       "      <td>296.80</td>\n",
       "      <td>3813.614698</td>\n",
       "      <td>0</td>\n",
       "      <td>1</td>\n",
       "      <td>...</td>\n",
       "      <td>4096.000000</td>\n",
       "      <td>1392.038508</td>\n",
       "      <td>108.100000</td>\n",
       "      <td>0.000000</td>\n",
       "      <td>564.366667</td>\n",
       "      <td>1.0</td>\n",
       "      <td>31.0</td>\n",
       "      <td>0</td>\n",
       "      <td>0.0</td>\n",
       "      <td>99999825</td>\n",
       "    </tr>\n",
       "    <tr>\n",
       "      <th>1</th>\n",
       "      <td>1</td>\n",
       "      <td>0</td>\n",
       "      <td>10</td>\n",
       "      <td>265.20</td>\n",
       "      <td>261.20</td>\n",
       "      <td>208.50</td>\n",
       "      <td>174.50</td>\n",
       "      <td>0.000000</td>\n",
       "      <td>1</td>\n",
       "      <td>0</td>\n",
       "      <td>...</td>\n",
       "      <td>0.000000</td>\n",
       "      <td>62852.509718</td>\n",
       "      <td>240.100000</td>\n",
       "      <td>355.166667</td>\n",
       "      <td>0.000000</td>\n",
       "      <td>1.0</td>\n",
       "      <td>30.0</td>\n",
       "      <td>0</td>\n",
       "      <td>0.0</td>\n",
       "      <td>90063345</td>\n",
       "    </tr>\n",
       "    <tr>\n",
       "      <th>2</th>\n",
       "      <td>1</td>\n",
       "      <td>0</td>\n",
       "      <td>12</td>\n",
       "      <td>44.50</td>\n",
       "      <td>70.20</td>\n",
       "      <td>69.00</td>\n",
       "      <td>61.40</td>\n",
       "      <td>2598.397406</td>\n",
       "      <td>0</td>\n",
       "      <td>0</td>\n",
       "      <td>...</td>\n",
       "      <td>0.000000</td>\n",
       "      <td>1935.242104</td>\n",
       "      <td>27.666667</td>\n",
       "      <td>0.000000</td>\n",
       "      <td>98.416667</td>\n",
       "      <td>2.0</td>\n",
       "      <td>25.0</td>\n",
       "      <td>0</td>\n",
       "      <td>0.0</td>\n",
       "      <td>90109916</td>\n",
       "    </tr>\n",
       "    <tr>\n",
       "      <th>3</th>\n",
       "      <td>4</td>\n",
       "      <td>0</td>\n",
       "      <td>134</td>\n",
       "      <td>87.95</td>\n",
       "      <td>81.40</td>\n",
       "      <td>76.00</td>\n",
       "      <td>88.30</td>\n",
       "      <td>988.440563</td>\n",
       "      <td>0</td>\n",
       "      <td>0</td>\n",
       "      <td>...</td>\n",
       "      <td>37.336425</td>\n",
       "      <td>988.561075</td>\n",
       "      <td>89.900000</td>\n",
       "      <td>74.483333</td>\n",
       "      <td>121.833333</td>\n",
       "      <td>1.0</td>\n",
       "      <td>44.0</td>\n",
       "      <td>0</td>\n",
       "      <td>0.0</td>\n",
       "      <td>89950166</td>\n",
       "    </tr>\n",
       "    <tr>\n",
       "      <th>4</th>\n",
       "      <td>4</td>\n",
       "      <td>0</td>\n",
       "      <td>84</td>\n",
       "      <td>317.04</td>\n",
       "      <td>314.08</td>\n",
       "      <td>435.51</td>\n",
       "      <td>413.05</td>\n",
       "      <td>5885.800642</td>\n",
       "      <td>0</td>\n",
       "      <td>1</td>\n",
       "      <td>...</td>\n",
       "      <td>3305.741127</td>\n",
       "      <td>0.000000</td>\n",
       "      <td>0.000000</td>\n",
       "      <td>35.100000</td>\n",
       "      <td>496.733333</td>\n",
       "      <td>1.0</td>\n",
       "      <td>31.0</td>\n",
       "      <td>1</td>\n",
       "      <td>0.0</td>\n",
       "      <td>99999825</td>\n",
       "    </tr>\n",
       "  </tbody>\n",
       "</table>\n",
       "<p>5 rows × 25 columns</p>\n",
       "</div>"
      ],
      "text/plain": [
       "   service_type  is_mix_service  online_time  1_total_fee  2_total_fee  \\\n",
       "0             4               0           85       295.96       296.20   \n",
       "1             1               0           10       265.20       261.20   \n",
       "2             1               0           12        44.50        70.20   \n",
       "3             4               0          134        87.95        81.40   \n",
       "4             4               0           84       317.04       314.08   \n",
       "\n",
       "   3_total_fee  4_total_fee  month_traffic  many_over_bill  contract_type  \\\n",
       "0       296.00       296.80    3813.614698               0              1   \n",
       "1       208.50       174.50       0.000000               1              0   \n",
       "2        69.00        61.40    2598.397406               0              0   \n",
       "3        76.00        88.30     988.440563               0              0   \n",
       "4       435.51       413.05    5885.800642               0              1   \n",
       "\n",
       "        ...         last_month_traffic  local_trafffic_month  \\\n",
       "0       ...                4096.000000           1392.038508   \n",
       "1       ...                   0.000000          62852.509718   \n",
       "2       ...                   0.000000           1935.242104   \n",
       "3       ...                  37.336425            988.561075   \n",
       "4       ...                3305.741127              0.000000   \n",
       "\n",
       "   local_caller_time  service1_caller_time  service2_caller_time  gender  \\\n",
       "0         108.100000              0.000000            564.366667     1.0   \n",
       "1         240.100000            355.166667              0.000000     1.0   \n",
       "2          27.666667              0.000000             98.416667     2.0   \n",
       "3          89.900000             74.483333            121.833333     1.0   \n",
       "4           0.000000             35.100000            496.733333     1.0   \n",
       "\n",
       "    age  former_complaint_num  former_complaint_fee  current_service  \n",
       "0  31.0                     0                   0.0         99999825  \n",
       "1  30.0                     0                   0.0         90063345  \n",
       "2  25.0                     0                   0.0         90109916  \n",
       "3  44.0                     0                   0.0         89950166  \n",
       "4  31.0                     1                   0.0         99999825  \n",
       "\n",
       "[5 rows x 25 columns]"
      ]
     },
     "execution_count": 1278,
     "metadata": {},
     "output_type": "execute_result"
    }
   ],
   "source": [
    "train.head()"
   ]
  },
  {
   "cell_type": "code",
   "execution_count": 1279,
   "metadata": {},
   "outputs": [],
   "source": [
    "train_4 = train[train['service_type'] == 4].copy().reset_index(drop=True)\n",
    "y_4 = train_4['current_service']\n",
    "train_4.drop('current_service', axis = 1, inplace = True)"
   ]
  },
  {
   "cell_type": "code",
   "execution_count": 1280,
   "metadata": {
    "scrolled": false
   },
   "outputs": [
    {
     "data": {
      "text/html": [
       "<div>\n",
       "<style scoped>\n",
       "    .dataframe tbody tr th:only-of-type {\n",
       "        vertical-align: middle;\n",
       "    }\n",
       "\n",
       "    .dataframe tbody tr th {\n",
       "        vertical-align: top;\n",
       "    }\n",
       "\n",
       "    .dataframe thead th {\n",
       "        text-align: right;\n",
       "    }\n",
       "</style>\n",
       "<table border=\"1\" class=\"dataframe\">\n",
       "  <thead>\n",
       "    <tr style=\"text-align: right;\">\n",
       "      <th></th>\n",
       "      <th>service_type</th>\n",
       "      <th>is_mix_service</th>\n",
       "      <th>online_time</th>\n",
       "      <th>1_total_fee</th>\n",
       "      <th>2_total_fee</th>\n",
       "      <th>3_total_fee</th>\n",
       "      <th>4_total_fee</th>\n",
       "      <th>month_traffic</th>\n",
       "      <th>many_over_bill</th>\n",
       "      <th>contract_type</th>\n",
       "      <th>...</th>\n",
       "      <th>pay_num</th>\n",
       "      <th>last_month_traffic</th>\n",
       "      <th>local_trafffic_month</th>\n",
       "      <th>local_caller_time</th>\n",
       "      <th>service1_caller_time</th>\n",
       "      <th>service2_caller_time</th>\n",
       "      <th>gender</th>\n",
       "      <th>age</th>\n",
       "      <th>former_complaint_num</th>\n",
       "      <th>former_complaint_fee</th>\n",
       "    </tr>\n",
       "  </thead>\n",
       "  <tbody>\n",
       "    <tr>\n",
       "      <th>0</th>\n",
       "      <td>4</td>\n",
       "      <td>0</td>\n",
       "      <td>85</td>\n",
       "      <td>295.96</td>\n",
       "      <td>296.20</td>\n",
       "      <td>296.00</td>\n",
       "      <td>296.80</td>\n",
       "      <td>3813.614698</td>\n",
       "      <td>0</td>\n",
       "      <td>1</td>\n",
       "      <td>...</td>\n",
       "      <td>300.04</td>\n",
       "      <td>4096.000000</td>\n",
       "      <td>1392.038508</td>\n",
       "      <td>108.100000</td>\n",
       "      <td>0.000000</td>\n",
       "      <td>564.366667</td>\n",
       "      <td>1.0</td>\n",
       "      <td>31.0</td>\n",
       "      <td>0</td>\n",
       "      <td>0.0</td>\n",
       "    </tr>\n",
       "    <tr>\n",
       "      <th>1</th>\n",
       "      <td>4</td>\n",
       "      <td>0</td>\n",
       "      <td>134</td>\n",
       "      <td>87.95</td>\n",
       "      <td>81.40</td>\n",
       "      <td>76.00</td>\n",
       "      <td>88.30</td>\n",
       "      <td>988.440563</td>\n",
       "      <td>0</td>\n",
       "      <td>0</td>\n",
       "      <td>...</td>\n",
       "      <td>100.00</td>\n",
       "      <td>37.336425</td>\n",
       "      <td>988.561075</td>\n",
       "      <td>89.900000</td>\n",
       "      <td>74.483333</td>\n",
       "      <td>121.833333</td>\n",
       "      <td>1.0</td>\n",
       "      <td>44.0</td>\n",
       "      <td>0</td>\n",
       "      <td>0.0</td>\n",
       "    </tr>\n",
       "    <tr>\n",
       "      <th>2</th>\n",
       "      <td>4</td>\n",
       "      <td>0</td>\n",
       "      <td>84</td>\n",
       "      <td>317.04</td>\n",
       "      <td>314.08</td>\n",
       "      <td>435.51</td>\n",
       "      <td>413.05</td>\n",
       "      <td>5885.800642</td>\n",
       "      <td>0</td>\n",
       "      <td>1</td>\n",
       "      <td>...</td>\n",
       "      <td>1000.03</td>\n",
       "      <td>3305.741127</td>\n",
       "      <td>0.000000</td>\n",
       "      <td>0.000000</td>\n",
       "      <td>35.100000</td>\n",
       "      <td>496.733333</td>\n",
       "      <td>1.0</td>\n",
       "      <td>31.0</td>\n",
       "      <td>1</td>\n",
       "      <td>0.0</td>\n",
       "    </tr>\n",
       "    <tr>\n",
       "      <th>3</th>\n",
       "      <td>4</td>\n",
       "      <td>0</td>\n",
       "      <td>46</td>\n",
       "      <td>36.00</td>\n",
       "      <td>36.00</td>\n",
       "      <td>36.00</td>\n",
       "      <td>37.20</td>\n",
       "      <td>218.003452</td>\n",
       "      <td>0</td>\n",
       "      <td>3</td>\n",
       "      <td>...</td>\n",
       "      <td>30.00</td>\n",
       "      <td>459.294048</td>\n",
       "      <td>218.003452</td>\n",
       "      <td>14.633333</td>\n",
       "      <td>0.000000</td>\n",
       "      <td>14.633333</td>\n",
       "      <td>1.0</td>\n",
       "      <td>42.0</td>\n",
       "      <td>0</td>\n",
       "      <td>0.0</td>\n",
       "    </tr>\n",
       "    <tr>\n",
       "      <th>4</th>\n",
       "      <td>4</td>\n",
       "      <td>0</td>\n",
       "      <td>109</td>\n",
       "      <td>116.00</td>\n",
       "      <td>116.00</td>\n",
       "      <td>116.00</td>\n",
       "      <td>116.00</td>\n",
       "      <td>635.946276</td>\n",
       "      <td>0</td>\n",
       "      <td>9</td>\n",
       "      <td>...</td>\n",
       "      <td>200.00</td>\n",
       "      <td>1024.000000</td>\n",
       "      <td>635.978400</td>\n",
       "      <td>250.883333</td>\n",
       "      <td>0.000000</td>\n",
       "      <td>310.733333</td>\n",
       "      <td>1.0</td>\n",
       "      <td>40.0</td>\n",
       "      <td>0</td>\n",
       "      <td>0.0</td>\n",
       "    </tr>\n",
       "  </tbody>\n",
       "</table>\n",
       "<p>5 rows × 24 columns</p>\n",
       "</div>"
      ],
      "text/plain": [
       "   service_type  is_mix_service  online_time  1_total_fee  2_total_fee  \\\n",
       "0             4               0           85       295.96       296.20   \n",
       "1             4               0          134        87.95        81.40   \n",
       "2             4               0           84       317.04       314.08   \n",
       "3             4               0           46        36.00        36.00   \n",
       "4             4               0          109       116.00       116.00   \n",
       "\n",
       "   3_total_fee  4_total_fee  month_traffic  many_over_bill  contract_type  \\\n",
       "0       296.00       296.80    3813.614698               0              1   \n",
       "1        76.00        88.30     988.440563               0              0   \n",
       "2       435.51       413.05    5885.800642               0              1   \n",
       "3        36.00        37.20     218.003452               0              3   \n",
       "4       116.00       116.00     635.946276               0              9   \n",
       "\n",
       "           ...           pay_num  last_month_traffic  local_trafffic_month  \\\n",
       "0          ...            300.04         4096.000000           1392.038508   \n",
       "1          ...            100.00           37.336425            988.561075   \n",
       "2          ...           1000.03         3305.741127              0.000000   \n",
       "3          ...             30.00          459.294048            218.003452   \n",
       "4          ...            200.00         1024.000000            635.978400   \n",
       "\n",
       "   local_caller_time  service1_caller_time  service2_caller_time  gender  \\\n",
       "0         108.100000              0.000000            564.366667     1.0   \n",
       "1          89.900000             74.483333            121.833333     1.0   \n",
       "2           0.000000             35.100000            496.733333     1.0   \n",
       "3          14.633333              0.000000             14.633333     1.0   \n",
       "4         250.883333              0.000000            310.733333     1.0   \n",
       "\n",
       "    age  former_complaint_num  former_complaint_fee  \n",
       "0  31.0                     0                   0.0  \n",
       "1  44.0                     0                   0.0  \n",
       "2  31.0                     1                   0.0  \n",
       "3  42.0                     0                   0.0  \n",
       "4  40.0                     0                   0.0  \n",
       "\n",
       "[5 rows x 24 columns]"
      ]
     },
     "execution_count": 1280,
     "metadata": {},
     "output_type": "execute_result"
    }
   ],
   "source": [
    "train_4.head()"
   ]
  },
  {
   "cell_type": "code",
   "execution_count": 1281,
   "metadata": {},
   "outputs": [],
   "source": [
    "def oneHotEncode(data, col):\n",
    "    for c in col:\n",
    "        lbl = LabelEncoder() \n",
    "        lbl.fit(list(data[c].values)) \n",
    "        data[c] = lbl.transform(list(data[c].values))\n",
    "    for c in col:\n",
    "        enc = OneHotEncoder(sparse=False)\n",
    "        enc.fit(data[c].reshape(-1,1))\n",
    "        temp = enc.transform(data[c].reshape(-1,1))\n",
    "        for i in range(temp.shape[1]):\n",
    "            if(temp[:,i].mean() > 0.05 and temp[:,i].mean()<0.95):\n",
    "                data[c+str(i)] = temp[:,i]\n",
    "        data.drop(c, axis = 1, inplace = True)"
   ]
  },
  {
   "cell_type": "code",
   "execution_count": 1282,
   "metadata": {},
   "outputs": [
    {
     "name": "stderr",
     "output_type": "stream",
     "text": [
      "e:\\Anaconda3\\lib\\site-packages\\ipykernel_launcher.py:8: FutureWarning: reshape is deprecated and will raise in a subsequent release. Please use .values.reshape(...) instead\n",
      "  \n",
      "e:\\Anaconda3\\lib\\site-packages\\ipykernel_launcher.py:9: FutureWarning: reshape is deprecated and will raise in a subsequent release. Please use .values.reshape(...) instead\n",
      "  if __name__ == '__main__':\n"
     ]
    }
   ],
   "source": [
    "col = ['service_type','contract_type','net_service']\n",
    "oneHotEncode(train,col)"
   ]
  },
  {
   "cell_type": "code",
   "execution_count": 1283,
   "metadata": {},
   "outputs": [],
   "source": [
    "train['traffic'] = train['month_traffic'] + train['last_month_traffic']\n",
    "train['fee'] = train['1_total_fee'] - 0.1 * (train['service1_caller_time'] + train['service2_caller_time'] )\n",
    "\n",
    "\n",
    "\n",
    "fee1 = np.vstack([np.array(train['1_total_fee']), np.array(train['2_total_fee']), np.array(train['3_total_fee']), np.array(train['4_total_fee'])])\n",
    "fee_median = np.median(fee1, axis = 0)\n",
    "\n",
    "\n",
    "\n",
    "train['fee1'] = pd.Series(fee1)\n",
    "train['month_traffic1'] = np.maximum(train['month_traffic'].values, train['local_trafffic_month'].values)\n",
    "train['no_local_traffic'] = train['month_traffic1'] - train['local_trafffic_month']\n",
    "train['age_w'] = train['age'] - train['online_time'] // 12\n",
    "# train.drop(['2_total_fee', '3_total_fee', '4_total_fee'], axis = 1 ,inplace = True)"
   ]
  },
  {
   "cell_type": "code",
   "execution_count": 1284,
   "metadata": {},
   "outputs": [
    {
     "data": {
      "text/html": [
       "<div>\n",
       "<style scoped>\n",
       "    .dataframe tbody tr th:only-of-type {\n",
       "        vertical-align: middle;\n",
       "    }\n",
       "\n",
       "    .dataframe tbody tr th {\n",
       "        vertical-align: top;\n",
       "    }\n",
       "\n",
       "    .dataframe thead th {\n",
       "        text-align: right;\n",
       "    }\n",
       "</style>\n",
       "<table border=\"1\" class=\"dataframe\">\n",
       "  <thead>\n",
       "    <tr style=\"text-align: right;\">\n",
       "      <th></th>\n",
       "      <th>is_mix_service</th>\n",
       "      <th>online_time</th>\n",
       "      <th>1_total_fee</th>\n",
       "      <th>2_total_fee</th>\n",
       "      <th>3_total_fee</th>\n",
       "      <th>4_total_fee</th>\n",
       "      <th>month_traffic</th>\n",
       "      <th>many_over_bill</th>\n",
       "      <th>contract_time</th>\n",
       "      <th>is_promise_low_consume</th>\n",
       "      <th>...</th>\n",
       "      <th>contract_type1</th>\n",
       "      <th>contract_type3</th>\n",
       "      <th>contract_type7</th>\n",
       "      <th>net_service2</th>\n",
       "      <th>traffic</th>\n",
       "      <th>fee</th>\n",
       "      <th>fee1</th>\n",
       "      <th>month_traffic1</th>\n",
       "      <th>no_local_traffic</th>\n",
       "      <th>age_w</th>\n",
       "    </tr>\n",
       "  </thead>\n",
       "  <tbody>\n",
       "    <tr>\n",
       "      <th>0</th>\n",
       "      <td>0</td>\n",
       "      <td>85</td>\n",
       "      <td>295.96</td>\n",
       "      <td>296.20</td>\n",
       "      <td>296.00</td>\n",
       "      <td>296.80</td>\n",
       "      <td>3813.614698</td>\n",
       "      <td>0</td>\n",
       "      <td>36</td>\n",
       "      <td>0</td>\n",
       "      <td>...</td>\n",
       "      <td>1.0</td>\n",
       "      <td>0.0</td>\n",
       "      <td>0.0</td>\n",
       "      <td>1.0</td>\n",
       "      <td>7909.614698</td>\n",
       "      <td>239.523333</td>\n",
       "      <td>296.100</td>\n",
       "      <td>3813.614698</td>\n",
       "      <td>2421.576190</td>\n",
       "      <td>24.0</td>\n",
       "    </tr>\n",
       "    <tr>\n",
       "      <th>1</th>\n",
       "      <td>0</td>\n",
       "      <td>10</td>\n",
       "      <td>265.20</td>\n",
       "      <td>261.20</td>\n",
       "      <td>208.50</td>\n",
       "      <td>174.50</td>\n",
       "      <td>0.000000</td>\n",
       "      <td>1</td>\n",
       "      <td>0</td>\n",
       "      <td>0</td>\n",
       "      <td>...</td>\n",
       "      <td>0.0</td>\n",
       "      <td>0.0</td>\n",
       "      <td>0.0</td>\n",
       "      <td>1.0</td>\n",
       "      <td>0.000000</td>\n",
       "      <td>229.683333</td>\n",
       "      <td>234.850</td>\n",
       "      <td>62852.509718</td>\n",
       "      <td>0.000000</td>\n",
       "      <td>30.0</td>\n",
       "    </tr>\n",
       "    <tr>\n",
       "      <th>2</th>\n",
       "      <td>0</td>\n",
       "      <td>12</td>\n",
       "      <td>44.50</td>\n",
       "      <td>70.20</td>\n",
       "      <td>69.00</td>\n",
       "      <td>61.40</td>\n",
       "      <td>2598.397406</td>\n",
       "      <td>0</td>\n",
       "      <td>0</td>\n",
       "      <td>0</td>\n",
       "      <td>...</td>\n",
       "      <td>0.0</td>\n",
       "      <td>0.0</td>\n",
       "      <td>0.0</td>\n",
       "      <td>1.0</td>\n",
       "      <td>2598.397406</td>\n",
       "      <td>34.658333</td>\n",
       "      <td>65.200</td>\n",
       "      <td>2598.397406</td>\n",
       "      <td>663.155302</td>\n",
       "      <td>24.0</td>\n",
       "    </tr>\n",
       "    <tr>\n",
       "      <th>3</th>\n",
       "      <td>0</td>\n",
       "      <td>134</td>\n",
       "      <td>87.95</td>\n",
       "      <td>81.40</td>\n",
       "      <td>76.00</td>\n",
       "      <td>88.30</td>\n",
       "      <td>988.440563</td>\n",
       "      <td>0</td>\n",
       "      <td>0</td>\n",
       "      <td>0</td>\n",
       "      <td>...</td>\n",
       "      <td>0.0</td>\n",
       "      <td>0.0</td>\n",
       "      <td>0.0</td>\n",
       "      <td>1.0</td>\n",
       "      <td>1025.776988</td>\n",
       "      <td>68.318333</td>\n",
       "      <td>84.675</td>\n",
       "      <td>988.561075</td>\n",
       "      <td>0.000000</td>\n",
       "      <td>33.0</td>\n",
       "    </tr>\n",
       "    <tr>\n",
       "      <th>4</th>\n",
       "      <td>0</td>\n",
       "      <td>84</td>\n",
       "      <td>317.04</td>\n",
       "      <td>314.08</td>\n",
       "      <td>435.51</td>\n",
       "      <td>413.05</td>\n",
       "      <td>5885.800642</td>\n",
       "      <td>0</td>\n",
       "      <td>24</td>\n",
       "      <td>0</td>\n",
       "      <td>...</td>\n",
       "      <td>1.0</td>\n",
       "      <td>0.0</td>\n",
       "      <td>0.0</td>\n",
       "      <td>1.0</td>\n",
       "      <td>9191.541769</td>\n",
       "      <td>263.856667</td>\n",
       "      <td>365.045</td>\n",
       "      <td>5885.800642</td>\n",
       "      <td>5885.800642</td>\n",
       "      <td>24.0</td>\n",
       "    </tr>\n",
       "  </tbody>\n",
       "</table>\n",
       "<p>5 rows × 36 columns</p>\n",
       "</div>"
      ],
      "text/plain": [
       "   is_mix_service  online_time  1_total_fee  2_total_fee  3_total_fee  \\\n",
       "0               0           85       295.96       296.20       296.00   \n",
       "1               0           10       265.20       261.20       208.50   \n",
       "2               0           12        44.50        70.20        69.00   \n",
       "3               0          134        87.95        81.40        76.00   \n",
       "4               0           84       317.04       314.08       435.51   \n",
       "\n",
       "   4_total_fee  month_traffic  many_over_bill  contract_time  \\\n",
       "0       296.80    3813.614698               0             36   \n",
       "1       174.50       0.000000               1              0   \n",
       "2        61.40    2598.397406               0              0   \n",
       "3        88.30     988.440563               0              0   \n",
       "4       413.05    5885.800642               0             24   \n",
       "\n",
       "   is_promise_low_consume  ...    contract_type1  contract_type3  \\\n",
       "0                       0  ...               1.0             0.0   \n",
       "1                       0  ...               0.0             0.0   \n",
       "2                       0  ...               0.0             0.0   \n",
       "3                       0  ...               0.0             0.0   \n",
       "4                       0  ...               1.0             0.0   \n",
       "\n",
       "   contract_type7  net_service2      traffic         fee     fee1  \\\n",
       "0             0.0           1.0  7909.614698  239.523333  296.100   \n",
       "1             0.0           1.0     0.000000  229.683333  234.850   \n",
       "2             0.0           1.0  2598.397406   34.658333   65.200   \n",
       "3             0.0           1.0  1025.776988   68.318333   84.675   \n",
       "4             0.0           1.0  9191.541769  263.856667  365.045   \n",
       "\n",
       "   month_traffic1  no_local_traffic  age_w  \n",
       "0     3813.614698       2421.576190   24.0  \n",
       "1    62852.509718          0.000000   30.0  \n",
       "2     2598.397406        663.155302   24.0  \n",
       "3      988.561075          0.000000   33.0  \n",
       "4     5885.800642       5885.800642   24.0  \n",
       "\n",
       "[5 rows x 36 columns]"
      ]
     },
     "execution_count": 1284,
     "metadata": {},
     "output_type": "execute_result"
    }
   ],
   "source": [
    "train.head()"
   ]
  },
  {
   "cell_type": "code",
   "execution_count": 1285,
   "metadata": {},
   "outputs": [],
   "source": [
    "train.drop('current_service', axis = 1 ,inplace = True)"
   ]
  },
  {
   "cell_type": "code",
   "execution_count": 1286,
   "metadata": {},
   "outputs": [
    {
     "data": {
      "text/html": [
       "<div>\n",
       "<style scoped>\n",
       "    .dataframe tbody tr th:only-of-type {\n",
       "        vertical-align: middle;\n",
       "    }\n",
       "\n",
       "    .dataframe tbody tr th {\n",
       "        vertical-align: top;\n",
       "    }\n",
       "\n",
       "    .dataframe thead th {\n",
       "        text-align: right;\n",
       "    }\n",
       "</style>\n",
       "<table border=\"1\" class=\"dataframe\">\n",
       "  <thead>\n",
       "    <tr style=\"text-align: right;\">\n",
       "      <th></th>\n",
       "      <th>is_mix_service</th>\n",
       "      <th>online_time</th>\n",
       "      <th>1_total_fee</th>\n",
       "      <th>2_total_fee</th>\n",
       "      <th>3_total_fee</th>\n",
       "      <th>4_total_fee</th>\n",
       "      <th>month_traffic</th>\n",
       "      <th>many_over_bill</th>\n",
       "      <th>contract_time</th>\n",
       "      <th>is_promise_low_consume</th>\n",
       "      <th>...</th>\n",
       "      <th>contract_type1</th>\n",
       "      <th>contract_type3</th>\n",
       "      <th>contract_type7</th>\n",
       "      <th>net_service2</th>\n",
       "      <th>traffic</th>\n",
       "      <th>fee</th>\n",
       "      <th>fee1</th>\n",
       "      <th>month_traffic1</th>\n",
       "      <th>no_local_traffic</th>\n",
       "      <th>age_w</th>\n",
       "    </tr>\n",
       "  </thead>\n",
       "  <tbody>\n",
       "    <tr>\n",
       "      <th>0</th>\n",
       "      <td>0</td>\n",
       "      <td>85</td>\n",
       "      <td>295.96</td>\n",
       "      <td>296.20</td>\n",
       "      <td>296.00</td>\n",
       "      <td>296.80</td>\n",
       "      <td>3813.614698</td>\n",
       "      <td>0</td>\n",
       "      <td>36</td>\n",
       "      <td>0</td>\n",
       "      <td>...</td>\n",
       "      <td>1.0</td>\n",
       "      <td>0.0</td>\n",
       "      <td>0.0</td>\n",
       "      <td>1.0</td>\n",
       "      <td>7909.614698</td>\n",
       "      <td>239.523333</td>\n",
       "      <td>296.100</td>\n",
       "      <td>3813.614698</td>\n",
       "      <td>2421.576190</td>\n",
       "      <td>24.0</td>\n",
       "    </tr>\n",
       "    <tr>\n",
       "      <th>1</th>\n",
       "      <td>0</td>\n",
       "      <td>10</td>\n",
       "      <td>265.20</td>\n",
       "      <td>261.20</td>\n",
       "      <td>208.50</td>\n",
       "      <td>174.50</td>\n",
       "      <td>0.000000</td>\n",
       "      <td>1</td>\n",
       "      <td>0</td>\n",
       "      <td>0</td>\n",
       "      <td>...</td>\n",
       "      <td>0.0</td>\n",
       "      <td>0.0</td>\n",
       "      <td>0.0</td>\n",
       "      <td>1.0</td>\n",
       "      <td>0.000000</td>\n",
       "      <td>229.683333</td>\n",
       "      <td>234.850</td>\n",
       "      <td>62852.509718</td>\n",
       "      <td>0.000000</td>\n",
       "      <td>30.0</td>\n",
       "    </tr>\n",
       "    <tr>\n",
       "      <th>2</th>\n",
       "      <td>0</td>\n",
       "      <td>12</td>\n",
       "      <td>44.50</td>\n",
       "      <td>70.20</td>\n",
       "      <td>69.00</td>\n",
       "      <td>61.40</td>\n",
       "      <td>2598.397406</td>\n",
       "      <td>0</td>\n",
       "      <td>0</td>\n",
       "      <td>0</td>\n",
       "      <td>...</td>\n",
       "      <td>0.0</td>\n",
       "      <td>0.0</td>\n",
       "      <td>0.0</td>\n",
       "      <td>1.0</td>\n",
       "      <td>2598.397406</td>\n",
       "      <td>34.658333</td>\n",
       "      <td>65.200</td>\n",
       "      <td>2598.397406</td>\n",
       "      <td>663.155302</td>\n",
       "      <td>24.0</td>\n",
       "    </tr>\n",
       "    <tr>\n",
       "      <th>3</th>\n",
       "      <td>0</td>\n",
       "      <td>134</td>\n",
       "      <td>87.95</td>\n",
       "      <td>81.40</td>\n",
       "      <td>76.00</td>\n",
       "      <td>88.30</td>\n",
       "      <td>988.440563</td>\n",
       "      <td>0</td>\n",
       "      <td>0</td>\n",
       "      <td>0</td>\n",
       "      <td>...</td>\n",
       "      <td>0.0</td>\n",
       "      <td>0.0</td>\n",
       "      <td>0.0</td>\n",
       "      <td>1.0</td>\n",
       "      <td>1025.776988</td>\n",
       "      <td>68.318333</td>\n",
       "      <td>84.675</td>\n",
       "      <td>988.561075</td>\n",
       "      <td>0.000000</td>\n",
       "      <td>33.0</td>\n",
       "    </tr>\n",
       "    <tr>\n",
       "      <th>4</th>\n",
       "      <td>0</td>\n",
       "      <td>84</td>\n",
       "      <td>317.04</td>\n",
       "      <td>314.08</td>\n",
       "      <td>435.51</td>\n",
       "      <td>413.05</td>\n",
       "      <td>5885.800642</td>\n",
       "      <td>0</td>\n",
       "      <td>24</td>\n",
       "      <td>0</td>\n",
       "      <td>...</td>\n",
       "      <td>1.0</td>\n",
       "      <td>0.0</td>\n",
       "      <td>0.0</td>\n",
       "      <td>1.0</td>\n",
       "      <td>9191.541769</td>\n",
       "      <td>263.856667</td>\n",
       "      <td>365.045</td>\n",
       "      <td>5885.800642</td>\n",
       "      <td>5885.800642</td>\n",
       "      <td>24.0</td>\n",
       "    </tr>\n",
       "  </tbody>\n",
       "</table>\n",
       "<p>5 rows × 35 columns</p>\n",
       "</div>"
      ],
      "text/plain": [
       "   is_mix_service  online_time  1_total_fee  2_total_fee  3_total_fee  \\\n",
       "0               0           85       295.96       296.20       296.00   \n",
       "1               0           10       265.20       261.20       208.50   \n",
       "2               0           12        44.50        70.20        69.00   \n",
       "3               0          134        87.95        81.40        76.00   \n",
       "4               0           84       317.04       314.08       435.51   \n",
       "\n",
       "   4_total_fee  month_traffic  many_over_bill  contract_time  \\\n",
       "0       296.80    3813.614698               0             36   \n",
       "1       174.50       0.000000               1              0   \n",
       "2        61.40    2598.397406               0              0   \n",
       "3        88.30     988.440563               0              0   \n",
       "4       413.05    5885.800642               0             24   \n",
       "\n",
       "   is_promise_low_consume  ...    contract_type1  contract_type3  \\\n",
       "0                       0  ...               1.0             0.0   \n",
       "1                       0  ...               0.0             0.0   \n",
       "2                       0  ...               0.0             0.0   \n",
       "3                       0  ...               0.0             0.0   \n",
       "4                       0  ...               1.0             0.0   \n",
       "\n",
       "   contract_type7  net_service2      traffic         fee     fee1  \\\n",
       "0             0.0           1.0  7909.614698  239.523333  296.100   \n",
       "1             0.0           1.0     0.000000  229.683333  234.850   \n",
       "2             0.0           1.0  2598.397406   34.658333   65.200   \n",
       "3             0.0           1.0  1025.776988   68.318333   84.675   \n",
       "4             0.0           1.0  9191.541769  263.856667  365.045   \n",
       "\n",
       "   month_traffic1  no_local_traffic  age_w  \n",
       "0     3813.614698       2421.576190   24.0  \n",
       "1    62852.509718          0.000000   30.0  \n",
       "2     2598.397406        663.155302   24.0  \n",
       "3      988.561075          0.000000   33.0  \n",
       "4     5885.800642       5885.800642   24.0  \n",
       "\n",
       "[5 rows x 35 columns]"
      ]
     },
     "execution_count": 1286,
     "metadata": {},
     "output_type": "execute_result"
    }
   ],
   "source": [
    "train.head()"
   ]
  },
  {
   "cell_type": "code",
   "execution_count": 1287,
   "metadata": {},
   "outputs": [
    {
     "data": {
      "text/plain": [
       "0    99999825\n",
       "1    90063345\n",
       "2    90109916\n",
       "3    89950166\n",
       "4    99999825\n",
       "Name: current_service, dtype: int64"
      ]
     },
     "execution_count": 1287,
     "metadata": {},
     "output_type": "execute_result"
    }
   ],
   "source": [
    "y_train.head()"
   ]
  },
  {
   "cell_type": "code",
   "execution_count": null,
   "metadata": {},
   "outputs": [],
   "source": [
    "def modelfit(alg, dtrain, predictors,useTrainCV=True, cv_folds=5, early_stopping_rounds=50):\n",
    "    if useTrainCV:\n",
    "        xgb_param = alg.get_xgb_params()\n",
    "        xgtrain = xgb.DMatrix(dtrain, label=predictors)\n",
    "        cvresult = xgb.cv(xgb_param, xgtrain, num_boost_round=alg.get_params()['n_estimators'], nfold=cv_folds,\n",
    "            metrics='auc', early_stopping_rounds=early_stopping_rounds, show_progress=False)\n",
    "        alg.set_params(n_estimators=cvresult.shape[0])\n",
    "\n",
    "    #Fit the algorithm on the data\n",
    "    alg.fit(dtrain[predictors], dtrain['Disbursed'],eval_metric='auc')\n",
    "\n",
    "    #Predict training set:\n",
    "    dtrain_predictions = alg.predict(dtrain[predictors])\n",
    "    dtrain_predprob = alg.predict_proba(dtrain[predictors])[:,1]\n",
    "\n",
    "    #Print model report:\n",
    "    print (\"\\nModel Report\")\n",
    "    print (\"Accuracy : %.4g\" % metrics.accuracy_score(dtrain['Disbursed'].values, dtrain_predictions))\n",
    "    print (\"AUC Score (Train): %f\" % metrics.roc_auc_score(dtrain['Disbursed'], dtrain_predprob))\n",
    "\n",
    "    feat_imp = pd.Series(alg.booster().get_fscore()).sort_values(ascending=False)\n",
    "    feat_imp.plot(kind='bar', title='Feature Importances')\n",
    "    plt.ylabel('Feature Importance Score')"
   ]
  },
  {
   "cell_type": "code",
   "execution_count": 1180,
   "metadata": {
    "scrolled": false
   },
   "outputs": [
    {
     "data": {
      "text/plain": [
       "XGBClassifier(base_score=0.5, booster='gbtree', colsample_bylevel=1,\n",
       "       colsample_bytree=1, eval_metric='auc', gamma=0, learning_rate=0.5,\n",
       "       max_delta_step=0, max_depth=7, min_child_weight=1, missing=None,\n",
       "       n_estimators=100, n_jobs=1, nthread=None,\n",
       "       objective='multi:softprob', random_state=0, reg_alpha=0,\n",
       "       reg_lambda=1, scale_pos_weight=1, seed=1000, silent=1, subsample=1)"
      ]
     },
     "execution_count": 1180,
     "metadata": {},
     "output_type": "execute_result"
    }
   ],
   "source": [
    "model_xgb = xgb.XGBClassifier(silent=1 ,\n",
    "learning_rate= 0.5,\n",
    "min_child_weight=1, \n",
    "# 这个参数默认是 1，是每个叶子里面 h 的和至少是多少，对正负样本不均衡时的 0-1 分类而言\n",
    "#，假设 h 在 0.01 附近，min_child_weight 为 1 意味着叶子节点中最少需要包含 100 个样本。\n",
    "#这个参数非常影响结果，控制叶子节点中二阶导的和的最小值，该参数值越小，越容易 overfitting。\n",
    "max_depth=7, \n",
    "gamma=0, \n",
    "subsample=1, \n",
    "max_delta_step=0,\n",
    "colsample_bytree=1, \n",
    "reg_lambda=1,  \n",
    "#reg_alpha=0, \n",
    "scale_pos_weight=1, \n",
    "objective= 'multi:softmax', \n",
    "# num_class=2, \n",
    "n_estimators=100, \n",
    "seed=1000, #随机种子\n",
    "eval_metric= 'auc')\n",
    "train_x,test_x, train_y1, test_y = train_test_split(train, y_train,random_state=42)\n",
    "model_xgb.fit(train_x, train_y1)"
   ]
  },
  {
   "cell_type": "code",
   "execution_count": 1080,
   "metadata": {},
   "outputs": [
    {
     "data": {
      "text/plain": [
       "LGBMClassifier(bagging_fraction=0.8, bagging_freq=5, bagging_seed=9,\n",
       "        boosting_type='gbdt', class_weight=None, colsample_bytree=1.0,\n",
       "        feature_fraction=0.2319, feature_fraction_seed=9,\n",
       "        importance_type='split', learning_rate=0.05, max_bin=55,\n",
       "        max_depth=-1, min_child_samples=20, min_child_weight=0.001,\n",
       "        min_data_in_leaf=6, min_split_gain=0.0, min_sum_hessian_in_leaf=11,\n",
       "        n_estimators=1000, n_jobs=-1, num_leaves=31, objective='multi',\n",
       "        random_state=None, reg_alpha=0.0, reg_lambda=0.0, silent=True,\n",
       "        subsample=1.0, subsample_for_bin=200000, subsample_freq=0)"
      ]
     },
     "execution_count": 1080,
     "metadata": {},
     "output_type": "execute_result"
    }
   ],
   "source": [
    "import lightgbm as lgb\n",
    "model_lgb = lgb.LGBMClassifier(objective='multi',num_leaves=31,\n",
    "                              learning_rate=0.05, n_estimators=1000,\n",
    "                              max_bin = 55, bagging_fraction = 0.8,\n",
    "                              bagging_freq = 5, feature_fraction = 0.2319,\n",
    "                              feature_fraction_seed=9, bagging_seed=9,\n",
    "                              min_data_in_leaf =6, min_sum_hessian_in_leaf = 11)\n",
    "model_lgb.fit(train_x, train_y1)"
   ]
  },
  {
   "cell_type": "code",
   "execution_count": 1081,
   "metadata": {},
   "outputs": [
    {
     "name": "stderr",
     "output_type": "stream",
     "text": [
      "e:\\Anaconda3\\lib\\site-packages\\sklearn\\preprocessing\\label.py:151: DeprecationWarning: The truth value of an empty array is ambiguous. Returning False, but in future this will result in an error. Use `array.size > 0` to check that an array is not empty.\n",
      "  if diff:\n"
     ]
    }
   ],
   "source": [
    "lgb_pred = model_lgb.predict(test_x)"
   ]
  },
  {
   "cell_type": "code",
   "execution_count": 1082,
   "metadata": {},
   "outputs": [
    {
     "name": "stdout",
     "output_type": "stream",
     "text": [
      "0.8678624979582154\n"
     ]
    },
    {
     "data": {
      "text/plain": [
       "array([0.93085461, 0.76112853, 0.761293  , 0.91047265, 0.8454838 ,\n",
       "       0.92581812, 0.996918  , 0.99467087, 0.96449473, 1.        ,\n",
       "       0.92473713, 0.76943102, 0.72293837, 0.78738027, 0.72231638])"
      ]
     },
     "execution_count": 1082,
     "metadata": {},
     "output_type": "execute_result"
    }
   ],
   "source": [
    "lgb_score = f1_score(test_y ,lgb_pred, average=None)\n",
    "print(lgb_score.mean())\n",
    "lgb_score"
   ]
  },
  {
   "cell_type": "code",
   "execution_count": 1083,
   "metadata": {},
   "outputs": [
    {
     "data": {
      "text/plain": [
       "array([0.93752784, 0.7884655 , 0.78673575, 0.92424756, 0.87730881,\n",
       "       0.94405594, 0.99739428, 0.99467646, 0.97056154, 1.        ,\n",
       "       0.94966869, 0.81826672, 0.77710215, 0.82678562, 0.75042445])"
      ]
     },
     "execution_count": 1083,
     "metadata": {},
     "output_type": "execute_result"
    }
   ],
   "source": [
    "score"
   ]
  },
  {
   "cell_type": "code",
   "execution_count": 1069,
   "metadata": {
    "scrolled": false
   },
   "outputs": [
    {
     "data": {
      "text/plain": [
       "array([89016252, 89016253, 89016259, 89950166, 89950167, 89950168,\n",
       "       90063345, 90109916, 90155946, 99104722, 99999825, 99999826,\n",
       "       99999827, 99999828, 99999830], dtype=int64)"
      ]
     },
     "execution_count": 1069,
     "metadata": {},
     "output_type": "execute_result"
    }
   ],
   "source": [
    "model_xgb.classes_"
   ]
  },
  {
   "cell_type": "code",
   "execution_count": 1185,
   "metadata": {},
   "outputs": [
    {
     "data": {
      "text/plain": [
       "<matplotlib.figure.Figure at 0x1abbc3afd30>"
      ]
     },
     "metadata": {},
     "output_type": "display_data"
    },
    {
     "data": {
      "image/png": "[encoded data removed]",
      "text/plain": [
       "<matplotlib.figure.Figure at 0x1abc020a390>"
      ]
     },
     "metadata": {},
     "output_type": "display_data"
    }
   ],
   "source": [
    "from xgboost import plot_importance\n",
    "plt.figure(13)\n",
    "plot_importance(model_xgb)\n",
    "plt.show()"
   ]
  },
  {
   "cell_type": "code",
   "execution_count": 1181,
   "metadata": {
    "scrolled": true
   },
   "outputs": [
    {
     "name": "stderr",
     "output_type": "stream",
     "text": [
      "e:\\Anaconda3\\lib\\site-packages\\sklearn\\preprocessing\\label.py:151: DeprecationWarning: The truth value of an empty array is ambiguous. Returning False, but in future this will result in an error. Use `array.size > 0` to check that an array is not empty.\n",
      "  if diff:\n"
     ]
    }
   ],
   "source": [
    "pred = model_xgb.predict(test_x)"
   ]
  },
  {
   "cell_type": "code",
   "execution_count": 1171,
   "metadata": {},
   "outputs": [
    {
     "name": "stderr",
     "output_type": "stream",
     "text": [
      "e:\\Anaconda3\\lib\\site-packages\\sklearn\\preprocessing\\label.py:151: DeprecationWarning: The truth value of an empty array is ambiguous. Returning False, but in future this will result in an error. Use `array.size > 0` to check that an array is not empty.\n",
      "  if diff:\n"
     ]
    },
    {
     "data": {
      "text/plain": [
       "array([0.9973832 , 0.99163936, 0.99089307, 0.99197884, 0.98743049,\n",
       "       0.99442785, 1.        , 1.        , 1.        , 1.        ,\n",
       "       0.93609091, 0.73989058, 0.69866309, 0.70798286, 0.00728218])"
      ]
     },
     "execution_count": 1171,
     "metadata": {},
     "output_type": "execute_result"
    }
   ],
   "source": [
    "pred1 = model_xgb.predict(train_x)\n",
    "score1 = f1_score(train_y1 ,pred1, average=None)\n",
    "score1"
   ]
  },
  {
   "cell_type": "code",
   "execution_count": 1182,
   "metadata": {},
   "outputs": [
    {
     "data": {
      "text/plain": [
       "0.8940226961524586"
      ]
     },
     "execution_count": 1182,
     "metadata": {},
     "output_type": "execute_result"
    }
   ],
   "source": [
    "score = f1_score(test_y ,pred, average=None)\n",
    "score.mean()"
   ]
  },
  {
   "cell_type": "code",
   "execution_count": 1173,
   "metadata": {},
   "outputs": [
    {
     "data": {
      "text/plain": [
       "0.8695774960358238"
      ]
     },
     "execution_count": 1173,
     "metadata": {},
     "output_type": "execute_result"
    }
   ],
   "source": [
    "score1.mean()"
   ]
  },
  {
   "cell_type": "code",
   "execution_count": 1184,
   "metadata": {},
   "outputs": [
    {
     "data": {
      "text/plain": [
       "array([0.94040544, 0.79378882, 0.79631953, 0.9261927 , 0.88249588,\n",
       "       0.94861936, 0.99748386, 0.99460027, 0.97185838, 1.        ,\n",
       "       0.95295946, 0.82971493, 0.7875359 , 0.83365426, 0.75471163])"
      ]
     },
     "execution_count": 1184,
     "metadata": {},
     "output_type": "execute_result"
    }
   ],
   "source": [
    "score"
   ]
  },
  {
   "cell_type": "code",
   "execution_count": null,
   "metadata": {},
   "outputs": [],
   "source": []
  },
  {
   "cell_type": "code",
   "execution_count": 195,
   "metadata": {},
   "outputs": [],
   "source": [
    "# for data in pred:\n",
    "#     if data == 14:\n",
    "#         print(1)\n",
    "#         break"
   ]
  },
  {
   "cell_type": "code",
   "execution_count": 170,
   "metadata": {},
   "outputs": [
    {
     "data": {
      "text/plain": [
       "89950166    0.288588\n",
       "89950167    0.151302\n",
       "89016252    0.108157\n",
       "99999828    0.106059\n",
       "99999827    0.070187\n",
       "99999826    0.068535\n",
       "89950168    0.067618\n",
       "99999825    0.044170\n",
       "99999830    0.038899\n",
       "89016259    0.030950\n",
       "89016253    0.025535\n",
       "dtype: float64"
      ]
     },
     "execution_count": 170,
     "metadata": {},
     "output_type": "execute_result"
    }
   ],
   "source": [
    "pd.Series(pred).value_counts(normalize = True)"
   ]
  },
  {
   "cell_type": "code",
   "execution_count": 447,
   "metadata": {},
   "outputs": [
    {
     "data": {
      "text/plain": [
       "90063345    0.332159\n",
       "89950166    0.154879\n",
       "89950167    0.085461\n",
       "99999828    0.061755\n",
       "89016252    0.059701\n",
       "99104722    0.045770\n",
       "90109916    0.044401\n",
       "89950168    0.038709\n",
       "99999827    0.037812\n",
       "99999826    0.033868\n",
       "90155946    0.025565\n",
       "99999830    0.024661\n",
       "99999825    0.023817\n",
       "89016253    0.016469\n",
       "89016259    0.014974\n",
       "Name: current_service, dtype: float64"
      ]
     },
     "execution_count": 447,
     "metadata": {},
     "output_type": "execute_result"
    }
   ],
   "source": [
    "pd.Series(y_train).value_counts(normalize = True)"
   ]
  },
  {
   "cell_type": "code",
   "execution_count": 779,
   "metadata": {},
   "outputs": [
    {
     "data": {
      "text/plain": [
       "0.8508308829242046"
      ]
     },
     "execution_count": 779,
     "metadata": {},
     "output_type": "execute_result"
    }
   ],
   "source": [
    "score = f1_score(test_y ,pred, average=None)\n",
    "score.mean()"
   ]
  },
  {
   "cell_type": "code",
   "execution_count": 279,
   "metadata": {},
   "outputs": [],
   "source": [
    "train['y'] = train_y\n",
    "train_no6 = train[train['y'] != 6].copy()"
   ]
  },
  {
   "cell_type": "code",
   "execution_count": 280,
   "metadata": {},
   "outputs": [
    {
     "data": {
      "text/html": [
       "<div>\n",
       "<style scoped>\n",
       "    .dataframe tbody tr th:only-of-type {\n",
       "        vertical-align: middle;\n",
       "    }\n",
       "\n",
       "    .dataframe tbody tr th {\n",
       "        vertical-align: top;\n",
       "    }\n",
       "\n",
       "    .dataframe thead th {\n",
       "        text-align: right;\n",
       "    }\n",
       "</style>\n",
       "<table border=\"1\" class=\"dataframe\">\n",
       "  <thead>\n",
       "    <tr style=\"text-align: right;\">\n",
       "      <th></th>\n",
       "      <th>is_mix_service</th>\n",
       "      <th>online_time</th>\n",
       "      <th>1_total_fee</th>\n",
       "      <th>2_total_fee</th>\n",
       "      <th>3_total_fee</th>\n",
       "      <th>4_total_fee</th>\n",
       "      <th>month_traffic</th>\n",
       "      <th>many_over_bill</th>\n",
       "      <th>contract_time</th>\n",
       "      <th>is_promise_low_consume</th>\n",
       "      <th>...</th>\n",
       "      <th>contract_type4</th>\n",
       "      <th>contract_type5</th>\n",
       "      <th>contract_type6</th>\n",
       "      <th>contract_type7</th>\n",
       "      <th>contract_type8</th>\n",
       "      <th>net_service0</th>\n",
       "      <th>net_service1</th>\n",
       "      <th>net_service2</th>\n",
       "      <th>net_service3</th>\n",
       "      <th>y</th>\n",
       "    </tr>\n",
       "  </thead>\n",
       "  <tbody>\n",
       "    <tr>\n",
       "      <th>0</th>\n",
       "      <td>0</td>\n",
       "      <td>85</td>\n",
       "      <td>295.96</td>\n",
       "      <td>296.20</td>\n",
       "      <td>296.00</td>\n",
       "      <td>296.80</td>\n",
       "      <td>3813.614698</td>\n",
       "      <td>0</td>\n",
       "      <td>36</td>\n",
       "      <td>0</td>\n",
       "      <td>...</td>\n",
       "      <td>0.0</td>\n",
       "      <td>0.0</td>\n",
       "      <td>0.0</td>\n",
       "      <td>0.0</td>\n",
       "      <td>0.0</td>\n",
       "      <td>0.0</td>\n",
       "      <td>0.0</td>\n",
       "      <td>1.0</td>\n",
       "      <td>0.0</td>\n",
       "      <td>10</td>\n",
       "    </tr>\n",
       "    <tr>\n",
       "      <th>2</th>\n",
       "      <td>0</td>\n",
       "      <td>12</td>\n",
       "      <td>44.50</td>\n",
       "      <td>70.20</td>\n",
       "      <td>69.00</td>\n",
       "      <td>61.40</td>\n",
       "      <td>2598.397406</td>\n",
       "      <td>0</td>\n",
       "      <td>0</td>\n",
       "      <td>0</td>\n",
       "      <td>...</td>\n",
       "      <td>0.0</td>\n",
       "      <td>0.0</td>\n",
       "      <td>0.0</td>\n",
       "      <td>0.0</td>\n",
       "      <td>0.0</td>\n",
       "      <td>0.0</td>\n",
       "      <td>0.0</td>\n",
       "      <td>1.0</td>\n",
       "      <td>0.0</td>\n",
       "      <td>7</td>\n",
       "    </tr>\n",
       "    <tr>\n",
       "      <th>3</th>\n",
       "      <td>0</td>\n",
       "      <td>134</td>\n",
       "      <td>87.95</td>\n",
       "      <td>81.40</td>\n",
       "      <td>76.00</td>\n",
       "      <td>88.30</td>\n",
       "      <td>988.440563</td>\n",
       "      <td>0</td>\n",
       "      <td>0</td>\n",
       "      <td>0</td>\n",
       "      <td>...</td>\n",
       "      <td>0.0</td>\n",
       "      <td>0.0</td>\n",
       "      <td>0.0</td>\n",
       "      <td>0.0</td>\n",
       "      <td>0.0</td>\n",
       "      <td>0.0</td>\n",
       "      <td>0.0</td>\n",
       "      <td>1.0</td>\n",
       "      <td>0.0</td>\n",
       "      <td>3</td>\n",
       "    </tr>\n",
       "    <tr>\n",
       "      <th>4</th>\n",
       "      <td>0</td>\n",
       "      <td>84</td>\n",
       "      <td>317.04</td>\n",
       "      <td>314.08</td>\n",
       "      <td>435.51</td>\n",
       "      <td>413.05</td>\n",
       "      <td>5885.800642</td>\n",
       "      <td>0</td>\n",
       "      <td>24</td>\n",
       "      <td>0</td>\n",
       "      <td>...</td>\n",
       "      <td>0.0</td>\n",
       "      <td>0.0</td>\n",
       "      <td>0.0</td>\n",
       "      <td>0.0</td>\n",
       "      <td>0.0</td>\n",
       "      <td>0.0</td>\n",
       "      <td>0.0</td>\n",
       "      <td>1.0</td>\n",
       "      <td>0.0</td>\n",
       "      <td>10</td>\n",
       "    </tr>\n",
       "    <tr>\n",
       "      <th>5</th>\n",
       "      <td>0</td>\n",
       "      <td>46</td>\n",
       "      <td>36.00</td>\n",
       "      <td>36.00</td>\n",
       "      <td>36.00</td>\n",
       "      <td>37.20</td>\n",
       "      <td>218.003452</td>\n",
       "      <td>0</td>\n",
       "      <td>12</td>\n",
       "      <td>0</td>\n",
       "      <td>...</td>\n",
       "      <td>0.0</td>\n",
       "      <td>0.0</td>\n",
       "      <td>0.0</td>\n",
       "      <td>0.0</td>\n",
       "      <td>0.0</td>\n",
       "      <td>0.0</td>\n",
       "      <td>0.0</td>\n",
       "      <td>1.0</td>\n",
       "      <td>0.0</td>\n",
       "      <td>5</td>\n",
       "    </tr>\n",
       "  </tbody>\n",
       "</table>\n",
       "<p>5 rows × 38 columns</p>\n",
       "</div>"
      ],
      "text/plain": [
       "   is_mix_service  online_time  1_total_fee  2_total_fee  3_total_fee  \\\n",
       "0               0           85       295.96       296.20       296.00   \n",
       "2               0           12        44.50        70.20        69.00   \n",
       "3               0          134        87.95        81.40        76.00   \n",
       "4               0           84       317.04       314.08       435.51   \n",
       "5               0           46        36.00        36.00        36.00   \n",
       "\n",
       "   4_total_fee  month_traffic  many_over_bill  contract_time  \\\n",
       "0       296.80    3813.614698               0             36   \n",
       "2        61.40    2598.397406               0              0   \n",
       "3        88.30     988.440563               0              0   \n",
       "4       413.05    5885.800642               0             24   \n",
       "5        37.20     218.003452               0             12   \n",
       "\n",
       "   is_promise_low_consume ...  contract_type4  contract_type5  contract_type6  \\\n",
       "0                       0 ...             0.0             0.0             0.0   \n",
       "2                       0 ...             0.0             0.0             0.0   \n",
       "3                       0 ...             0.0             0.0             0.0   \n",
       "4                       0 ...             0.0             0.0             0.0   \n",
       "5                       0 ...             0.0             0.0             0.0   \n",
       "\n",
       "   contract_type7  contract_type8  net_service0  net_service1  net_service2  \\\n",
       "0             0.0             0.0           0.0           0.0           1.0   \n",
       "2             0.0             0.0           0.0           0.0           1.0   \n",
       "3             0.0             0.0           0.0           0.0           1.0   \n",
       "4             0.0             0.0           0.0           0.0           1.0   \n",
       "5             0.0             0.0           0.0           0.0           1.0   \n",
       "\n",
       "   net_service3   y  \n",
       "0           0.0  10  \n",
       "2           0.0   7  \n",
       "3           0.0   3  \n",
       "4           0.0  10  \n",
       "5           0.0   5  \n",
       "\n",
       "[5 rows x 38 columns]"
      ]
     },
     "execution_count": 280,
     "metadata": {},
     "output_type": "execute_result"
    }
   ],
   "source": [
    "train_no6.head()"
   ]
  },
  {
   "cell_type": "code",
   "execution_count": 281,
   "metadata": {},
   "outputs": [
    {
     "data": {
      "text/plain": [
       "3     0.231911\n",
       "4     0.127966\n",
       "13    0.092470\n",
       "0     0.089394\n",
       "9     0.068534\n",
       "7     0.066485\n",
       "5     0.057961\n",
       "12    0.056618\n",
       "11    0.050712\n",
       "8     0.038280\n",
       "14    0.036927\n",
       "10    0.035663\n",
       "1     0.024659\n",
       "2     0.022421\n",
       "Name: y, dtype: float64"
      ]
     },
     "execution_count": 281,
     "metadata": {},
     "output_type": "execute_result"
    }
   ],
   "source": [
    "train_no6['y'].value_counts(normalize = True)"
   ]
  },
  {
   "cell_type": "code",
   "execution_count": 287,
   "metadata": {},
   "outputs": [],
   "source": [
    "y = np.array(train_no6['y'])\n",
    "# print(y)\n",
    "for i in range(y.shape[0]):\n",
    "    a = y[i]\n",
    "    y[i] = label[a]"
   ]
  },
  {
   "cell_type": "code",
   "execution_count": 288,
   "metadata": {},
   "outputs": [],
   "source": [
    "train_no6.drop('y', axis = 1, inplace = True)"
   ]
  },
  {
   "cell_type": "code",
   "execution_count": 290,
   "metadata": {},
   "outputs": [
    {
     "data": {
      "text/html": [
       "<div>\n",
       "<style scoped>\n",
       "    .dataframe tbody tr th:only-of-type {\n",
       "        vertical-align: middle;\n",
       "    }\n",
       "\n",
       "    .dataframe tbody tr th {\n",
       "        vertical-align: top;\n",
       "    }\n",
       "\n",
       "    .dataframe thead th {\n",
       "        text-align: right;\n",
       "    }\n",
       "</style>\n",
       "<table border=\"1\" class=\"dataframe\">\n",
       "  <thead>\n",
       "    <tr style=\"text-align: right;\">\n",
       "      <th></th>\n",
       "      <th>is_mix_service</th>\n",
       "      <th>online_time</th>\n",
       "      <th>1_total_fee</th>\n",
       "      <th>2_total_fee</th>\n",
       "      <th>3_total_fee</th>\n",
       "      <th>4_total_fee</th>\n",
       "      <th>month_traffic</th>\n",
       "      <th>many_over_bill</th>\n",
       "      <th>contract_time</th>\n",
       "      <th>is_promise_low_consume</th>\n",
       "      <th>...</th>\n",
       "      <th>contract_type3</th>\n",
       "      <th>contract_type4</th>\n",
       "      <th>contract_type5</th>\n",
       "      <th>contract_type6</th>\n",
       "      <th>contract_type7</th>\n",
       "      <th>contract_type8</th>\n",
       "      <th>net_service0</th>\n",
       "      <th>net_service1</th>\n",
       "      <th>net_service2</th>\n",
       "      <th>net_service3</th>\n",
       "    </tr>\n",
       "  </thead>\n",
       "  <tbody>\n",
       "    <tr>\n",
       "      <th>0</th>\n",
       "      <td>0</td>\n",
       "      <td>85</td>\n",
       "      <td>295.96</td>\n",
       "      <td>296.20</td>\n",
       "      <td>296.00</td>\n",
       "      <td>296.80</td>\n",
       "      <td>3813.614698</td>\n",
       "      <td>0</td>\n",
       "      <td>36</td>\n",
       "      <td>0</td>\n",
       "      <td>...</td>\n",
       "      <td>0.0</td>\n",
       "      <td>0.0</td>\n",
       "      <td>0.0</td>\n",
       "      <td>0.0</td>\n",
       "      <td>0.0</td>\n",
       "      <td>0.0</td>\n",
       "      <td>0.0</td>\n",
       "      <td>0.0</td>\n",
       "      <td>1.0</td>\n",
       "      <td>0.0</td>\n",
       "    </tr>\n",
       "    <tr>\n",
       "      <th>2</th>\n",
       "      <td>0</td>\n",
       "      <td>12</td>\n",
       "      <td>44.50</td>\n",
       "      <td>70.20</td>\n",
       "      <td>69.00</td>\n",
       "      <td>61.40</td>\n",
       "      <td>2598.397406</td>\n",
       "      <td>0</td>\n",
       "      <td>0</td>\n",
       "      <td>0</td>\n",
       "      <td>...</td>\n",
       "      <td>0.0</td>\n",
       "      <td>0.0</td>\n",
       "      <td>0.0</td>\n",
       "      <td>0.0</td>\n",
       "      <td>0.0</td>\n",
       "      <td>0.0</td>\n",
       "      <td>0.0</td>\n",
       "      <td>0.0</td>\n",
       "      <td>1.0</td>\n",
       "      <td>0.0</td>\n",
       "    </tr>\n",
       "    <tr>\n",
       "      <th>3</th>\n",
       "      <td>0</td>\n",
       "      <td>134</td>\n",
       "      <td>87.95</td>\n",
       "      <td>81.40</td>\n",
       "      <td>76.00</td>\n",
       "      <td>88.30</td>\n",
       "      <td>988.440563</td>\n",
       "      <td>0</td>\n",
       "      <td>0</td>\n",
       "      <td>0</td>\n",
       "      <td>...</td>\n",
       "      <td>0.0</td>\n",
       "      <td>0.0</td>\n",
       "      <td>0.0</td>\n",
       "      <td>0.0</td>\n",
       "      <td>0.0</td>\n",
       "      <td>0.0</td>\n",
       "      <td>0.0</td>\n",
       "      <td>0.0</td>\n",
       "      <td>1.0</td>\n",
       "      <td>0.0</td>\n",
       "    </tr>\n",
       "    <tr>\n",
       "      <th>4</th>\n",
       "      <td>0</td>\n",
       "      <td>84</td>\n",
       "      <td>317.04</td>\n",
       "      <td>314.08</td>\n",
       "      <td>435.51</td>\n",
       "      <td>413.05</td>\n",
       "      <td>5885.800642</td>\n",
       "      <td>0</td>\n",
       "      <td>24</td>\n",
       "      <td>0</td>\n",
       "      <td>...</td>\n",
       "      <td>0.0</td>\n",
       "      <td>0.0</td>\n",
       "      <td>0.0</td>\n",
       "      <td>0.0</td>\n",
       "      <td>0.0</td>\n",
       "      <td>0.0</td>\n",
       "      <td>0.0</td>\n",
       "      <td>0.0</td>\n",
       "      <td>1.0</td>\n",
       "      <td>0.0</td>\n",
       "    </tr>\n",
       "    <tr>\n",
       "      <th>5</th>\n",
       "      <td>0</td>\n",
       "      <td>46</td>\n",
       "      <td>36.00</td>\n",
       "      <td>36.00</td>\n",
       "      <td>36.00</td>\n",
       "      <td>37.20</td>\n",
       "      <td>218.003452</td>\n",
       "      <td>0</td>\n",
       "      <td>12</td>\n",
       "      <td>0</td>\n",
       "      <td>...</td>\n",
       "      <td>1.0</td>\n",
       "      <td>0.0</td>\n",
       "      <td>0.0</td>\n",
       "      <td>0.0</td>\n",
       "      <td>0.0</td>\n",
       "      <td>0.0</td>\n",
       "      <td>0.0</td>\n",
       "      <td>0.0</td>\n",
       "      <td>1.0</td>\n",
       "      <td>0.0</td>\n",
       "    </tr>\n",
       "  </tbody>\n",
       "</table>\n",
       "<p>5 rows × 37 columns</p>\n",
       "</div>"
      ],
      "text/plain": [
       "   is_mix_service  online_time  1_total_fee  2_total_fee  3_total_fee  \\\n",
       "0               0           85       295.96       296.20       296.00   \n",
       "2               0           12        44.50        70.20        69.00   \n",
       "3               0          134        87.95        81.40        76.00   \n",
       "4               0           84       317.04       314.08       435.51   \n",
       "5               0           46        36.00        36.00        36.00   \n",
       "\n",
       "   4_total_fee  month_traffic  many_over_bill  contract_time  \\\n",
       "0       296.80    3813.614698               0             36   \n",
       "2        61.40    2598.397406               0              0   \n",
       "3        88.30     988.440563               0              0   \n",
       "4       413.05    5885.800642               0             24   \n",
       "5        37.20     218.003452               0             12   \n",
       "\n",
       "   is_promise_low_consume      ...       contract_type3  contract_type4  \\\n",
       "0                       0      ...                  0.0             0.0   \n",
       "2                       0      ...                  0.0             0.0   \n",
       "3                       0      ...                  0.0             0.0   \n",
       "4                       0      ...                  0.0             0.0   \n",
       "5                       0      ...                  1.0             0.0   \n",
       "\n",
       "   contract_type5  contract_type6  contract_type7  contract_type8  \\\n",
       "0             0.0             0.0             0.0             0.0   \n",
       "2             0.0             0.0             0.0             0.0   \n",
       "3             0.0             0.0             0.0             0.0   \n",
       "4             0.0             0.0             0.0             0.0   \n",
       "5             0.0             0.0             0.0             0.0   \n",
       "\n",
       "   net_service0  net_service1  net_service2  net_service3  \n",
       "0           0.0           0.0           1.0           0.0  \n",
       "2           0.0           0.0           1.0           0.0  \n",
       "3           0.0           0.0           1.0           0.0  \n",
       "4           0.0           0.0           1.0           0.0  \n",
       "5           0.0           0.0           1.0           0.0  \n",
       "\n",
       "[5 rows x 37 columns]"
      ]
     },
     "execution_count": 290,
     "metadata": {},
     "output_type": "execute_result"
    }
   ],
   "source": [
    "train_no6.head()"
   ]
  },
  {
   "cell_type": "code",
   "execution_count": 292,
   "metadata": {},
   "outputs": [
    {
     "data": {
      "text/plain": [
       "(401146,)"
      ]
     },
     "execution_count": 292,
     "metadata": {},
     "output_type": "execute_result"
    }
   ],
   "source": [
    "y.shape"
   ]
  },
  {
   "cell_type": "code",
   "execution_count": 293,
   "metadata": {},
   "outputs": [
    {
     "data": {
      "text/plain": [
       "XGBClassifier(base_score=0.5, booster='gbtree', colsample_bylevel=1,\n",
       "       colsample_bytree=1, eval_metric='auc', gamma=0.1, learning_rate=0.3,\n",
       "       max_delta_step=0, max_depth=6, min_child_weight=1, missing=None,\n",
       "       n_estimators=100, n_jobs=1, nthread=None,\n",
       "       objective='multi:softprob', random_state=0, reg_alpha=0,\n",
       "       reg_lambda=1, scale_pos_weight=1, seed=1000, silent=1, subsample=1)"
      ]
     },
     "execution_count": 293,
     "metadata": {},
     "output_type": "execute_result"
    }
   ],
   "source": [
    "model_xgb = xgb.XGBClassifier(silent=1 ,\n",
    "learning_rate= 0.3,\n",
    "min_child_weight=1, \n",
    "# 这个参数默认是 1，是每个叶子里面 h 的和至少是多少，对正负样本不均衡时的 0-1 分类而言\n",
    "#，假设 h 在 0.01 附近，min_child_weight 为 1 意味着叶子节点中最少需要包含 100 个样本。\n",
    "#这个参数非常影响结果，控制叶子节点中二阶导的和的最小值，该参数值越小，越容易 overfitting。\n",
    "max_depth=6, \n",
    "gamma=0.1, \n",
    "subsample=1, \n",
    "max_delta_step=0,\n",
    "colsample_bytree=1, \n",
    "reg_lambda=1,  \n",
    "#reg_alpha=0, \n",
    "scale_pos_weight=1, \n",
    "objective= 'multi:softmax', \n",
    "# num_class=2, \n",
    "n_estimators=100, \n",
    "seed=1000 ,\n",
    "eval_metric= 'auc')\n",
    "train_x,test_x, train_y1, test_y = train_test_split(train_no6, y,random_state=42)\n",
    "model_xgb.fit(train_x, train_y1)"
   ]
  },
  {
   "cell_type": "code",
   "execution_count": 294,
   "metadata": {},
   "outputs": [
    {
     "name": "stderr",
     "output_type": "stream",
     "text": [
      "e:\\Anaconda3\\lib\\site-packages\\sklearn\\preprocessing\\label.py:151: DeprecationWarning: The truth value of an empty array is ambiguous. Returning False, but in future this will result in an error. Use `array.size > 0` to check that an array is not empty.\n",
      "  if diff:\n"
     ]
    }
   ],
   "source": [
    "pred = model_xgb.predict(test_x)"
   ]
  },
  {
   "cell_type": "code",
   "execution_count": 1202,
   "metadata": {},
   "outputs": [
    {
     "data": {
      "text/plain": [
       "array([0.94040544, 0.79378882, 0.79631953, 0.9261927 , 0.88249588,\n",
       "       0.94861936, 0.99748386, 0.99460027, 0.97185838, 1.        ,\n",
       "       0.95295946, 0.82971493, 0.7875359 , 0.83365426, 0.75471163])"
      ]
     },
     "execution_count": 1202,
     "metadata": {},
     "output_type": "execute_result"
    }
   ],
   "source": [
    "score = f1_score(test_y ,pred, average=None)\n",
    "score"
   ]
  },
  {
   "cell_type": "code",
   "execution_count": 1294,
   "metadata": {
    "scrolled": false
   },
   "outputs": [
    {
     "name": "stdout",
     "output_type": "stream",
     "text": [
      "<class 'pandas.core.frame.DataFrame'>\n",
      "RangeIndex: 262565 entries, 0 to 262564\n",
      "Data columns (total 25 columns):\n",
      "service_type              262565 non-null int64\n",
      "is_mix_service            262565 non-null int64\n",
      "online_time               262565 non-null int64\n",
      "1_total_fee               262565 non-null float64\n",
      "2_total_fee               262565 non-null object\n",
      "3_total_fee               262565 non-null object\n",
      "4_total_fee               262565 non-null float64\n",
      "month_traffic             262565 non-null float64\n",
      "many_over_bill            262565 non-null int64\n",
      "contract_type             262565 non-null int64\n",
      "contract_time             262565 non-null int64\n",
      "is_promise_low_consume    262565 non-null int64\n",
      "net_service               262565 non-null int64\n",
      "pay_times                 262565 non-null int64\n",
      "pay_num                   262565 non-null float64\n",
      "last_month_traffic        262565 non-null float64\n",
      "local_trafffic_month      262565 non-null float64\n",
      "local_caller_time         262565 non-null float64\n",
      "service1_caller_time      262565 non-null float64\n",
      "service2_caller_time      262565 non-null float64\n",
      "gender                    262565 non-null int64\n",
      "age                       262565 non-null int64\n",
      "complaint_level           262565 non-null int64\n",
      "former_complaint_num      262565 non-null int64\n",
      "former_complaint_fee      262565 non-null int64\n",
      "dtypes: float64(9), int64(14), object(2)\n",
      "memory usage: 50.1+ MB\n"
     ]
    }
   ],
   "source": [
    "test.info()"
   ]
  },
  {
   "cell_type": "code",
   "execution_count": 1295,
   "metadata": {},
   "outputs": [
    {
     "name": "stdout",
     "output_type": "stream",
     "text": [
      "262565\n",
      "262565\n"
     ]
    }
   ],
   "source": [
    "temp = list(test['2_total_fee'])\n",
    "_total_fee = list(test['1_total_fee'])\n",
    "print(len(temp))\n",
    "i = 0\n",
    "while i < len(temp):\n",
    "    if temp[i] == '\\\\N':\n",
    "        temp[i] = _total_fee[i]\n",
    "    i += 1\n",
    "print(len(temp))\n",
    "test['2_total_fee'] = pd.Series(temp)\n",
    "# test = test[test['2_total_fee'].isin(temp)].reset_index(drop=True)"
   ]
  },
  {
   "cell_type": "code",
   "execution_count": 1296,
   "metadata": {},
   "outputs": [
    {
     "name": "stdout",
     "output_type": "stream",
     "text": [
      "262565\n",
      "262565\n"
     ]
    }
   ],
   "source": [
    "temp = list(test['3_total_fee'])\n",
    "_total_fee = list(test['1_total_fee'])\n",
    "print(len(temp))\n",
    "i = 0\n",
    "while i < len(temp):\n",
    "    if temp[i] == '\\\\N':\n",
    "        temp[i] = _total_fee[i]\n",
    "    i += 1\n",
    "print(len(temp))\n",
    "test['3_total_fee'] = pd.Series(temp)\n",
    "# test = test[test['3_total_fee'].isin(temp)].reset_index(drop=True)"
   ]
  },
  {
   "cell_type": "code",
   "execution_count": 1297,
   "metadata": {},
   "outputs": [],
   "source": [
    "_total_fee_2 = test['2_total_fee']\n",
    "_total_fee_2 = np.array(_total_fee_2, dtype = np.float)\n",
    "test['2_total_fee'] = pd.DataFrame(_total_fee_2)\n",
    "_total_fee_3 = test['3_total_fee']\n",
    "_total_fee_3 = np.array(_total_fee_3, dtype = np.float)\n",
    "test['3_total_fee'] = pd.DataFrame(_total_fee_2)"
   ]
  },
  {
   "cell_type": "code",
   "execution_count": 1298,
   "metadata": {},
   "outputs": [],
   "source": [
    "test.drop('complaint_level',axis = 1, inplace = True )"
   ]
  },
  {
   "cell_type": "code",
   "execution_count": 1299,
   "metadata": {},
   "outputs": [
    {
     "name": "stdout",
     "output_type": "stream",
     "text": [
      "<class 'pandas.core.frame.DataFrame'>\n",
      "RangeIndex: 262565 entries, 0 to 262564\n",
      "Data columns (total 24 columns):\n",
      "service_type              262565 non-null int64\n",
      "is_mix_service            262565 non-null int64\n",
      "online_time               262565 non-null int64\n",
      "1_total_fee               262565 non-null float64\n",
      "2_total_fee               262565 non-null float64\n",
      "3_total_fee               262565 non-null float64\n",
      "4_total_fee               262565 non-null float64\n",
      "month_traffic             262565 non-null float64\n",
      "many_over_bill            262565 non-null int64\n",
      "contract_type             262565 non-null int64\n",
      "contract_time             262565 non-null int64\n",
      "is_promise_low_consume    262565 non-null int64\n",
      "net_service               262565 non-null int64\n",
      "pay_times                 262565 non-null int64\n",
      "pay_num                   262565 non-null float64\n",
      "last_month_traffic        262565 non-null float64\n",
      "local_trafffic_month      262565 non-null float64\n",
      "local_caller_time         262565 non-null float64\n",
      "service1_caller_time      262565 non-null float64\n",
      "service2_caller_time      262565 non-null float64\n",
      "gender                    262565 non-null int64\n",
      "age                       262565 non-null int64\n",
      "former_complaint_num      262565 non-null int64\n",
      "former_complaint_fee      262565 non-null int64\n",
      "dtypes: float64(11), int64(13)\n",
      "memory usage: 48.1 MB\n"
     ]
    }
   ],
   "source": [
    "test.info()"
   ]
  },
  {
   "cell_type": "code",
   "execution_count": 1300,
   "metadata": {},
   "outputs": [
    {
     "name": "stderr",
     "output_type": "stream",
     "text": [
      "e:\\Anaconda3\\lib\\site-packages\\ipykernel_launcher.py:8: FutureWarning: reshape is deprecated and will raise in a subsequent release. Please use .values.reshape(...) instead\n",
      "  \n",
      "e:\\Anaconda3\\lib\\site-packages\\ipykernel_launcher.py:9: FutureWarning: reshape is deprecated and will raise in a subsequent release. Please use .values.reshape(...) instead\n",
      "  if __name__ == '__main__':\n"
     ]
    }
   ],
   "source": [
    "col = ['service_type','contract_type','net_service']\n",
    "oneHotEncode(test,col)"
   ]
  },
  {
   "cell_type": "code",
   "execution_count": 1301,
   "metadata": {},
   "outputs": [
    {
     "data": {
      "text/html": [
       "<div>\n",
       "<style scoped>\n",
       "    .dataframe tbody tr th:only-of-type {\n",
       "        vertical-align: middle;\n",
       "    }\n",
       "\n",
       "    .dataframe tbody tr th {\n",
       "        vertical-align: top;\n",
       "    }\n",
       "\n",
       "    .dataframe thead th {\n",
       "        text-align: right;\n",
       "    }\n",
       "</style>\n",
       "<table border=\"1\" class=\"dataframe\">\n",
       "  <thead>\n",
       "    <tr style=\"text-align: right;\">\n",
       "      <th></th>\n",
       "      <th>is_mix_service</th>\n",
       "      <th>online_time</th>\n",
       "      <th>1_total_fee</th>\n",
       "      <th>2_total_fee</th>\n",
       "      <th>3_total_fee</th>\n",
       "      <th>4_total_fee</th>\n",
       "      <th>month_traffic</th>\n",
       "      <th>many_over_bill</th>\n",
       "      <th>contract_time</th>\n",
       "      <th>is_promise_low_consume</th>\n",
       "      <th>...</th>\n",
       "      <th>former_complaint_num</th>\n",
       "      <th>former_complaint_fee</th>\n",
       "      <th>service_type0</th>\n",
       "      <th>service_type1</th>\n",
       "      <th>service_type2</th>\n",
       "      <th>contract_type0</th>\n",
       "      <th>contract_type1</th>\n",
       "      <th>contract_type3</th>\n",
       "      <th>contract_type7</th>\n",
       "      <th>net_service2</th>\n",
       "    </tr>\n",
       "  </thead>\n",
       "  <tbody>\n",
       "    <tr>\n",
       "      <th>0</th>\n",
       "      <td>0</td>\n",
       "      <td>193</td>\n",
       "      <td>80.00</td>\n",
       "      <td>80.00</td>\n",
       "      <td>80.00</td>\n",
       "      <td>80.00</td>\n",
       "      <td>872.042338</td>\n",
       "      <td>0</td>\n",
       "      <td>0</td>\n",
       "      <td>1</td>\n",
       "      <td>...</td>\n",
       "      <td>0</td>\n",
       "      <td>0</td>\n",
       "      <td>0.0</td>\n",
       "      <td>0.0</td>\n",
       "      <td>1.0</td>\n",
       "      <td>1.0</td>\n",
       "      <td>0.0</td>\n",
       "      <td>0.0</td>\n",
       "      <td>0.0</td>\n",
       "      <td>1.0</td>\n",
       "    </tr>\n",
       "    <tr>\n",
       "      <th>1</th>\n",
       "      <td>0</td>\n",
       "      <td>5</td>\n",
       "      <td>86.70</td>\n",
       "      <td>74.20</td>\n",
       "      <td>74.20</td>\n",
       "      <td>68.90</td>\n",
       "      <td>200.000000</td>\n",
       "      <td>1</td>\n",
       "      <td>0</td>\n",
       "      <td>0</td>\n",
       "      <td>...</td>\n",
       "      <td>0</td>\n",
       "      <td>0</td>\n",
       "      <td>1.0</td>\n",
       "      <td>0.0</td>\n",
       "      <td>0.0</td>\n",
       "      <td>1.0</td>\n",
       "      <td>0.0</td>\n",
       "      <td>0.0</td>\n",
       "      <td>0.0</td>\n",
       "      <td>1.0</td>\n",
       "    </tr>\n",
       "    <tr>\n",
       "      <th>2</th>\n",
       "      <td>0</td>\n",
       "      <td>62</td>\n",
       "      <td>90.90</td>\n",
       "      <td>127.35</td>\n",
       "      <td>127.35</td>\n",
       "      <td>91.00</td>\n",
       "      <td>22927.945140</td>\n",
       "      <td>0</td>\n",
       "      <td>12</td>\n",
       "      <td>0</td>\n",
       "      <td>...</td>\n",
       "      <td>1</td>\n",
       "      <td>0</td>\n",
       "      <td>0.0</td>\n",
       "      <td>0.0</td>\n",
       "      <td>1.0</td>\n",
       "      <td>0.0</td>\n",
       "      <td>0.0</td>\n",
       "      <td>0.0</td>\n",
       "      <td>1.0</td>\n",
       "      <td>1.0</td>\n",
       "    </tr>\n",
       "    <tr>\n",
       "      <th>3</th>\n",
       "      <td>0</td>\n",
       "      <td>87</td>\n",
       "      <td>95.45</td>\n",
       "      <td>154.65</td>\n",
       "      <td>154.65</td>\n",
       "      <td>143.35</td>\n",
       "      <td>4793.146457</td>\n",
       "      <td>0</td>\n",
       "      <td>36</td>\n",
       "      <td>0</td>\n",
       "      <td>...</td>\n",
       "      <td>0</td>\n",
       "      <td>0</td>\n",
       "      <td>0.0</td>\n",
       "      <td>0.0</td>\n",
       "      <td>1.0</td>\n",
       "      <td>0.0</td>\n",
       "      <td>1.0</td>\n",
       "      <td>0.0</td>\n",
       "      <td>0.0</td>\n",
       "      <td>1.0</td>\n",
       "    </tr>\n",
       "    <tr>\n",
       "      <th>4</th>\n",
       "      <td>0</td>\n",
       "      <td>53</td>\n",
       "      <td>76.00</td>\n",
       "      <td>86.00</td>\n",
       "      <td>86.00</td>\n",
       "      <td>76.00</td>\n",
       "      <td>563.253649</td>\n",
       "      <td>0</td>\n",
       "      <td>0</td>\n",
       "      <td>0</td>\n",
       "      <td>...</td>\n",
       "      <td>0</td>\n",
       "      <td>0</td>\n",
       "      <td>0.0</td>\n",
       "      <td>0.0</td>\n",
       "      <td>1.0</td>\n",
       "      <td>1.0</td>\n",
       "      <td>0.0</td>\n",
       "      <td>0.0</td>\n",
       "      <td>0.0</td>\n",
       "      <td>1.0</td>\n",
       "    </tr>\n",
       "  </tbody>\n",
       "</table>\n",
       "<p>5 rows × 29 columns</p>\n",
       "</div>"
      ],
      "text/plain": [
       "   is_mix_service  online_time  1_total_fee  2_total_fee  3_total_fee  \\\n",
       "0               0          193        80.00        80.00        80.00   \n",
       "1               0            5        86.70        74.20        74.20   \n",
       "2               0           62        90.90       127.35       127.35   \n",
       "3               0           87        95.45       154.65       154.65   \n",
       "4               0           53        76.00        86.00        86.00   \n",
       "\n",
       "   4_total_fee  month_traffic  many_over_bill  contract_time  \\\n",
       "0        80.00     872.042338               0              0   \n",
       "1        68.90     200.000000               1              0   \n",
       "2        91.00   22927.945140               0             12   \n",
       "3       143.35    4793.146457               0             36   \n",
       "4        76.00     563.253649               0              0   \n",
       "\n",
       "   is_promise_low_consume      ...       former_complaint_num  \\\n",
       "0                       1      ...                          0   \n",
       "1                       0      ...                          0   \n",
       "2                       0      ...                          1   \n",
       "3                       0      ...                          0   \n",
       "4                       0      ...                          0   \n",
       "\n",
       "   former_complaint_fee  service_type0  service_type1  service_type2  \\\n",
       "0                     0            0.0            0.0            1.0   \n",
       "1                     0            1.0            0.0            0.0   \n",
       "2                     0            0.0            0.0            1.0   \n",
       "3                     0            0.0            0.0            1.0   \n",
       "4                     0            0.0            0.0            1.0   \n",
       "\n",
       "   contract_type0  contract_type1  contract_type3  contract_type7  \\\n",
       "0             1.0             0.0             0.0             0.0   \n",
       "1             1.0             0.0             0.0             0.0   \n",
       "2             0.0             0.0             0.0             1.0   \n",
       "3             0.0             1.0             0.0             0.0   \n",
       "4             1.0             0.0             0.0             0.0   \n",
       "\n",
       "   net_service2  \n",
       "0           1.0  \n",
       "1           1.0  \n",
       "2           1.0  \n",
       "3           1.0  \n",
       "4           1.0  \n",
       "\n",
       "[5 rows x 29 columns]"
      ]
     },
     "execution_count": 1301,
     "metadata": {},
     "output_type": "execute_result"
    }
   ],
   "source": [
    "test.head()"
   ]
  },
  {
   "cell_type": "code",
   "execution_count": 1302,
   "metadata": {},
   "outputs": [],
   "source": [
    "test['traffic'] = test['month_traffic'] + test['last_month_traffic']\n",
    "test['fee'] = test['1_total_fee'] - 0.1 * (test['service1_caller_time'] + test['service2_caller_time'] )\n",
    "fee1 = np.vstack([np.array(test['1_total_fee']), np.array(test['2_total_fee']), np.array(test['3_total_fee']), np.array(test['4_total_fee'])])\n",
    "fee1 = np.median(fee1, axis = 0)\n",
    "test['fee1'] = pd.Series(fee1)\n",
    "test['month_traffic1'] = np.maximum(test['month_traffic'].values, test['local_trafffic_month'].values)\n",
    "test['no_local_traffic'] = test['month_traffic1'] - test['local_trafffic_month']\n",
    "test['age_w'] = test['age'] - test['online_time'] // 12\n",
    "# test.drop(['2_total_fee', '3_total_fee', '4_total_fee'], axis = 1 ,inplace = True)"
   ]
  },
  {
   "cell_type": "code",
   "execution_count": 1303,
   "metadata": {},
   "outputs": [
    {
     "data": {
      "text/html": [
       "<div>\n",
       "<style scoped>\n",
       "    .dataframe tbody tr th:only-of-type {\n",
       "        vertical-align: middle;\n",
       "    }\n",
       "\n",
       "    .dataframe tbody tr th {\n",
       "        vertical-align: top;\n",
       "    }\n",
       "\n",
       "    .dataframe thead th {\n",
       "        text-align: right;\n",
       "    }\n",
       "</style>\n",
       "<table border=\"1\" class=\"dataframe\">\n",
       "  <thead>\n",
       "    <tr style=\"text-align: right;\">\n",
       "      <th></th>\n",
       "      <th>is_mix_service</th>\n",
       "      <th>online_time</th>\n",
       "      <th>1_total_fee</th>\n",
       "      <th>2_total_fee</th>\n",
       "      <th>3_total_fee</th>\n",
       "      <th>4_total_fee</th>\n",
       "      <th>month_traffic</th>\n",
       "      <th>many_over_bill</th>\n",
       "      <th>contract_time</th>\n",
       "      <th>is_promise_low_consume</th>\n",
       "      <th>...</th>\n",
       "      <th>contract_type1</th>\n",
       "      <th>contract_type3</th>\n",
       "      <th>contract_type7</th>\n",
       "      <th>net_service2</th>\n",
       "      <th>traffic</th>\n",
       "      <th>fee</th>\n",
       "      <th>fee1</th>\n",
       "      <th>month_traffic1</th>\n",
       "      <th>no_local_traffic</th>\n",
       "      <th>age_w</th>\n",
       "    </tr>\n",
       "  </thead>\n",
       "  <tbody>\n",
       "    <tr>\n",
       "      <th>0</th>\n",
       "      <td>0</td>\n",
       "      <td>85</td>\n",
       "      <td>295.96</td>\n",
       "      <td>296.20</td>\n",
       "      <td>296.00</td>\n",
       "      <td>296.80</td>\n",
       "      <td>3813.614698</td>\n",
       "      <td>0</td>\n",
       "      <td>36</td>\n",
       "      <td>0</td>\n",
       "      <td>...</td>\n",
       "      <td>1.0</td>\n",
       "      <td>0.0</td>\n",
       "      <td>0.0</td>\n",
       "      <td>1.0</td>\n",
       "      <td>7909.614698</td>\n",
       "      <td>239.523333</td>\n",
       "      <td>296.100</td>\n",
       "      <td>3813.614698</td>\n",
       "      <td>2421.576190</td>\n",
       "      <td>24.0</td>\n",
       "    </tr>\n",
       "    <tr>\n",
       "      <th>1</th>\n",
       "      <td>0</td>\n",
       "      <td>10</td>\n",
       "      <td>265.20</td>\n",
       "      <td>261.20</td>\n",
       "      <td>208.50</td>\n",
       "      <td>174.50</td>\n",
       "      <td>0.000000</td>\n",
       "      <td>1</td>\n",
       "      <td>0</td>\n",
       "      <td>0</td>\n",
       "      <td>...</td>\n",
       "      <td>0.0</td>\n",
       "      <td>0.0</td>\n",
       "      <td>0.0</td>\n",
       "      <td>1.0</td>\n",
       "      <td>0.000000</td>\n",
       "      <td>229.683333</td>\n",
       "      <td>234.850</td>\n",
       "      <td>62852.509718</td>\n",
       "      <td>0.000000</td>\n",
       "      <td>30.0</td>\n",
       "    </tr>\n",
       "    <tr>\n",
       "      <th>2</th>\n",
       "      <td>0</td>\n",
       "      <td>12</td>\n",
       "      <td>44.50</td>\n",
       "      <td>70.20</td>\n",
       "      <td>69.00</td>\n",
       "      <td>61.40</td>\n",
       "      <td>2598.397406</td>\n",
       "      <td>0</td>\n",
       "      <td>0</td>\n",
       "      <td>0</td>\n",
       "      <td>...</td>\n",
       "      <td>0.0</td>\n",
       "      <td>0.0</td>\n",
       "      <td>0.0</td>\n",
       "      <td>1.0</td>\n",
       "      <td>2598.397406</td>\n",
       "      <td>34.658333</td>\n",
       "      <td>65.200</td>\n",
       "      <td>2598.397406</td>\n",
       "      <td>663.155302</td>\n",
       "      <td>24.0</td>\n",
       "    </tr>\n",
       "    <tr>\n",
       "      <th>3</th>\n",
       "      <td>0</td>\n",
       "      <td>134</td>\n",
       "      <td>87.95</td>\n",
       "      <td>81.40</td>\n",
       "      <td>76.00</td>\n",
       "      <td>88.30</td>\n",
       "      <td>988.440563</td>\n",
       "      <td>0</td>\n",
       "      <td>0</td>\n",
       "      <td>0</td>\n",
       "      <td>...</td>\n",
       "      <td>0.0</td>\n",
       "      <td>0.0</td>\n",
       "      <td>0.0</td>\n",
       "      <td>1.0</td>\n",
       "      <td>1025.776988</td>\n",
       "      <td>68.318333</td>\n",
       "      <td>84.675</td>\n",
       "      <td>988.561075</td>\n",
       "      <td>0.000000</td>\n",
       "      <td>33.0</td>\n",
       "    </tr>\n",
       "    <tr>\n",
       "      <th>4</th>\n",
       "      <td>0</td>\n",
       "      <td>84</td>\n",
       "      <td>317.04</td>\n",
       "      <td>314.08</td>\n",
       "      <td>435.51</td>\n",
       "      <td>413.05</td>\n",
       "      <td>5885.800642</td>\n",
       "      <td>0</td>\n",
       "      <td>24</td>\n",
       "      <td>0</td>\n",
       "      <td>...</td>\n",
       "      <td>1.0</td>\n",
       "      <td>0.0</td>\n",
       "      <td>0.0</td>\n",
       "      <td>1.0</td>\n",
       "      <td>9191.541769</td>\n",
       "      <td>263.856667</td>\n",
       "      <td>365.045</td>\n",
       "      <td>5885.800642</td>\n",
       "      <td>5885.800642</td>\n",
       "      <td>24.0</td>\n",
       "    </tr>\n",
       "  </tbody>\n",
       "</table>\n",
       "<p>5 rows × 35 columns</p>\n",
       "</div>"
      ],
      "text/plain": [
       "   is_mix_service  online_time  1_total_fee  2_total_fee  3_total_fee  \\\n",
       "0               0           85       295.96       296.20       296.00   \n",
       "1               0           10       265.20       261.20       208.50   \n",
       "2               0           12        44.50        70.20        69.00   \n",
       "3               0          134        87.95        81.40        76.00   \n",
       "4               0           84       317.04       314.08       435.51   \n",
       "\n",
       "   4_total_fee  month_traffic  many_over_bill  contract_time  \\\n",
       "0       296.80    3813.614698               0             36   \n",
       "1       174.50       0.000000               1              0   \n",
       "2        61.40    2598.397406               0              0   \n",
       "3        88.30     988.440563               0              0   \n",
       "4       413.05    5885.800642               0             24   \n",
       "\n",
       "   is_promise_low_consume  ...    contract_type1  contract_type3  \\\n",
       "0                       0  ...               1.0             0.0   \n",
       "1                       0  ...               0.0             0.0   \n",
       "2                       0  ...               0.0             0.0   \n",
       "3                       0  ...               0.0             0.0   \n",
       "4                       0  ...               1.0             0.0   \n",
       "\n",
       "   contract_type7  net_service2      traffic         fee     fee1  \\\n",
       "0             0.0           1.0  7909.614698  239.523333  296.100   \n",
       "1             0.0           1.0     0.000000  229.683333  234.850   \n",
       "2             0.0           1.0  2598.397406   34.658333   65.200   \n",
       "3             0.0           1.0  1025.776988   68.318333   84.675   \n",
       "4             0.0           1.0  9191.541769  263.856667  365.045   \n",
       "\n",
       "   month_traffic1  no_local_traffic  age_w  \n",
       "0     3813.614698       2421.576190   24.0  \n",
       "1    62852.509718          0.000000   30.0  \n",
       "2     2598.397406        663.155302   24.0  \n",
       "3      988.561075          0.000000   33.0  \n",
       "4     5885.800642       5885.800642   24.0  \n",
       "\n",
       "[5 rows x 35 columns]"
      ]
     },
     "execution_count": 1303,
     "metadata": {},
     "output_type": "execute_result"
    }
   ],
   "source": [
    "train.head()"
   ]
  },
  {
   "cell_type": "code",
   "execution_count": 1304,
   "metadata": {},
   "outputs": [
    {
     "data": {
      "text/html": [
       "<div>\n",
       "<style scoped>\n",
       "    .dataframe tbody tr th:only-of-type {\n",
       "        vertical-align: middle;\n",
       "    }\n",
       "\n",
       "    .dataframe tbody tr th {\n",
       "        vertical-align: top;\n",
       "    }\n",
       "\n",
       "    .dataframe thead th {\n",
       "        text-align: right;\n",
       "    }\n",
       "</style>\n",
       "<table border=\"1\" class=\"dataframe\">\n",
       "  <thead>\n",
       "    <tr style=\"text-align: right;\">\n",
       "      <th></th>\n",
       "      <th>is_mix_service</th>\n",
       "      <th>online_time</th>\n",
       "      <th>1_total_fee</th>\n",
       "      <th>2_total_fee</th>\n",
       "      <th>3_total_fee</th>\n",
       "      <th>4_total_fee</th>\n",
       "      <th>month_traffic</th>\n",
       "      <th>many_over_bill</th>\n",
       "      <th>contract_time</th>\n",
       "      <th>is_promise_low_consume</th>\n",
       "      <th>...</th>\n",
       "      <th>contract_type1</th>\n",
       "      <th>contract_type3</th>\n",
       "      <th>contract_type7</th>\n",
       "      <th>net_service2</th>\n",
       "      <th>traffic</th>\n",
       "      <th>fee</th>\n",
       "      <th>fee1</th>\n",
       "      <th>month_traffic1</th>\n",
       "      <th>no_local_traffic</th>\n",
       "      <th>age_w</th>\n",
       "    </tr>\n",
       "  </thead>\n",
       "  <tbody>\n",
       "    <tr>\n",
       "      <th>0</th>\n",
       "      <td>0</td>\n",
       "      <td>193</td>\n",
       "      <td>80.00</td>\n",
       "      <td>80.00</td>\n",
       "      <td>80.00</td>\n",
       "      <td>80.00</td>\n",
       "      <td>872.042338</td>\n",
       "      <td>0</td>\n",
       "      <td>0</td>\n",
       "      <td>1</td>\n",
       "      <td>...</td>\n",
       "      <td>0.0</td>\n",
       "      <td>0.0</td>\n",
       "      <td>0.0</td>\n",
       "      <td>1.0</td>\n",
       "      <td>1672.042338</td>\n",
       "      <td>64.528333</td>\n",
       "      <td>80.000</td>\n",
       "      <td>872.042338</td>\n",
       "      <td>277.457258</td>\n",
       "      <td>44</td>\n",
       "    </tr>\n",
       "    <tr>\n",
       "      <th>1</th>\n",
       "      <td>0</td>\n",
       "      <td>5</td>\n",
       "      <td>86.70</td>\n",
       "      <td>74.20</td>\n",
       "      <td>74.20</td>\n",
       "      <td>68.90</td>\n",
       "      <td>200.000000</td>\n",
       "      <td>1</td>\n",
       "      <td>0</td>\n",
       "      <td>0</td>\n",
       "      <td>...</td>\n",
       "      <td>0.0</td>\n",
       "      <td>0.0</td>\n",
       "      <td>0.0</td>\n",
       "      <td>1.0</td>\n",
       "      <td>200.000000</td>\n",
       "      <td>76.251667</td>\n",
       "      <td>74.200</td>\n",
       "      <td>200.000000</td>\n",
       "      <td>200.000000</td>\n",
       "      <td>22</td>\n",
       "    </tr>\n",
       "    <tr>\n",
       "      <th>2</th>\n",
       "      <td>0</td>\n",
       "      <td>62</td>\n",
       "      <td>90.90</td>\n",
       "      <td>127.35</td>\n",
       "      <td>127.35</td>\n",
       "      <td>91.00</td>\n",
       "      <td>22927.945140</td>\n",
       "      <td>0</td>\n",
       "      <td>12</td>\n",
       "      <td>0</td>\n",
       "      <td>...</td>\n",
       "      <td>0.0</td>\n",
       "      <td>0.0</td>\n",
       "      <td>1.0</td>\n",
       "      <td>1.0</td>\n",
       "      <td>22927.945140</td>\n",
       "      <td>65.766667</td>\n",
       "      <td>109.175</td>\n",
       "      <td>22927.945140</td>\n",
       "      <td>12.722610</td>\n",
       "      <td>24</td>\n",
       "    </tr>\n",
       "    <tr>\n",
       "      <th>3</th>\n",
       "      <td>0</td>\n",
       "      <td>87</td>\n",
       "      <td>95.45</td>\n",
       "      <td>154.65</td>\n",
       "      <td>154.65</td>\n",
       "      <td>143.35</td>\n",
       "      <td>4793.146457</td>\n",
       "      <td>0</td>\n",
       "      <td>36</td>\n",
       "      <td>0</td>\n",
       "      <td>...</td>\n",
       "      <td>1.0</td>\n",
       "      <td>0.0</td>\n",
       "      <td>0.0</td>\n",
       "      <td>1.0</td>\n",
       "      <td>4793.146457</td>\n",
       "      <td>67.883333</td>\n",
       "      <td>149.000</td>\n",
       "      <td>4793.167977</td>\n",
       "      <td>0.000000</td>\n",
       "      <td>34</td>\n",
       "    </tr>\n",
       "    <tr>\n",
       "      <th>4</th>\n",
       "      <td>0</td>\n",
       "      <td>53</td>\n",
       "      <td>76.00</td>\n",
       "      <td>86.00</td>\n",
       "      <td>86.00</td>\n",
       "      <td>76.00</td>\n",
       "      <td>563.253649</td>\n",
       "      <td>0</td>\n",
       "      <td>0</td>\n",
       "      <td>0</td>\n",
       "      <td>...</td>\n",
       "      <td>0.0</td>\n",
       "      <td>0.0</td>\n",
       "      <td>0.0</td>\n",
       "      <td>1.0</td>\n",
       "      <td>563.253649</td>\n",
       "      <td>75.670000</td>\n",
       "      <td>81.000</td>\n",
       "      <td>563.253649</td>\n",
       "      <td>563.253649</td>\n",
       "      <td>26</td>\n",
       "    </tr>\n",
       "  </tbody>\n",
       "</table>\n",
       "<p>5 rows × 35 columns</p>\n",
       "</div>"
      ],
      "text/plain": [
       "   is_mix_service  online_time  1_total_fee  2_total_fee  3_total_fee  \\\n",
       "0               0          193        80.00        80.00        80.00   \n",
       "1               0            5        86.70        74.20        74.20   \n",
       "2               0           62        90.90       127.35       127.35   \n",
       "3               0           87        95.45       154.65       154.65   \n",
       "4               0           53        76.00        86.00        86.00   \n",
       "\n",
       "   4_total_fee  month_traffic  many_over_bill  contract_time  \\\n",
       "0        80.00     872.042338               0              0   \n",
       "1        68.90     200.000000               1              0   \n",
       "2        91.00   22927.945140               0             12   \n",
       "3       143.35    4793.146457               0             36   \n",
       "4        76.00     563.253649               0              0   \n",
       "\n",
       "   is_promise_low_consume  ...    contract_type1  contract_type3  \\\n",
       "0                       1  ...               0.0             0.0   \n",
       "1                       0  ...               0.0             0.0   \n",
       "2                       0  ...               0.0             0.0   \n",
       "3                       0  ...               1.0             0.0   \n",
       "4                       0  ...               0.0             0.0   \n",
       "\n",
       "   contract_type7  net_service2       traffic        fee     fee1  \\\n",
       "0             0.0           1.0   1672.042338  64.528333   80.000   \n",
       "1             0.0           1.0    200.000000  76.251667   74.200   \n",
       "2             1.0           1.0  22927.945140  65.766667  109.175   \n",
       "3             0.0           1.0   4793.146457  67.883333  149.000   \n",
       "4             0.0           1.0    563.253649  75.670000   81.000   \n",
       "\n",
       "   month_traffic1  no_local_traffic  age_w  \n",
       "0      872.042338        277.457258     44  \n",
       "1      200.000000        200.000000     22  \n",
       "2    22927.945140         12.722610     24  \n",
       "3     4793.167977          0.000000     34  \n",
       "4      563.253649        563.253649     26  \n",
       "\n",
       "[5 rows x 35 columns]"
      ]
     },
     "execution_count": 1304,
     "metadata": {},
     "output_type": "execute_result"
    }
   ],
   "source": [
    "test.head()"
   ]
  },
  {
   "cell_type": "code",
   "execution_count": 1305,
   "metadata": {},
   "outputs": [
    {
     "name": "stdout",
     "output_type": "stream",
     "text": [
      "<class 'pandas.core.frame.DataFrame'>\n",
      "RangeIndex: 262565 entries, 0 to 262564\n",
      "Data columns (total 35 columns):\n",
      "is_mix_service            262565 non-null int64\n",
      "online_time               262565 non-null int64\n",
      "1_total_fee               262565 non-null float64\n",
      "2_total_fee               262565 non-null float64\n",
      "3_total_fee               262565 non-null float64\n",
      "4_total_fee               262565 non-null float64\n",
      "month_traffic             262565 non-null float64\n",
      "many_over_bill            262565 non-null int64\n",
      "contract_time             262565 non-null int64\n",
      "is_promise_low_consume    262565 non-null int64\n",
      "pay_times                 262565 non-null int64\n",
      "pay_num                   262565 non-null float64\n",
      "last_month_traffic        262565 non-null float64\n",
      "local_trafffic_month      262565 non-null float64\n",
      "local_caller_time         262565 non-null float64\n",
      "service1_caller_time      262565 non-null float64\n",
      "service2_caller_time      262565 non-null float64\n",
      "gender                    262565 non-null int64\n",
      "age                       262565 non-null int64\n",
      "former_complaint_num      262565 non-null int64\n",
      "former_complaint_fee      262565 non-null int64\n",
      "service_type0             262565 non-null float64\n",
      "service_type1             262565 non-null float64\n",
      "service_type2             262565 non-null float64\n",
      "contract_type0            262565 non-null float64\n",
      "contract_type1            262565 non-null float64\n",
      "contract_type3            262565 non-null float64\n",
      "contract_type7            262565 non-null float64\n",
      "net_service2              262565 non-null float64\n",
      "traffic                   262565 non-null float64\n",
      "fee                       262565 non-null float64\n",
      "fee1                      262565 non-null float64\n",
      "month_traffic1            262565 non-null float64\n",
      "no_local_traffic          262565 non-null float64\n",
      "age_w                     262565 non-null int64\n",
      "dtypes: float64(24), int64(11)\n",
      "memory usage: 70.1 MB\n"
     ]
    }
   ],
   "source": [
    "test.info()"
   ]
  },
  {
   "cell_type": "code",
   "execution_count": 1306,
   "metadata": {},
   "outputs": [
    {
     "name": "stdout",
     "output_type": "stream",
     "text": [
      "<class 'pandas.core.frame.DataFrame'>\n",
      "RangeIndex: 612646 entries, 0 to 612645\n",
      "Data columns (total 35 columns):\n",
      "is_mix_service            612646 non-null int64\n",
      "online_time               612646 non-null int64\n",
      "1_total_fee               612646 non-null float64\n",
      "2_total_fee               612646 non-null float64\n",
      "3_total_fee               612646 non-null float64\n",
      "4_total_fee               612646 non-null float64\n",
      "month_traffic             612646 non-null float64\n",
      "many_over_bill            612646 non-null int64\n",
      "contract_time             612646 non-null int64\n",
      "is_promise_low_consume    612646 non-null int64\n",
      "pay_times                 612646 non-null int64\n",
      "pay_num                   612646 non-null float64\n",
      "last_month_traffic        612646 non-null float64\n",
      "local_trafffic_month      612646 non-null float64\n",
      "local_caller_time         612646 non-null float64\n",
      "service1_caller_time      612646 non-null float64\n",
      "service2_caller_time      612646 non-null float64\n",
      "gender                    612646 non-null float64\n",
      "age                       612646 non-null float64\n",
      "former_complaint_num      612646 non-null int64\n",
      "former_complaint_fee      612646 non-null float64\n",
      "service_type0             612646 non-null float64\n",
      "service_type1             612646 non-null float64\n",
      "service_type2             612646 non-null float64\n",
      "contract_type0            612646 non-null float64\n",
      "contract_type1            612646 non-null float64\n",
      "contract_type3            612646 non-null float64\n",
      "contract_type7            612646 non-null float64\n",
      "net_service2              612646 non-null float64\n",
      "traffic                   612646 non-null float64\n",
      "fee                       612646 non-null float64\n",
      "fee1                      612646 non-null float64\n",
      "month_traffic1            612646 non-null float64\n",
      "no_local_traffic          612646 non-null float64\n",
      "age_w                     612646 non-null float64\n",
      "dtypes: float64(28), int64(7)\n",
      "memory usage: 163.6 MB\n"
     ]
    }
   ],
   "source": [
    "train.info()"
   ]
  },
  {
   "cell_type": "code",
   "execution_count": 1307,
   "metadata": {},
   "outputs": [
    {
     "ename": "ValueError",
     "evalue": "feature_names mismatch: ['is_mix_service', 'online_time', '1_total_fee', '2_total_fee', '3_total_fee', '4_total_fee', 'month_traffic', 'many_over_bill', 'contract_time', 'is_promise_low_consume', 'pay_times', 'pay_num', 'last_month_traffic', 'local_trafffic_month', 'local_caller_time', 'service1_caller_time', 'service2_caller_time', 'gender', 'age', 'former_complaint_num', 'former_complaint_fee', 'service_type0', 'service_type1', 'service_type2', 'contract_type0', 'contract_type1', 'contract_type3', 'contract_type7', 'net_service2', 'traffic', 'fee', 'fee1', 'no_local_traffic', 'month_traffic1', 'age_w'] ['is_mix_service', 'online_time', '1_total_fee', '2_total_fee', '3_total_fee', '4_total_fee', 'month_traffic', 'many_over_bill', 'contract_time', 'is_promise_low_consume', 'pay_times', 'pay_num', 'last_month_traffic', 'local_trafffic_month', 'local_caller_time', 'service1_caller_time', 'service2_caller_time', 'gender', 'age', 'former_complaint_num', 'former_complaint_fee', 'service_type0', 'service_type1', 'service_type2', 'contract_type0', 'contract_type1', 'contract_type3', 'contract_type7', 'net_service2', 'traffic', 'fee', 'fee1', 'month_traffic1', 'no_local_traffic', 'age_w']",
     "output_type": "error",
     "traceback": [
      "\u001b[1;31m---------------------------------------------------------------------------\u001b[0m",
      "\u001b[1;31mValueError\u001b[0m                                Traceback (most recent call last)",
      "\u001b[1;32m<ipython-input-1307-1d13a226bdb5>\u001b[0m in \u001b[0;36m<module>\u001b[1;34m()\u001b[0m\n\u001b[1;32m----> 1\u001b[1;33m \u001b[0mpred\u001b[0m \u001b[1;33m=\u001b[0m \u001b[0mmodel_xgb\u001b[0m\u001b[1;33m.\u001b[0m\u001b[0mpredict\u001b[0m\u001b[1;33m(\u001b[0m\u001b[0mtest\u001b[0m\u001b[1;33m)\u001b[0m\u001b[1;33m\u001b[0m\u001b[0m\n\u001b[0m",
      "\u001b[1;32me:\\Anaconda3\\lib\\site-packages\\xgboost\\sklearn.py\u001b[0m in \u001b[0;36mpredict\u001b[1;34m(self, data, output_margin, ntree_limit)\u001b[0m\n\u001b[0;32m    524\u001b[0m         class_probs = self.get_booster().predict(test_dmatrix,\n\u001b[0;32m    525\u001b[0m                                                  \u001b[0moutput_margin\u001b[0m\u001b[1;33m=\u001b[0m\u001b[0moutput_margin\u001b[0m\u001b[1;33m,\u001b[0m\u001b[1;33m\u001b[0m\u001b[0m\n\u001b[1;32m--> 526\u001b[1;33m                                                  ntree_limit=ntree_limit)\n\u001b[0m\u001b[0;32m    527\u001b[0m         \u001b[1;32mif\u001b[0m \u001b[0mlen\u001b[0m\u001b[1;33m(\u001b[0m\u001b[0mclass_probs\u001b[0m\u001b[1;33m.\u001b[0m\u001b[0mshape\u001b[0m\u001b[1;33m)\u001b[0m \u001b[1;33m>\u001b[0m \u001b[1;36m1\u001b[0m\u001b[1;33m:\u001b[0m\u001b[1;33m\u001b[0m\u001b[0m\n\u001b[0;32m    528\u001b[0m             \u001b[0mcolumn_indexes\u001b[0m \u001b[1;33m=\u001b[0m \u001b[0mnp\u001b[0m\u001b[1;33m.\u001b[0m\u001b[0margmax\u001b[0m\u001b[1;33m(\u001b[0m\u001b[0mclass_probs\u001b[0m\u001b[1;33m,\u001b[0m \u001b[0maxis\u001b[0m\u001b[1;33m=\u001b[0m\u001b[1;36m1\u001b[0m\u001b[1;33m)\u001b[0m\u001b[1;33m\u001b[0m\u001b[0m\n",
      "\u001b[1;32me:\\Anaconda3\\lib\\site-packages\\xgboost\\core.py\u001b[0m in \u001b[0;36mpredict\u001b[1;34m(self, data, output_margin, ntree_limit, pred_leaf, pred_contribs, approx_contribs)\u001b[0m\n\u001b[0;32m   1042\u001b[0m             \u001b[0moption_mask\u001b[0m \u001b[1;33m|=\u001b[0m \u001b[1;36m0x08\u001b[0m\u001b[1;33m\u001b[0m\u001b[0m\n\u001b[0;32m   1043\u001b[0m \u001b[1;33m\u001b[0m\u001b[0m\n\u001b[1;32m-> 1044\u001b[1;33m         \u001b[0mself\u001b[0m\u001b[1;33m.\u001b[0m\u001b[0m_validate_features\u001b[0m\u001b[1;33m(\u001b[0m\u001b[0mdata\u001b[0m\u001b[1;33m)\u001b[0m\u001b[1;33m\u001b[0m\u001b[0m\n\u001b[0m\u001b[0;32m   1045\u001b[0m \u001b[1;33m\u001b[0m\u001b[0m\n\u001b[0;32m   1046\u001b[0m         \u001b[0mlength\u001b[0m \u001b[1;33m=\u001b[0m \u001b[0mc_bst_ulong\u001b[0m\u001b[1;33m(\u001b[0m\u001b[1;33m)\u001b[0m\u001b[1;33m\u001b[0m\u001b[0m\n",
      "\u001b[1;32me:\\Anaconda3\\lib\\site-packages\\xgboost\\core.py\u001b[0m in \u001b[0;36m_validate_features\u001b[1;34m(self, data)\u001b[0m\n\u001b[0;32m   1286\u001b[0m \u001b[1;33m\u001b[0m\u001b[0m\n\u001b[0;32m   1287\u001b[0m                 raise ValueError(msg.format(self.feature_names,\n\u001b[1;32m-> 1288\u001b[1;33m                                             data.feature_names))\n\u001b[0m\u001b[0;32m   1289\u001b[0m \u001b[1;33m\u001b[0m\u001b[0m\n\u001b[0;32m   1290\u001b[0m     \u001b[1;32mdef\u001b[0m \u001b[0mget_split_value_histogram\u001b[0m\u001b[1;33m(\u001b[0m\u001b[0mself\u001b[0m\u001b[1;33m,\u001b[0m \u001b[0mfeature\u001b[0m\u001b[1;33m,\u001b[0m \u001b[0mfmap\u001b[0m\u001b[1;33m=\u001b[0m\u001b[1;34m''\u001b[0m\u001b[1;33m,\u001b[0m \u001b[0mbins\u001b[0m\u001b[1;33m=\u001b[0m\u001b[1;32mNone\u001b[0m\u001b[1;33m,\u001b[0m \u001b[0mas_pandas\u001b[0m\u001b[1;33m=\u001b[0m\u001b[1;32mTrue\u001b[0m\u001b[1;33m)\u001b[0m\u001b[1;33m:\u001b[0m\u001b[1;33m\u001b[0m\u001b[0m\n",
      "\u001b[1;31mValueError\u001b[0m: feature_names mismatch: ['is_mix_service', 'online_time', '1_total_fee', '2_total_fee', '3_total_fee', '4_total_fee', 'month_traffic', 'many_over_bill', 'contract_time', 'is_promise_low_consume', 'pay_times', 'pay_num', 'last_month_traffic', 'local_trafffic_month', 'local_caller_time', 'service1_caller_time', 'service2_caller_time', 'gender', 'age', 'former_complaint_num', 'former_complaint_fee', 'service_type0', 'service_type1', 'service_type2', 'contract_type0', 'contract_type1', 'contract_type3', 'contract_type7', 'net_service2', 'traffic', 'fee', 'fee1', 'no_local_traffic', 'month_traffic1', 'age_w'] ['is_mix_service', 'online_time', '1_total_fee', '2_total_fee', '3_total_fee', '4_total_fee', 'month_traffic', 'many_over_bill', 'contract_time', 'is_promise_low_consume', 'pay_times', 'pay_num', 'last_month_traffic', 'local_trafffic_month', 'local_caller_time', 'service1_caller_time', 'service2_caller_time', 'gender', 'age', 'former_complaint_num', 'former_complaint_fee', 'service_type0', 'service_type1', 'service_type2', 'contract_type0', 'contract_type1', 'contract_type3', 'contract_type7', 'net_service2', 'traffic', 'fee', 'fee1', 'month_traffic1', 'no_local_traffic', 'age_w']"
     ]
    }
   ],
   "source": [
    "pred = model_xgb.predict(test)"
   ]
  },
  {
   "cell_type": "code",
   "execution_count": 87,
   "metadata": {},
   "outputs": [
    {
     "data": {
      "text/plain": [
       "(262565,)"
      ]
     },
     "execution_count": 87,
     "metadata": {},
     "output_type": "execute_result"
    }
   ],
   "source": [
    "test_id.shape"
   ]
  },
  {
   "cell_type": "code",
   "execution_count": 109,
   "metadata": {},
   "outputs": [
    {
     "data": {
      "text/plain": [
       "(262565,)"
      ]
     },
     "execution_count": 109,
     "metadata": {},
     "output_type": "execute_result"
    }
   ],
   "source": [
    "pred.shape"
   ]
  },
  {
   "cell_type": "code",
   "execution_count": 1056,
   "metadata": {},
   "outputs": [],
   "source": [
    "sub = pd.DataFrame()\n",
    "sub['PassengerId'] = test_id\n",
    "sub['Survived'] = pred\n",
    "sub.to_csv('submission.csv',index=False)"
   ]
  },
  {
   "cell_type": "code",
   "execution_count": 720,
   "metadata": {},
   "outputs": [
    {
     "data": {
      "text/plain": [
       "6     0.332159\n",
       "3     0.154879\n",
       "4     0.085461\n",
       "13    0.061755\n",
       "0     0.059701\n",
       "9     0.045770\n",
       "7     0.044401\n",
       "5     0.038709\n",
       "12    0.037812\n",
       "11    0.033868\n",
       "8     0.025565\n",
       "14    0.024661\n",
       "10    0.023817\n",
       "1     0.016469\n",
       "2     0.014974\n",
       "dtype: float64"
      ]
     },
     "execution_count": 720,
     "metadata": {},
     "output_type": "execute_result"
    }
   ],
   "source": [
    "pd.Series(train_y).value_counts(normalize = True)"
   ]
  },
  {
   "cell_type": "code",
   "execution_count": 718,
   "metadata": {
    "scrolled": true
   },
   "outputs": [
    {
     "data": {
      "text/plain": [
       "service_type  current_service\n",
       "0             6                  0.826009\n",
       "              7                  0.110416\n",
       "              8                  0.063575\n",
       "1             9                  1.000000\n",
       "2             3                  0.280525\n",
       "              4                  0.154791\n",
       "              13                 0.111854\n",
       "              0                  0.108133\n",
       "              5                  0.070112\n",
       "              12                 0.068486\n",
       "              11                 0.061343\n",
       "              14                 0.044668\n",
       "              10                 0.043139\n",
       "              1                  0.029829\n",
       "              2                  0.027121\n",
       "Name: current_service, dtype: float64"
      ]
     },
     "execution_count": 718,
     "metadata": {},
     "output_type": "execute_result"
    }
   ],
   "source": [
    "group = pd.DataFrame()\n",
    "group['current_service'] = train_y\n",
    "group['service_type'] = service_type\n",
    "group.groupby('service_type')['current_service'].value_counts(normalize = True)"
   ]
  },
  {
   "cell_type": "code",
   "execution_count": 1,
   "metadata": {},
   "outputs": [
    {
     "ename": "NameError",
     "evalue": "name 'score' is not defined",
     "output_type": "error",
     "traceback": [
      "\u001b[1;31m---------------------------------------------------------------------------\u001b[0m",
      "\u001b[1;31mNameError\u001b[0m                                 Traceback (most recent call last)",
      "\u001b[1;32m<ipython-input-1-0fe11a75677a>\u001b[0m in \u001b[0;36m<module>\u001b[1;34m()\u001b[0m\n\u001b[1;32m----> 1\u001b[1;33m \u001b[0mscore\u001b[0m\u001b[1;33m.\u001b[0m\u001b[0mmean\u001b[0m\u001b[1;33m(\u001b[0m\u001b[1;33m)\u001b[0m\u001b[1;33m\u001b[0m\u001b[0m\n\u001b[0m",
      "\u001b[1;31mNameError\u001b[0m: name 'score' is not defined"
     ]
    }
   ],
   "source": [
    "score.mean()"
   ]
  },
  {
   "cell_type": "code",
   "execution_count": null,
   "metadata": {},
   "outputs": [],
   "source": [
    "group = pd.DataFrame()\n",
    "\n",
    "group['is_promise_low_consume'] = train['is_promise_low_consume'].copy()\n",
    "group['current_service'] = pd.Series(train_y)\n",
    "group.groupby('is_promise_low_consume')['current_service'].value_counts(normalize = True)"
   ]
  },
  {
   "cell_type": "code",
   "execution_count": null,
   "metadata": {},
   "outputs": [],
   "source": [
    "def oneHotEncode(data, col):\n",
    "    for c in col:\n",
    "        lbl = LabelEncoder() \n",
    "        lbl.fit(list(data[c].values)) \n",
    "        data[c] = lbl.transform(list(data[c].values))\n",
    "    for c in col:\n",
    "        enc = OneHotEncoder(sparse=False)\n",
    "        enc.fit(data[c].reshape(-1,1))\n",
    "        temp = enc.transform(data[c].reshape(-1,1))\n",
    "        for i in range(temp.shape[1]):\n",
    "            data[c+str(i)] = temp[:,i]"
   ]
  },
  {
   "cell_type": "code",
   "execution_count": null,
   "metadata": {},
   "outputs": [],
   "source": [
    "all_data = pd.concat((train.drop('current_service', axis = 1), test)).reset_index(drop=True)"
   ]
  },
  {
   "cell_type": "code",
   "execution_count": null,
   "metadata": {},
   "outputs": [],
   "source": [
    "month_traffic = all_data['month_traffic']\n",
    "local_caller_time = all_data['local_caller_time']\n",
    "_total_fee = all_data['1_total_fee']\n",
    "service1_caller_time = all_data['service1_caller_time']"
   ]
  },
  {
   "cell_type": "code",
   "execution_count": null,
   "metadata": {},
   "outputs": [],
   "source": [
    "a = all_data[['1_total_fee','2_total_fee','3_total_fee','4_total_fee']].corr()\n",
    "print(a)"
   ]
  },
  {
   "cell_type": "code",
   "execution_count": null,
   "metadata": {},
   "outputs": [],
   "source": [
    "plt.plot(local_caller_time, _total_fee, 'ro')\n",
    "plt.show()"
   ]
  },
  {
   "cell_type": "code",
   "execution_count": null,
   "metadata": {},
   "outputs": [],
   "source": [
    "col = ['service_type','contract_type','net_service','complaint_level']\n",
    "oneHotEncode(all_data,col)"
   ]
  },
  {
   "cell_type": "code",
   "execution_count": null,
   "metadata": {},
   "outputs": [],
   "source": [
    "all_data.head()"
   ]
  },
  {
   "cell_type": "code",
   "execution_count": null,
   "metadata": {},
   "outputs": [],
   "source": [
    "all_data.drop(['service_type','contract_type','net_service','complaint_level','age','2_total_fee', '3_total_fee','gender', 'user_id'], axis = 1, inplace = True)"
   ]
  },
  {
   "cell_type": "code",
   "execution_count": null,
   "metadata": {},
   "outputs": [],
   "source": [
    "all_data.head()"
   ]
  },
  {
   "cell_type": "code",
   "execution_count": null,
   "metadata": {},
   "outputs": [],
   "source": [
    "import xgboost as xgb"
   ]
  },
  {
   "cell_type": "code",
   "execution_count": null,
   "metadata": {},
   "outputs": [],
   "source": [
    "model_xgb = xgb.XGBClassifier(objective = 'multi:softmax')"
   ]
  },
  {
   "cell_type": "code",
   "execution_count": null,
   "metadata": {},
   "outputs": [],
   "source": [
    "from sklearn.svm import LinearSVC\n",
    "from sklearn.learning_curve import learning_curve\n",
    "#绘制学习曲线，以确定模型的状况\n",
    "def plot_learning_curve(estimator, title, X, y, ylim=None, cv=None,\n",
    "                        train_sizes=np.linspace(.1, 1.0, 10)):\n",
    "    \"\"\"\n",
    "    画出data在某模型上的learning curve.\n",
    "    参数解释\n",
    "    ----------\n",
    "    estimator : 你用的分类器。\n",
    "    title : 表格的标题。\n",
    "    X : 输入的feature，numpy类型\n",
    "    y : 输入的target vector\n",
    "    ylim : tuple格式的(ymin, ymax), 设定图像中纵坐标的最低点和最高点\n",
    "    cv : 做cross-validation的时候，数据分成的份数，其中一份作为cv集，其余n-1份作为training(默认为3份)\n",
    "    \"\"\"\n",
    "    plt.figure()\n",
    "    train_sizes, train_scores, test_scores = learning_curve(\n",
    "        estimator, X, y, cv=5, n_jobs=1, train_sizes=train_sizes)\n",
    "    train_scores_mean = np.mean(train_scores, axis=1)\n",
    "    train_scores_std = np.std(train_scores, axis=1)\n",
    "    test_scores_mean = np.mean(test_scores, axis=1)\n",
    "    test_scores_std = np.std(test_scores, axis=1)\n",
    "    plt.fill_between(train_sizes, train_scores_mean - train_scores_std,\n",
    "                     train_scores_mean + train_scores_std, alpha=0.1,\n",
    "                     color=\"r\")\n",
    "    plt.fill_between(train_sizes, test_scores_mean - test_scores_std,\n",
    "                     test_scores_mean + test_scores_std, alpha=0.1, color=\"g\")\n",
    "    plt.plot(train_sizes, train_scores_mean, 'o-', color=\"r\",\n",
    "             label=\"Training score\")\n",
    "    plt.plot(train_sizes, test_scores_mean, 'o-', color=\"g\",\n",
    "             label=\"Cross-validation score\")\n",
    "    plt.xlabel(\"Training examples\")\n",
    "    plt.ylabel(\"Score\")\n",
    "    plt.legend(loc=\"best\")\n",
    "    plt.grid(\"on\") \n",
    "    if ylim:\n",
    "        plt.ylim(ylim)\n",
    "    plt.title(title)\n",
    "    plt.show()"
   ]
  }
 ],
 "metadata": {
  "kernelspec": {
   "display_name": "Python 3",
   "language": "python",
   "name": "python3"
  },
  "language_info": {
   "codemirror_mode": {
    "name": "ipython",
    "version": 3
   },
   "file_extension": ".py",
   "mimetype": "text/x-python",
   "name": "python",
   "nbconvert_exporter": "python",
   "pygments_lexer": "ipython3",
   "version": "3.6.4"
  }
 },
 "nbformat": 4,
 "nbformat_minor": 2
}
