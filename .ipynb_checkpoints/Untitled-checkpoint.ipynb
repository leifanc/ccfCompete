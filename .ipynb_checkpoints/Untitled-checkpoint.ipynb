{
 "cells": [
  {
   "cell_type": "code",
   "execution_count": 297,
   "metadata": {},
   "outputs": [],
   "source": [
    "import pandas as pd\n",
    "import numpy as np\n",
    "import matplotlib.pyplot as plt\n",
    "import seaborn as sns"
   ]
  },
  {
   "cell_type": "code",
   "execution_count": 298,
   "metadata": {},
   "outputs": [
    {
     "name": "stderr",
     "output_type": "stream",
     "text": [
      "e:\\Anaconda3\\lib\\site-packages\\IPython\\core\\interactiveshell.py:2728: DtypeWarning: Columns (4,5,20,21) have mixed types. Specify dtype option on import or set low_memory=False.\n",
      "  interactivity=interactivity, compiler=compiler, result=result)\n",
      "e:\\Anaconda3\\lib\\site-packages\\IPython\\core\\interactiveshell.py:2728: DtypeWarning: Columns (4,5) have mixed types. Specify dtype option on import or set low_memory=False.\n",
      "  interactivity=interactivity, compiler=compiler, result=result)\n"
     ]
    }
   ],
   "source": [
    "train = pd.read_csv('train.csv')\n",
    "test = pd.read_csv('test.csv')"
   ]
  },
  {
   "cell_type": "code",
   "execution_count": 299,
   "metadata": {},
   "outputs": [
    {
     "data": {
      "text/html": [
       "<div>\n",
       "<style scoped>\n",
       "    .dataframe tbody tr th:only-of-type {\n",
       "        vertical-align: middle;\n",
       "    }\n",
       "\n",
       "    .dataframe tbody tr th {\n",
       "        vertical-align: top;\n",
       "    }\n",
       "\n",
       "    .dataframe thead th {\n",
       "        text-align: right;\n",
       "    }\n",
       "</style>\n",
       "<table border=\"1\" class=\"dataframe\">\n",
       "  <thead>\n",
       "    <tr style=\"text-align: right;\">\n",
       "      <th></th>\n",
       "      <th>service_type</th>\n",
       "      <th>is_mix_service</th>\n",
       "      <th>online_time</th>\n",
       "      <th>1_total_fee</th>\n",
       "      <th>2_total_fee</th>\n",
       "      <th>3_total_fee</th>\n",
       "      <th>4_total_fee</th>\n",
       "      <th>month_traffic</th>\n",
       "      <th>many_over_bill</th>\n",
       "      <th>contract_type</th>\n",
       "      <th>...</th>\n",
       "      <th>local_caller_time</th>\n",
       "      <th>service1_caller_time</th>\n",
       "      <th>service2_caller_time</th>\n",
       "      <th>gender</th>\n",
       "      <th>age</th>\n",
       "      <th>complaint_level</th>\n",
       "      <th>former_complaint_num</th>\n",
       "      <th>former_complaint_fee</th>\n",
       "      <th>current_service</th>\n",
       "      <th>user_id</th>\n",
       "    </tr>\n",
       "  </thead>\n",
       "  <tbody>\n",
       "    <tr>\n",
       "      <th>0</th>\n",
       "      <td>4</td>\n",
       "      <td>0</td>\n",
       "      <td>85</td>\n",
       "      <td>295.96</td>\n",
       "      <td>296.2</td>\n",
       "      <td>296</td>\n",
       "      <td>296.80</td>\n",
       "      <td>3813.614698</td>\n",
       "      <td>0</td>\n",
       "      <td>1</td>\n",
       "      <td>...</td>\n",
       "      <td>108.100000</td>\n",
       "      <td>0.000000</td>\n",
       "      <td>564.366667</td>\n",
       "      <td>1</td>\n",
       "      <td>31</td>\n",
       "      <td>0</td>\n",
       "      <td>0</td>\n",
       "      <td>0.0</td>\n",
       "      <td>99999825</td>\n",
       "      <td>Gx4sJzcQog01UhZL</td>\n",
       "    </tr>\n",
       "    <tr>\n",
       "      <th>1</th>\n",
       "      <td>1</td>\n",
       "      <td>0</td>\n",
       "      <td>10</td>\n",
       "      <td>265.20</td>\n",
       "      <td>261.2</td>\n",
       "      <td>208.5</td>\n",
       "      <td>174.50</td>\n",
       "      <td>0.000000</td>\n",
       "      <td>1</td>\n",
       "      <td>0</td>\n",
       "      <td>...</td>\n",
       "      <td>240.100000</td>\n",
       "      <td>355.166667</td>\n",
       "      <td>0.000000</td>\n",
       "      <td>1</td>\n",
       "      <td>30</td>\n",
       "      <td>0</td>\n",
       "      <td>0</td>\n",
       "      <td>0.0</td>\n",
       "      <td>90063345</td>\n",
       "      <td>kEXrhTiug93DIcLG</td>\n",
       "    </tr>\n",
       "    <tr>\n",
       "      <th>2</th>\n",
       "      <td>1</td>\n",
       "      <td>0</td>\n",
       "      <td>12</td>\n",
       "      <td>44.50</td>\n",
       "      <td>70.2</td>\n",
       "      <td>69</td>\n",
       "      <td>61.40</td>\n",
       "      <td>2598.397406</td>\n",
       "      <td>0</td>\n",
       "      <td>0</td>\n",
       "      <td>...</td>\n",
       "      <td>27.666667</td>\n",
       "      <td>0.000000</td>\n",
       "      <td>98.416667</td>\n",
       "      <td>2</td>\n",
       "      <td>25</td>\n",
       "      <td>0</td>\n",
       "      <td>0</td>\n",
       "      <td>0.0</td>\n",
       "      <td>90109916</td>\n",
       "      <td>AouXr0EOUtSRdiYK</td>\n",
       "    </tr>\n",
       "    <tr>\n",
       "      <th>3</th>\n",
       "      <td>4</td>\n",
       "      <td>0</td>\n",
       "      <td>134</td>\n",
       "      <td>87.95</td>\n",
       "      <td>81.4</td>\n",
       "      <td>76</td>\n",
       "      <td>88.30</td>\n",
       "      <td>988.440563</td>\n",
       "      <td>0</td>\n",
       "      <td>0</td>\n",
       "      <td>...</td>\n",
       "      <td>89.900000</td>\n",
       "      <td>74.483333</td>\n",
       "      <td>121.833333</td>\n",
       "      <td>1</td>\n",
       "      <td>44</td>\n",
       "      <td>0</td>\n",
       "      <td>0</td>\n",
       "      <td>0.0</td>\n",
       "      <td>89950166</td>\n",
       "      <td>Yds7U30hnRZDiLtb</td>\n",
       "    </tr>\n",
       "    <tr>\n",
       "      <th>4</th>\n",
       "      <td>4</td>\n",
       "      <td>0</td>\n",
       "      <td>84</td>\n",
       "      <td>317.04</td>\n",
       "      <td>314.08</td>\n",
       "      <td>435.51</td>\n",
       "      <td>413.05</td>\n",
       "      <td>5885.800642</td>\n",
       "      <td>0</td>\n",
       "      <td>1</td>\n",
       "      <td>...</td>\n",
       "      <td>0.000000</td>\n",
       "      <td>35.100000</td>\n",
       "      <td>496.733333</td>\n",
       "      <td>1</td>\n",
       "      <td>31</td>\n",
       "      <td>2</td>\n",
       "      <td>1</td>\n",
       "      <td>0.0</td>\n",
       "      <td>99999825</td>\n",
       "      <td>OFDTSXrhN9Q2mbVw</td>\n",
       "    </tr>\n",
       "  </tbody>\n",
       "</table>\n",
       "<p>5 rows × 27 columns</p>\n",
       "</div>"
      ],
      "text/plain": [
       "   service_type  is_mix_service  online_time  1_total_fee 2_total_fee  \\\n",
       "0             4               0           85       295.96       296.2   \n",
       "1             1               0           10       265.20       261.2   \n",
       "2             1               0           12        44.50        70.2   \n",
       "3             4               0          134        87.95        81.4   \n",
       "4             4               0           84       317.04      314.08   \n",
       "\n",
       "  3_total_fee  4_total_fee  month_traffic  many_over_bill  contract_type  \\\n",
       "0         296       296.80    3813.614698               0              1   \n",
       "1       208.5       174.50       0.000000               1              0   \n",
       "2          69        61.40    2598.397406               0              0   \n",
       "3          76        88.30     988.440563               0              0   \n",
       "4      435.51       413.05    5885.800642               0              1   \n",
       "\n",
       "         ...         local_caller_time  service1_caller_time  \\\n",
       "0        ...                108.100000              0.000000   \n",
       "1        ...                240.100000            355.166667   \n",
       "2        ...                 27.666667              0.000000   \n",
       "3        ...                 89.900000             74.483333   \n",
       "4        ...                  0.000000             35.100000   \n",
       "\n",
       "   service2_caller_time  gender  age  complaint_level  former_complaint_num  \\\n",
       "0            564.366667       1   31                0                     0   \n",
       "1              0.000000       1   30                0                     0   \n",
       "2             98.416667       2   25                0                     0   \n",
       "3            121.833333       1   44                0                     0   \n",
       "4            496.733333       1   31                2                     1   \n",
       "\n",
       "   former_complaint_fee  current_service           user_id  \n",
       "0                   0.0         99999825  Gx4sJzcQog01UhZL  \n",
       "1                   0.0         90063345  kEXrhTiug93DIcLG  \n",
       "2                   0.0         90109916  AouXr0EOUtSRdiYK  \n",
       "3                   0.0         89950166  Yds7U30hnRZDiLtb  \n",
       "4                   0.0         99999825  OFDTSXrhN9Q2mbVw  \n",
       "\n",
       "[5 rows x 27 columns]"
      ]
     },
     "execution_count": 299,
     "metadata": {},
     "output_type": "execute_result"
    }
   ],
   "source": [
    "train.head()"
   ]
  },
  {
   "cell_type": "code",
   "execution_count": 300,
   "metadata": {},
   "outputs": [
    {
     "data": {
      "text/html": [
       "<div>\n",
       "<style scoped>\n",
       "    .dataframe tbody tr th:only-of-type {\n",
       "        vertical-align: middle;\n",
       "    }\n",
       "\n",
       "    .dataframe tbody tr th {\n",
       "        vertical-align: top;\n",
       "    }\n",
       "\n",
       "    .dataframe thead th {\n",
       "        text-align: right;\n",
       "    }\n",
       "</style>\n",
       "<table border=\"1\" class=\"dataframe\">\n",
       "  <thead>\n",
       "    <tr style=\"text-align: right;\">\n",
       "      <th></th>\n",
       "      <th>service_type</th>\n",
       "      <th>is_mix_service</th>\n",
       "      <th>online_time</th>\n",
       "      <th>1_total_fee</th>\n",
       "      <th>2_total_fee</th>\n",
       "      <th>3_total_fee</th>\n",
       "      <th>4_total_fee</th>\n",
       "      <th>month_traffic</th>\n",
       "      <th>many_over_bill</th>\n",
       "      <th>contract_type</th>\n",
       "      <th>...</th>\n",
       "      <th>local_trafffic_month</th>\n",
       "      <th>local_caller_time</th>\n",
       "      <th>service1_caller_time</th>\n",
       "      <th>service2_caller_time</th>\n",
       "      <th>gender</th>\n",
       "      <th>age</th>\n",
       "      <th>complaint_level</th>\n",
       "      <th>former_complaint_num</th>\n",
       "      <th>former_complaint_fee</th>\n",
       "      <th>user_id</th>\n",
       "    </tr>\n",
       "  </thead>\n",
       "  <tbody>\n",
       "    <tr>\n",
       "      <th>0</th>\n",
       "      <td>4</td>\n",
       "      <td>0</td>\n",
       "      <td>193</td>\n",
       "      <td>80.00</td>\n",
       "      <td>80</td>\n",
       "      <td>80</td>\n",
       "      <td>80.00</td>\n",
       "      <td>872.042338</td>\n",
       "      <td>0</td>\n",
       "      <td>0</td>\n",
       "      <td>...</td>\n",
       "      <td>594.585080</td>\n",
       "      <td>130.316667</td>\n",
       "      <td>8.050000</td>\n",
       "      <td>146.666667</td>\n",
       "      <td>1</td>\n",
       "      <td>60</td>\n",
       "      <td>0</td>\n",
       "      <td>0</td>\n",
       "      <td>0</td>\n",
       "      <td>iC37kmjDBqrctznl</td>\n",
       "    </tr>\n",
       "    <tr>\n",
       "      <th>1</th>\n",
       "      <td>1</td>\n",
       "      <td>0</td>\n",
       "      <td>5</td>\n",
       "      <td>86.70</td>\n",
       "      <td>74.2</td>\n",
       "      <td>57.1</td>\n",
       "      <td>68.90</td>\n",
       "      <td>200.000000</td>\n",
       "      <td>1</td>\n",
       "      <td>0</td>\n",
       "      <td>...</td>\n",
       "      <td>0.000000</td>\n",
       "      <td>0.000000</td>\n",
       "      <td>104.483333</td>\n",
       "      <td>0.000000</td>\n",
       "      <td>1</td>\n",
       "      <td>22</td>\n",
       "      <td>0</td>\n",
       "      <td>0</td>\n",
       "      <td>0</td>\n",
       "      <td>jSf9GCWynNVFwOtQ</td>\n",
       "    </tr>\n",
       "    <tr>\n",
       "      <th>2</th>\n",
       "      <td>4</td>\n",
       "      <td>0</td>\n",
       "      <td>62</td>\n",
       "      <td>90.90</td>\n",
       "      <td>127.35</td>\n",
       "      <td>82.6</td>\n",
       "      <td>91.00</td>\n",
       "      <td>22927.945140</td>\n",
       "      <td>0</td>\n",
       "      <td>9</td>\n",
       "      <td>...</td>\n",
       "      <td>22915.222530</td>\n",
       "      <td>202.916667</td>\n",
       "      <td>85.600000</td>\n",
       "      <td>165.733333</td>\n",
       "      <td>1</td>\n",
       "      <td>29</td>\n",
       "      <td>2</td>\n",
       "      <td>1</td>\n",
       "      <td>0</td>\n",
       "      <td>j5hsAm8YagTcRXiB</td>\n",
       "    </tr>\n",
       "    <tr>\n",
       "      <th>3</th>\n",
       "      <td>4</td>\n",
       "      <td>0</td>\n",
       "      <td>87</td>\n",
       "      <td>95.45</td>\n",
       "      <td>154.65</td>\n",
       "      <td>75.95</td>\n",
       "      <td>143.35</td>\n",
       "      <td>4793.146457</td>\n",
       "      <td>0</td>\n",
       "      <td>1</td>\n",
       "      <td>...</td>\n",
       "      <td>4793.167977</td>\n",
       "      <td>66.083333</td>\n",
       "      <td>143.883333</td>\n",
       "      <td>131.783333</td>\n",
       "      <td>2</td>\n",
       "      <td>41</td>\n",
       "      <td>0</td>\n",
       "      <td>0</td>\n",
       "      <td>0</td>\n",
       "      <td>6EC1H9IjDYcGFP4v</td>\n",
       "    </tr>\n",
       "    <tr>\n",
       "      <th>4</th>\n",
       "      <td>4</td>\n",
       "      <td>0</td>\n",
       "      <td>53</td>\n",
       "      <td>76.00</td>\n",
       "      <td>86</td>\n",
       "      <td>76</td>\n",
       "      <td>76.00</td>\n",
       "      <td>563.253649</td>\n",
       "      <td>0</td>\n",
       "      <td>0</td>\n",
       "      <td>...</td>\n",
       "      <td>0.000000</td>\n",
       "      <td>0.000000</td>\n",
       "      <td>0.000000</td>\n",
       "      <td>3.300000</td>\n",
       "      <td>2</td>\n",
       "      <td>30</td>\n",
       "      <td>0</td>\n",
       "      <td>0</td>\n",
       "      <td>0</td>\n",
       "      <td>a0utDgZkXvJ1oFOs</td>\n",
       "    </tr>\n",
       "  </tbody>\n",
       "</table>\n",
       "<p>5 rows × 26 columns</p>\n",
       "</div>"
      ],
      "text/plain": [
       "   service_type  is_mix_service  online_time  1_total_fee 2_total_fee  \\\n",
       "0             4               0          193        80.00          80   \n",
       "1             1               0            5        86.70        74.2   \n",
       "2             4               0           62        90.90      127.35   \n",
       "3             4               0           87        95.45      154.65   \n",
       "4             4               0           53        76.00          86   \n",
       "\n",
       "  3_total_fee  4_total_fee  month_traffic  many_over_bill  contract_type  \\\n",
       "0          80        80.00     872.042338               0              0   \n",
       "1        57.1        68.90     200.000000               1              0   \n",
       "2        82.6        91.00   22927.945140               0              9   \n",
       "3       75.95       143.35    4793.146457               0              1   \n",
       "4          76        76.00     563.253649               0              0   \n",
       "\n",
       "         ...         local_trafffic_month  local_caller_time  \\\n",
       "0        ...                   594.585080         130.316667   \n",
       "1        ...                     0.000000           0.000000   \n",
       "2        ...                 22915.222530         202.916667   \n",
       "3        ...                  4793.167977          66.083333   \n",
       "4        ...                     0.000000           0.000000   \n",
       "\n",
       "   service1_caller_time  service2_caller_time  gender  age  complaint_level  \\\n",
       "0              8.050000            146.666667       1   60                0   \n",
       "1            104.483333              0.000000       1   22                0   \n",
       "2             85.600000            165.733333       1   29                2   \n",
       "3            143.883333            131.783333       2   41                0   \n",
       "4              0.000000              3.300000       2   30                0   \n",
       "\n",
       "   former_complaint_num  former_complaint_fee           user_id  \n",
       "0                     0                     0  iC37kmjDBqrctznl  \n",
       "1                     0                     0  jSf9GCWynNVFwOtQ  \n",
       "2                     1                     0  j5hsAm8YagTcRXiB  \n",
       "3                     0                     0  6EC1H9IjDYcGFP4v  \n",
       "4                     0                     0  a0utDgZkXvJ1oFOs  \n",
       "\n",
       "[5 rows x 26 columns]"
      ]
     },
     "execution_count": 300,
     "metadata": {},
     "output_type": "execute_result"
    }
   ],
   "source": [
    "test.head()"
   ]
  },
  {
   "cell_type": "code",
   "execution_count": 301,
   "metadata": {},
   "outputs": [],
   "source": [
    "n_train = train.shape[0]\n",
    "n_test = test.shape[0]"
   ]
  },
  {
   "cell_type": "code",
   "execution_count": 302,
   "metadata": {},
   "outputs": [],
   "source": [
    "train_id = train['user_id']\n",
    "train.drop('user_id', axis = 1, inplace = True)\n",
    "test_id = test['user_id']\n",
    "test.drop('user_id', axis = 1, inplace = True)"
   ]
  },
  {
   "cell_type": "code",
   "execution_count": 303,
   "metadata": {},
   "outputs": [],
   "source": [
    "y_train = train['current_service']\n",
    "# train.drop('current_service', axis = 1, inplace = True)"
   ]
  },
  {
   "cell_type": "code",
   "execution_count": 304,
   "metadata": {},
   "outputs": [],
   "source": [
    "all_data = pd.concat((train, test)).reset_index(drop=True)"
   ]
  },
  {
   "cell_type": "code",
   "execution_count": 305,
   "metadata": {},
   "outputs": [
    {
     "name": "stdout",
     "output_type": "stream",
     "text": [
      "<class 'pandas.core.frame.DataFrame'>\n",
      "RangeIndex: 612652 entries, 0 to 612651\n",
      "Data columns (total 26 columns):\n",
      "service_type              612652 non-null int64\n",
      "is_mix_service            612652 non-null int64\n",
      "online_time               612652 non-null int64\n",
      "1_total_fee               612652 non-null float64\n",
      "2_total_fee               612652 non-null object\n",
      "3_total_fee               612652 non-null object\n",
      "4_total_fee               612652 non-null float64\n",
      "month_traffic             612652 non-null float64\n",
      "many_over_bill            612652 non-null int64\n",
      "contract_type             612652 non-null int64\n",
      "contract_time             612652 non-null int64\n",
      "is_promise_low_consume    612652 non-null int64\n",
      "net_service               612652 non-null int64\n",
      "pay_times                 612652 non-null int64\n",
      "pay_num                   612652 non-null float64\n",
      "last_month_traffic        612652 non-null float64\n",
      "local_trafffic_month      612652 non-null float64\n",
      "local_caller_time         612652 non-null float64\n",
      "service1_caller_time      612652 non-null float64\n",
      "service2_caller_time      612652 non-null float64\n",
      "gender                    612652 non-null object\n",
      "age                       612652 non-null object\n",
      "complaint_level           612652 non-null int64\n",
      "former_complaint_num      612652 non-null int64\n",
      "former_complaint_fee      612652 non-null float64\n",
      "current_service           612652 non-null int64\n",
      "dtypes: float64(10), int64(12), object(4)\n",
      "memory usage: 121.5+ MB\n"
     ]
    }
   ],
   "source": [
    "train.info()"
   ]
  },
  {
   "cell_type": "code",
   "execution_count": 306,
   "metadata": {},
   "outputs": [
    {
     "name": "stdout",
     "output_type": "stream",
     "text": [
      "612652\n",
      "611577\n"
     ]
    }
   ],
   "source": [
    "temp = list(train['2_total_fee'])\n",
    "print(len(temp))\n",
    "i = 0\n",
    "while i < len(temp):\n",
    "    if temp[i] == '\\\\N':\n",
    "        del temp[i]\n",
    "        i -= 1\n",
    "    elif float(temp[i]) < 0:\n",
    "        del temp[i]\n",
    "        i -= 1\n",
    "    i += 1\n",
    "print(len(temp))\n",
    "train = train[train['2_total_fee'].isin(temp)].reset_index(drop=True)"
   ]
  },
  {
   "cell_type": "code",
   "execution_count": 307,
   "metadata": {},
   "outputs": [
    {
     "name": "stdout",
     "output_type": "stream",
     "text": [
      "611577\n",
      "610575\n"
     ]
    }
   ],
   "source": [
    "temp = list(train['3_total_fee'])\n",
    "print(len(temp))\n",
    "i = 0\n",
    "while i < len(temp):\n",
    "    if temp[i] == '\\\\N':\n",
    "        del temp[i]\n",
    "        i -= 1\n",
    "    elif float(temp[i]) < 0:\n",
    "        del temp[i]\n",
    "        i -= 1\n",
    "    i += 1\n",
    "print(len(temp))\n",
    "train = train[train['3_total_fee'].isin(temp)].reset_index(drop=True)"
   ]
  },
  {
   "cell_type": "code",
   "execution_count": 308,
   "metadata": {},
   "outputs": [
    {
     "name": "stdout",
     "output_type": "stream",
     "text": [
      "610575\n",
      "609858\n"
     ]
    }
   ],
   "source": [
    "temp = list(train['4_total_fee'])\n",
    "print(len(temp))\n",
    "i = 0\n",
    "while i < len(temp):\n",
    "    if temp[i] == '\\\\N':\n",
    "        del temp[i]\n",
    "        i -= 1\n",
    "    elif float(temp[i]) < 0:\n",
    "        del temp[i]\n",
    "        i -= 1\n",
    "    i += 1\n",
    "print(len(temp))\n",
    "train = train[train['4_total_fee'].isin(temp)].reset_index(drop=True)"
   ]
  },
  {
   "cell_type": "code",
   "execution_count": 309,
   "metadata": {},
   "outputs": [
    {
     "name": "stdout",
     "output_type": "stream",
     "text": [
      "609858\n",
      "609856\n"
     ]
    }
   ],
   "source": [
    "temp = list(train['gender'])\n",
    "print(len(temp))\n",
    "num = len(temp)\n",
    "for i in range(num):\n",
    "    if(i == len(temp)):\n",
    "        break\n",
    "    if temp[i] == '\\\\N':\n",
    "        del temp[i]\n",
    "        i -= 1\n",
    "print(len(temp))\n",
    "train = train[train['gender'].isin(temp)].reset_index(drop=True)"
   ]
  },
  {
   "cell_type": "code",
   "execution_count": 310,
   "metadata": {},
   "outputs": [],
   "source": [
    "_total_fee_2 = train['2_total_fee']\n",
    "_total_fee_2 = np.array(_total_fee_2, dtype = np.float)\n",
    "train['2_total_fee'] = pd.DataFrame(_total_fee_2)\n",
    "_total_fee_3 = train['3_total_fee']\n",
    "_total_fee_3 = np.array(_total_fee_3, dtype = np.float)\n",
    "train['3_total_fee'] = pd.DataFrame(_total_fee_3)\n",
    "gender = train['gender']\n",
    "gender = np.array(gender, dtype = np.float)\n",
    "train['gender'] = pd.DataFrame(gender)\n",
    "age = train['age']\n",
    "age = np.array(age, dtype = np.float)\n",
    "train['age'] = pd.DataFrame(age)"
   ]
  },
  {
   "cell_type": "code",
   "execution_count": 311,
   "metadata": {},
   "outputs": [
    {
     "name": "stdout",
     "output_type": "stream",
     "text": [
      "<class 'pandas.core.frame.DataFrame'>\n",
      "RangeIndex: 609856 entries, 0 to 609855\n",
      "Data columns (total 26 columns):\n",
      "service_type              609856 non-null int64\n",
      "is_mix_service            609856 non-null int64\n",
      "online_time               609856 non-null int64\n",
      "1_total_fee               609856 non-null float64\n",
      "2_total_fee               609856 non-null float64\n",
      "3_total_fee               609856 non-null float64\n",
      "4_total_fee               609856 non-null float64\n",
      "month_traffic             609856 non-null float64\n",
      "many_over_bill            609856 non-null int64\n",
      "contract_type             609856 non-null int64\n",
      "contract_time             609856 non-null int64\n",
      "is_promise_low_consume    609856 non-null int64\n",
      "net_service               609856 non-null int64\n",
      "pay_times                 609856 non-null int64\n",
      "pay_num                   609856 non-null float64\n",
      "last_month_traffic        609856 non-null float64\n",
      "local_trafffic_month      609856 non-null float64\n",
      "local_caller_time         609856 non-null float64\n",
      "service1_caller_time      609856 non-null float64\n",
      "service2_caller_time      609856 non-null float64\n",
      "gender                    609856 non-null float64\n",
      "age                       609856 non-null float64\n",
      "complaint_level           609856 non-null int64\n",
      "former_complaint_num      609856 non-null int64\n",
      "former_complaint_fee      609856 non-null float64\n",
      "current_service           609856 non-null int64\n",
      "dtypes: float64(14), int64(12)\n",
      "memory usage: 121.0 MB\n"
     ]
    }
   ],
   "source": [
    "train.info()"
   ]
  },
  {
   "cell_type": "code",
   "execution_count": 312,
   "metadata": {},
   "outputs": [
    {
     "data": {
      "text/plain": [
       "4    0.544442\n",
       "1    0.396075\n",
       "3    0.059483\n",
       "Name: service_type, dtype: float64"
      ]
     },
     "execution_count": 312,
     "metadata": {},
     "output_type": "execute_result"
    }
   ],
   "source": [
    "train['service_type'].value_counts(normalize = True)"
   ]
  },
  {
   "cell_type": "code",
   "execution_count": 313,
   "metadata": {},
   "outputs": [
    {
     "data": {
      "text/plain": [
       "0    0.96401\n",
       "1    0.03599\n",
       "Name: is_mix_service, dtype: float64"
      ]
     },
     "execution_count": 313,
     "metadata": {},
     "output_type": "execute_result"
    }
   ],
   "source": [
    "train['is_mix_service'].value_counts(normalize = True) "
   ]
  },
  {
   "cell_type": "code",
   "execution_count": 314,
   "metadata": {},
   "outputs": [
    {
     "data": {
      "text/plain": [
       "count    609856.000000\n",
       "mean         42.935047\n",
       "std          45.412751\n",
       "min           1.000000\n",
       "25%          10.000000\n",
       "50%          21.000000\n",
       "75%          64.000000\n",
       "max         274.000000\n",
       "Name: online_time, dtype: float64"
      ]
     },
     "execution_count": 314,
     "metadata": {},
     "output_type": "execute_result"
    }
   ],
   "source": [
    "train['online_time'].describe()"
   ]
  },
  {
   "cell_type": "code",
   "execution_count": 315,
   "metadata": {},
   "outputs": [
    {
     "data": {
      "text/plain": [
       "count    609856.000000\n",
       "mean         97.654659\n",
       "std          89.521308\n",
       "min           0.000000\n",
       "25%          46.330000\n",
       "50%          72.900000\n",
       "75%         116.250000\n",
       "max        5940.830000\n",
       "Name: 1_total_fee, dtype: float64"
      ]
     },
     "execution_count": 315,
     "metadata": {},
     "output_type": "execute_result"
    }
   ],
   "source": [
    "train['1_total_fee'].describe()"
   ]
  },
  {
   "cell_type": "code",
   "execution_count": 316,
   "metadata": {},
   "outputs": [
    {
     "data": {
      "text/plain": [
       "count    609856.000000\n",
       "mean        103.075766\n",
       "std          97.673583\n",
       "min           0.000000\n",
       "25%          47.500000\n",
       "50%          76.000000\n",
       "75%         126.100000\n",
       "max        5825.570000\n",
       "Name: 2_total_fee, dtype: float64"
      ]
     },
     "execution_count": 316,
     "metadata": {},
     "output_type": "execute_result"
    }
   ],
   "source": [
    "train['2_total_fee'].describe()"
   ]
  },
  {
   "cell_type": "code",
   "execution_count": 317,
   "metadata": {},
   "outputs": [
    {
     "data": {
      "text/plain": [
       "count    609856.000000\n",
       "mean         96.487943\n",
       "std          93.338897\n",
       "min           0.000000\n",
       "25%          42.300000\n",
       "50%          69.000000\n",
       "75%         120.000000\n",
       "max        6965.500000\n",
       "Name: 3_total_fee, dtype: float64"
      ]
     },
     "execution_count": 317,
     "metadata": {},
     "output_type": "execute_result"
    }
   ],
   "source": [
    "train['3_total_fee'].describe()"
   ]
  },
  {
   "cell_type": "code",
   "execution_count": 318,
   "metadata": {},
   "outputs": [
    {
     "data": {
      "text/plain": [
       "count    609856.000000\n",
       "mean        103.186996\n",
       "std         101.276799\n",
       "min           0.000000\n",
       "25%          45.247500\n",
       "50%          74.570000\n",
       "75%         129.800000\n",
       "max        5141.270000\n",
       "Name: 4_total_fee, dtype: float64"
      ]
     },
     "execution_count": 318,
     "metadata": {},
     "output_type": "execute_result"
    }
   ],
   "source": [
    "train['4_total_fee'].describe()"
   ]
  },
  {
   "cell_type": "code",
   "execution_count": 319,
   "metadata": {},
   "outputs": [
    {
     "data": {
      "text/plain": [
       "count    609856.000000\n",
       "mean       1163.752291\n",
       "std        2758.941443\n",
       "min           0.000000\n",
       "25%           0.000000\n",
       "50%         146.397847\n",
       "75%        1319.252198\n",
       "max      159057.397788\n",
       "Name: month_traffic, dtype: float64"
      ]
     },
     "execution_count": 319,
     "metadata": {},
     "output_type": "execute_result"
    }
   ],
   "source": [
    "train['month_traffic'].describe()"
   ]
  },
  {
   "cell_type": "code",
   "execution_count": 320,
   "metadata": {},
   "outputs": [
    {
     "name": "stdout",
     "output_type": "stream",
     "text": [
      "609856\n",
      "609445\n"
     ]
    }
   ],
   "source": [
    "temp = list(train['month_traffic'])\n",
    "print(len(temp))\n",
    "i = 0\n",
    "while i < len(temp):\n",
    "    if temp[i] == '\\\\N':\n",
    "        del temp[i]\n",
    "        i -= 1\n",
    "    elif float(temp[i]) > 40000:\n",
    "        del temp[i]\n",
    "        i -= 1\n",
    "    i += 1\n",
    "print(len(temp))\n",
    "train = train[train['month_traffic'].isin(temp)].reset_index(drop=True)"
   ]
  },
  {
   "cell_type": "code",
   "execution_count": 321,
   "metadata": {},
   "outputs": [
    {
     "data": {
      "text/plain": [
       "count    609445.000000\n",
       "mean       1129.725860\n",
       "std        2396.955569\n",
       "min           0.000000\n",
       "25%           0.000000\n",
       "50%         144.890085\n",
       "75%        1315.499069\n",
       "max       39945.176285\n",
       "Name: month_traffic, dtype: float64"
      ]
     },
     "execution_count": 321,
     "metadata": {},
     "output_type": "execute_result"
    }
   ],
   "source": [
    "train['month_traffic'].describe()"
   ]
  },
  {
   "cell_type": "code",
   "execution_count": 322,
   "metadata": {},
   "outputs": [
    {
     "data": {
      "text/plain": [
       "0    0.571486\n",
       "1    0.428514\n",
       "Name: many_over_bill, dtype: float64"
      ]
     },
     "execution_count": 322,
     "metadata": {},
     "output_type": "execute_result"
    }
   ],
   "source": [
    "train['many_over_bill'].value_counts(normalize = True) "
   ]
  },
  {
   "cell_type": "code",
   "execution_count": 323,
   "metadata": {},
   "outputs": [
    {
     "data": {
      "text/plain": [
       "0     0.629509\n",
       "1     0.146670\n",
       "3     0.121514\n",
       "9     0.062856\n",
       "12    0.030446\n",
       "7     0.004760\n",
       "6     0.003131\n",
       "2     0.001098\n",
       "8     0.000018\n",
       "Name: contract_type, dtype: float64"
      ]
     },
     "execution_count": 323,
     "metadata": {},
     "output_type": "execute_result"
    }
   ],
   "source": [
    "train['contract_type'].value_counts(normalize = True) "
   ]
  },
  {
   "cell_type": "code",
   "execution_count": 324,
   "metadata": {},
   "outputs": [
    {
     "data": {
      "text/plain": [
       " 0     0.629538\n",
       " 12    0.189623\n",
       " 24    0.119080\n",
       " 36    0.026870\n",
       " 10    0.006271\n",
       " 13    0.005185\n",
       " 30    0.004411\n",
       " 23    0.002207\n",
       " 11    0.001989\n",
       " 26    0.001971\n",
       " 15    0.001667\n",
       " 18    0.001659\n",
       "-1     0.001641\n",
       " 8     0.001626\n",
       " 7     0.001211\n",
       " 34    0.001109\n",
       " 35    0.000896\n",
       " 16    0.000665\n",
       " 19    0.000517\n",
       " 17    0.000420\n",
       " 25    0.000402\n",
       " 20    0.000299\n",
       " 6     0.000166\n",
       " 29    0.000110\n",
       " 27    0.000108\n",
       " 21    0.000072\n",
       " 33    0.000064\n",
       " 31    0.000053\n",
       " 9     0.000044\n",
       " 14    0.000034\n",
       " 28    0.000025\n",
       " 32    0.000021\n",
       " 22    0.000018\n",
       " 45    0.000005\n",
       " 39    0.000005\n",
       " 48    0.000005\n",
       " 50    0.000003\n",
       " 52    0.000003\n",
       " 5     0.000003\n",
       " 37    0.000002\n",
       " 40    0.000002\n",
       "Name: contract_time, dtype: float64"
      ]
     },
     "execution_count": 324,
     "metadata": {},
     "output_type": "execute_result"
    }
   ],
   "source": [
    "train['contract_time'].value_counts(normalize = True) "
   ]
  },
  {
   "cell_type": "code",
   "execution_count": 325,
   "metadata": {},
   "outputs": [
    {
     "data": {
      "text/plain": [
       "0    0.933175\n",
       "1    0.066825\n",
       "Name: is_promise_low_consume, dtype: float64"
      ]
     },
     "execution_count": 325,
     "metadata": {},
     "output_type": "execute_result"
    }
   ],
   "source": [
    "train['is_promise_low_consume'].value_counts(normalize = True) "
   ]
  },
  {
   "cell_type": "code",
   "execution_count": 326,
   "metadata": {},
   "outputs": [
    {
     "data": {
      "text/plain": [
       "4    0.930785\n",
       "3    0.042266\n",
       "2    0.026380\n",
       "9    0.000569\n",
       "Name: net_service, dtype: float64"
      ]
     },
     "execution_count": 326,
     "metadata": {},
     "output_type": "execute_result"
    }
   ],
   "source": [
    "train['net_service'].value_counts(normalize = True)"
   ]
  },
  {
   "cell_type": "code",
   "execution_count": 327,
   "metadata": {},
   "outputs": [
    {
     "data": {
      "text/plain": [
       "count    609445.000000\n",
       "mean          1.908149\n",
       "std           1.489467\n",
       "min           1.000000\n",
       "25%           1.000000\n",
       "50%           1.000000\n",
       "75%           2.000000\n",
       "max         127.000000\n",
       "Name: pay_times, dtype: float64"
      ]
     },
     "execution_count": 327,
     "metadata": {},
     "output_type": "execute_result"
    }
   ],
   "source": [
    "train['pay_times'].describe()"
   ]
  },
  {
   "cell_type": "code",
   "execution_count": 328,
   "metadata": {},
   "outputs": [
    {
     "data": {
      "text/plain": [
       "count    609445.000000\n",
       "mean        115.946810\n",
       "std         192.624775\n",
       "min           0.010000\n",
       "25%          40.000000\n",
       "50%          80.000000\n",
       "75%         120.550000\n",
       "max       55395.030000\n",
       "Name: pay_num, dtype: float64"
      ]
     },
     "execution_count": 328,
     "metadata": {},
     "output_type": "execute_result"
    }
   ],
   "source": [
    "train['pay_num'].describe()"
   ]
  },
  {
   "cell_type": "code",
   "execution_count": 329,
   "metadata": {},
   "outputs": [
    {
     "data": {
      "text/plain": [
       "count    6.094450e+05\n",
       "mean     2.107732e+04\n",
       "std      2.690371e+05\n",
       "min      0.000000e+00\n",
       "25%      0.000000e+00\n",
       "50%      0.000000e+00\n",
       "75%      4.500000e+02\n",
       "max      2.716262e+07\n",
       "Name: last_month_traffic, dtype: float64"
      ]
     },
     "execution_count": 329,
     "metadata": {},
     "output_type": "execute_result"
    }
   ],
   "source": [
    "train['last_month_traffic'].describe()"
   ]
  },
  {
   "cell_type": "code",
   "execution_count": 330,
   "metadata": {},
   "outputs": [
    {
     "name": "stdout",
     "output_type": "stream",
     "text": [
      "609445\n",
      "600661\n"
     ]
    }
   ],
   "source": [
    "temp = list(train['last_month_traffic'])\n",
    "print(len(temp))\n",
    "i = 0\n",
    "while i < len(temp):\n",
    "    if temp[i] == '\\\\N':\n",
    "        del temp[i]\n",
    "        i -= 1\n",
    "    elif float(temp[i]) > 40000:\n",
    "        del temp[i]\n",
    "        i -= 1\n",
    "    i += 1\n",
    "print(len(temp))\n",
    "train = train[train['last_month_traffic'].isin(temp)].reset_index(drop=True)"
   ]
  },
  {
   "cell_type": "code",
   "execution_count": 331,
   "metadata": {},
   "outputs": [
    {
     "data": {
      "text/plain": [
       "count    600661.000000\n",
       "mean        346.329197\n",
       "std         911.346479\n",
       "min           0.000000\n",
       "25%           0.000000\n",
       "50%           0.000000\n",
       "75%         400.000000\n",
       "max       39990.000000\n",
       "Name: last_month_traffic, dtype: float64"
      ]
     },
     "execution_count": 331,
     "metadata": {},
     "output_type": "execute_result"
    }
   ],
   "source": [
    "train['last_month_traffic'].describe()"
   ]
  },
  {
   "cell_type": "code",
   "execution_count": 332,
   "metadata": {},
   "outputs": [
    {
     "data": {
      "text/plain": [
       "count    600661.000000\n",
       "mean       5862.841463\n",
       "std       11298.176945\n",
       "min           0.000000\n",
       "25%          97.496233\n",
       "50%        1272.614158\n",
       "75%        5270.152059\n",
       "max      484365.746313\n",
       "Name: local_trafffic_month, dtype: float64"
      ]
     },
     "execution_count": 332,
     "metadata": {},
     "output_type": "execute_result"
    }
   ],
   "source": [
    "train['local_trafffic_month'].describe()"
   ]
  },
  {
   "cell_type": "code",
   "execution_count": 333,
   "metadata": {},
   "outputs": [
    {
     "data": {
      "text/plain": [
       "count    600661.000000\n",
       "mean         59.670122\n",
       "std         116.546668\n",
       "min           0.000000\n",
       "25%           0.000000\n",
       "50%          14.366667\n",
       "75%          68.533333\n",
       "max        6461.050000\n",
       "Name: local_caller_time, dtype: float64"
      ]
     },
     "execution_count": 333,
     "metadata": {},
     "output_type": "execute_result"
    }
   ],
   "source": [
    "train['local_caller_time'].describe()"
   ]
  },
  {
   "cell_type": "code",
   "execution_count": 334,
   "metadata": {},
   "outputs": [
    {
     "data": {
      "text/plain": [
       "count    600661.000000\n",
       "mean         43.253176\n",
       "std         111.255209\n",
       "min           0.000000\n",
       "25%           0.000000\n",
       "50%           0.000000\n",
       "75%          36.000000\n",
       "max        5139.483333\n",
       "Name: service1_caller_time, dtype: float64"
      ]
     },
     "execution_count": 334,
     "metadata": {},
     "output_type": "execute_result"
    }
   ],
   "source": [
    "train['service1_caller_time'].describe()"
   ]
  },
  {
   "cell_type": "code",
   "execution_count": 335,
   "metadata": {},
   "outputs": [
    {
     "data": {
      "text/plain": [
       "count    600661.000000\n",
       "mean         86.028330\n",
       "std         137.856176\n",
       "min           0.000000\n",
       "25%           0.000000\n",
       "50%          31.383333\n",
       "75%         126.850000\n",
       "max       16454.383333\n",
       "Name: service2_caller_time, dtype: float64"
      ]
     },
     "execution_count": 335,
     "metadata": {},
     "output_type": "execute_result"
    }
   ],
   "source": [
    "train['service2_caller_time'].describe()"
   ]
  },
  {
   "cell_type": "code",
   "execution_count": 336,
   "metadata": {},
   "outputs": [
    {
     "data": {
      "text/plain": [
       "1.0    0.664604\n",
       "2.0    0.305380\n",
       "0.0    0.030015\n",
       "Name: gender, dtype: float64"
      ]
     },
     "execution_count": 336,
     "metadata": {},
     "output_type": "execute_result"
    }
   ],
   "source": [
    "train['gender'].value_counts(normalize = True) "
   ]
  },
  {
   "cell_type": "code",
   "execution_count": 337,
   "metadata": {},
   "outputs": [
    {
     "data": {
      "text/plain": [
       "count    600661.000000\n",
       "mean         31.830392\n",
       "std          12.325058\n",
       "min           0.000000\n",
       "25%          24.000000\n",
       "50%          30.000000\n",
       "75%          39.000000\n",
       "max          99.000000\n",
       "Name: age, dtype: float64"
      ]
     },
     "execution_count": 337,
     "metadata": {},
     "output_type": "execute_result"
    }
   ],
   "source": [
    "train['age'].describe()"
   ]
  },
  {
   "cell_type": "code",
   "execution_count": 338,
   "metadata": {},
   "outputs": [
    {
     "name": "stdout",
     "output_type": "stream",
     "text": [
      "17925\n"
     ]
    }
   ],
   "source": [
    "temp = list(train['age'])\n",
    "# print(len(temp))\n",
    "i = 0\n",
    "j = 0\n",
    "while i < len(temp):\n",
    "    if float(temp[i]) < 10 or float(temp[i]) > 80:\n",
    "        temp[i] = 30\n",
    "        j += 1\n",
    "    i += 1\n",
    "print(j)\n",
    "train['age'] = pd.Series(temp)"
   ]
  },
  {
   "cell_type": "code",
   "execution_count": 339,
   "metadata": {},
   "outputs": [
    {
     "data": {
      "text/plain": [
       "count    600661.000000\n",
       "mean         32.700969\n",
       "std          10.977441\n",
       "min          11.000000\n",
       "25%          25.000000\n",
       "50%          30.000000\n",
       "75%          39.000000\n",
       "max          80.000000\n",
       "Name: age, dtype: float64"
      ]
     },
     "execution_count": 339,
     "metadata": {},
     "output_type": "execute_result"
    }
   ],
   "source": [
    "train['age'].describe()"
   ]
  },
  {
   "cell_type": "code",
   "execution_count": 340,
   "metadata": {},
   "outputs": [
    {
     "data": {
      "text/plain": [
       "0    0.898079\n",
       "1    0.087657\n",
       "2    0.011459\n",
       "3    0.002805\n",
       "Name: complaint_level, dtype: float64"
      ]
     },
     "execution_count": 340,
     "metadata": {},
     "output_type": "execute_result"
    }
   ],
   "source": [
    "train['complaint_level'].value_counts(normalize = True) "
   ]
  },
  {
   "cell_type": "code",
   "execution_count": 341,
   "metadata": {},
   "outputs": [],
   "source": [
    "train.drop('complaint_level', axis = 1 , inplace = True)"
   ]
  },
  {
   "cell_type": "code",
   "execution_count": 342,
   "metadata": {},
   "outputs": [
    {
     "data": {
      "text/plain": [
       "count    600661.000000\n",
       "mean          0.138942\n",
       "std           0.488487\n",
       "min           0.000000\n",
       "25%           0.000000\n",
       "50%           0.000000\n",
       "75%           0.000000\n",
       "max          37.000000\n",
       "Name: former_complaint_num, dtype: float64"
      ]
     },
     "execution_count": 342,
     "metadata": {},
     "output_type": "execute_result"
    }
   ],
   "source": [
    "train['former_complaint_num'].describe()"
   ]
  },
  {
   "cell_type": "code",
   "execution_count": 343,
   "metadata": {},
   "outputs": [
    {
     "data": {
      "text/plain": [
       "count    6.006610e+05\n",
       "mean     5.100498e+06\n",
       "std      2.826448e+09\n",
       "min      0.000000e+00\n",
       "25%      0.000000e+00\n",
       "50%      0.000000e+00\n",
       "75%      0.000000e+00\n",
       "max      1.762166e+12\n",
       "Name: former_complaint_fee, dtype: float64"
      ]
     },
     "execution_count": 343,
     "metadata": {},
     "output_type": "execute_result"
    }
   ],
   "source": [
    "train['former_complaint_fee'].describe()"
   ]
  },
  {
   "cell_type": "code",
   "execution_count": 344,
   "metadata": {},
   "outputs": [
    {
     "data": {
      "image/png": "[encoded data removed]",
      "text/plain": [
       "<matplotlib.figure.Figure at 0x1f7ed57f438>"
      ]
     },
     "metadata": {},
     "output_type": "display_data"
    }
   ],
   "source": [
    "plt.boxplot(train['former_complaint_fee'])\n",
    "plt.show()"
   ]
  },
  {
   "cell_type": "code",
   "execution_count": 345,
   "metadata": {},
   "outputs": [
    {
     "name": "stdout",
     "output_type": "stream",
     "text": [
      "6162\n"
     ]
    }
   ],
   "source": [
    "temp = list(train['former_complaint_fee'])\n",
    "# print(len(temp))\n",
    "i = 0\n",
    "j = 0\n",
    "while i < len(temp):\n",
    "    if float(temp[i]) > 10000:\n",
    "        temp[i] = 30\n",
    "        j += 1\n",
    "    i += 1\n",
    "print(j)\n",
    "train['former_complaint_fee'] = pd.Series(temp)"
   ]
  },
  {
   "cell_type": "code",
   "execution_count": 346,
   "metadata": {},
   "outputs": [
    {
     "data": {
      "text/plain": [
       "count    600661.000000\n",
       "mean         96.783074\n",
       "std         737.123664\n",
       "min           0.000000\n",
       "25%           0.000000\n",
       "50%           0.000000\n",
       "75%           0.000000\n",
       "max       10000.000000\n",
       "Name: former_complaint_fee, dtype: float64"
      ]
     },
     "execution_count": 346,
     "metadata": {},
     "output_type": "execute_result"
    }
   ],
   "source": [
    "train['former_complaint_fee'].describe()"
   ]
  },
  {
   "cell_type": "code",
   "execution_count": 347,
   "metadata": {},
   "outputs": [
    {
     "data": {
      "text/html": [
       "<div>\n",
       "<style scoped>\n",
       "    .dataframe tbody tr th:only-of-type {\n",
       "        vertical-align: middle;\n",
       "    }\n",
       "\n",
       "    .dataframe tbody tr th {\n",
       "        vertical-align: top;\n",
       "    }\n",
       "\n",
       "    .dataframe thead th {\n",
       "        text-align: right;\n",
       "    }\n",
       "</style>\n",
       "<table border=\"1\" class=\"dataframe\">\n",
       "  <thead>\n",
       "    <tr style=\"text-align: right;\">\n",
       "      <th></th>\n",
       "      <th>service_type</th>\n",
       "      <th>is_mix_service</th>\n",
       "      <th>online_time</th>\n",
       "      <th>1_total_fee</th>\n",
       "      <th>2_total_fee</th>\n",
       "      <th>3_total_fee</th>\n",
       "      <th>4_total_fee</th>\n",
       "      <th>month_traffic</th>\n",
       "      <th>many_over_bill</th>\n",
       "      <th>contract_type</th>\n",
       "      <th>...</th>\n",
       "      <th>last_month_traffic</th>\n",
       "      <th>local_trafffic_month</th>\n",
       "      <th>local_caller_time</th>\n",
       "      <th>service1_caller_time</th>\n",
       "      <th>service2_caller_time</th>\n",
       "      <th>gender</th>\n",
       "      <th>age</th>\n",
       "      <th>former_complaint_num</th>\n",
       "      <th>former_complaint_fee</th>\n",
       "      <th>current_service</th>\n",
       "    </tr>\n",
       "  </thead>\n",
       "  <tbody>\n",
       "    <tr>\n",
       "      <th>0</th>\n",
       "      <td>4</td>\n",
       "      <td>0</td>\n",
       "      <td>85</td>\n",
       "      <td>295.96</td>\n",
       "      <td>296.20</td>\n",
       "      <td>296.00</td>\n",
       "      <td>296.80</td>\n",
       "      <td>3813.614698</td>\n",
       "      <td>0</td>\n",
       "      <td>1</td>\n",
       "      <td>...</td>\n",
       "      <td>4096.000000</td>\n",
       "      <td>1392.038508</td>\n",
       "      <td>108.100000</td>\n",
       "      <td>0.000000</td>\n",
       "      <td>564.366667</td>\n",
       "      <td>1.0</td>\n",
       "      <td>31.0</td>\n",
       "      <td>0</td>\n",
       "      <td>0.0</td>\n",
       "      <td>99999825</td>\n",
       "    </tr>\n",
       "    <tr>\n",
       "      <th>1</th>\n",
       "      <td>1</td>\n",
       "      <td>0</td>\n",
       "      <td>10</td>\n",
       "      <td>265.20</td>\n",
       "      <td>261.20</td>\n",
       "      <td>208.50</td>\n",
       "      <td>174.50</td>\n",
       "      <td>0.000000</td>\n",
       "      <td>1</td>\n",
       "      <td>0</td>\n",
       "      <td>...</td>\n",
       "      <td>0.000000</td>\n",
       "      <td>62852.509718</td>\n",
       "      <td>240.100000</td>\n",
       "      <td>355.166667</td>\n",
       "      <td>0.000000</td>\n",
       "      <td>1.0</td>\n",
       "      <td>30.0</td>\n",
       "      <td>0</td>\n",
       "      <td>0.0</td>\n",
       "      <td>90063345</td>\n",
       "    </tr>\n",
       "    <tr>\n",
       "      <th>2</th>\n",
       "      <td>1</td>\n",
       "      <td>0</td>\n",
       "      <td>12</td>\n",
       "      <td>44.50</td>\n",
       "      <td>70.20</td>\n",
       "      <td>69.00</td>\n",
       "      <td>61.40</td>\n",
       "      <td>2598.397406</td>\n",
       "      <td>0</td>\n",
       "      <td>0</td>\n",
       "      <td>...</td>\n",
       "      <td>0.000000</td>\n",
       "      <td>1935.242104</td>\n",
       "      <td>27.666667</td>\n",
       "      <td>0.000000</td>\n",
       "      <td>98.416667</td>\n",
       "      <td>2.0</td>\n",
       "      <td>25.0</td>\n",
       "      <td>0</td>\n",
       "      <td>0.0</td>\n",
       "      <td>90109916</td>\n",
       "    </tr>\n",
       "    <tr>\n",
       "      <th>3</th>\n",
       "      <td>4</td>\n",
       "      <td>0</td>\n",
       "      <td>134</td>\n",
       "      <td>87.95</td>\n",
       "      <td>81.40</td>\n",
       "      <td>76.00</td>\n",
       "      <td>88.30</td>\n",
       "      <td>988.440563</td>\n",
       "      <td>0</td>\n",
       "      <td>0</td>\n",
       "      <td>...</td>\n",
       "      <td>37.336425</td>\n",
       "      <td>988.561075</td>\n",
       "      <td>89.900000</td>\n",
       "      <td>74.483333</td>\n",
       "      <td>121.833333</td>\n",
       "      <td>1.0</td>\n",
       "      <td>44.0</td>\n",
       "      <td>0</td>\n",
       "      <td>0.0</td>\n",
       "      <td>89950166</td>\n",
       "    </tr>\n",
       "    <tr>\n",
       "      <th>4</th>\n",
       "      <td>4</td>\n",
       "      <td>0</td>\n",
       "      <td>84</td>\n",
       "      <td>317.04</td>\n",
       "      <td>314.08</td>\n",
       "      <td>435.51</td>\n",
       "      <td>413.05</td>\n",
       "      <td>5885.800642</td>\n",
       "      <td>0</td>\n",
       "      <td>1</td>\n",
       "      <td>...</td>\n",
       "      <td>3305.741127</td>\n",
       "      <td>0.000000</td>\n",
       "      <td>0.000000</td>\n",
       "      <td>35.100000</td>\n",
       "      <td>496.733333</td>\n",
       "      <td>1.0</td>\n",
       "      <td>31.0</td>\n",
       "      <td>1</td>\n",
       "      <td>0.0</td>\n",
       "      <td>99999825</td>\n",
       "    </tr>\n",
       "  </tbody>\n",
       "</table>\n",
       "<p>5 rows × 25 columns</p>\n",
       "</div>"
      ],
      "text/plain": [
       "   service_type  is_mix_service  online_time  1_total_fee  2_total_fee  \\\n",
       "0             4               0           85       295.96       296.20   \n",
       "1             1               0           10       265.20       261.20   \n",
       "2             1               0           12        44.50        70.20   \n",
       "3             4               0          134        87.95        81.40   \n",
       "4             4               0           84       317.04       314.08   \n",
       "\n",
       "   3_total_fee  4_total_fee  month_traffic  many_over_bill  contract_type  \\\n",
       "0       296.00       296.80    3813.614698               0              1   \n",
       "1       208.50       174.50       0.000000               1              0   \n",
       "2        69.00        61.40    2598.397406               0              0   \n",
       "3        76.00        88.30     988.440563               0              0   \n",
       "4       435.51       413.05    5885.800642               0              1   \n",
       "\n",
       "        ...         last_month_traffic  local_trafffic_month  \\\n",
       "0       ...                4096.000000           1392.038508   \n",
       "1       ...                   0.000000          62852.509718   \n",
       "2       ...                   0.000000           1935.242104   \n",
       "3       ...                  37.336425            988.561075   \n",
       "4       ...                3305.741127              0.000000   \n",
       "\n",
       "   local_caller_time  service1_caller_time  service2_caller_time  gender  \\\n",
       "0         108.100000              0.000000            564.366667     1.0   \n",
       "1         240.100000            355.166667              0.000000     1.0   \n",
       "2          27.666667              0.000000             98.416667     2.0   \n",
       "3          89.900000             74.483333            121.833333     1.0   \n",
       "4           0.000000             35.100000            496.733333     1.0   \n",
       "\n",
       "    age  former_complaint_num  former_complaint_fee  current_service  \n",
       "0  31.0                     0                   0.0         99999825  \n",
       "1  30.0                     0                   0.0         90063345  \n",
       "2  25.0                     0                   0.0         90109916  \n",
       "3  44.0                     0                   0.0         89950166  \n",
       "4  31.0                     1                   0.0         99999825  \n",
       "\n",
       "[5 rows x 25 columns]"
      ]
     },
     "execution_count": 347,
     "metadata": {},
     "output_type": "execute_result"
    }
   ],
   "source": [
    "train.head()"
   ]
  },
  {
   "cell_type": "code",
   "execution_count": null,
   "metadata": {},
   "outputs": [],
   "source": []
  },
  {
   "cell_type": "code",
   "execution_count": 348,
   "metadata": {},
   "outputs": [],
   "source": [
    "from sklearn.preprocessing import LabelEncoder\n",
    "from sklearn.preprocessing import OneHotEncoder\n",
    "y_train = train['current_service']\n",
    "lbl = LabelEncoder() \n",
    "lbl.fit(list(y_train.values)) \n",
    "train_y = lbl.transform(list(y_train.values))"
   ]
  },
  {
   "cell_type": "code",
   "execution_count": 349,
   "metadata": {},
   "outputs": [
    {
     "name": "stdout",
     "output_type": "stream",
     "text": [
      "{89016252: 0, 0: 89016252, 89016253: 1, 1: 89016253, 89016259: 2, 2: 89016259, 89950166: 3, 3: 89950166, 89950167: 4, 4: 89950167, 89950168: 5, 5: 89950168, 90063345: 6, 6: 90063345, 90109916: 7, 7: 90109916, 90155946: 8, 8: 90155946, 99104722: 9, 9: 99104722, 99999825: 10, 10: 99999825, 99999826: 11, 11: 99999826, 99999827: 12, 12: 99999827, 99999828: 13, 13: 99999828, 99999830: 14, 14: 99999830}\n"
     ]
    }
   ],
   "source": [
    "label = dict()\n",
    "i = 0\n",
    "for d in lbl.classes_:\n",
    "    label[d] = i\n",
    "    label[i] = d\n",
    "    i += 1\n",
    "print(label)"
   ]
  },
  {
   "cell_type": "code",
   "execution_count": 350,
   "metadata": {},
   "outputs": [],
   "source": [
    "train.drop('current_service', axis = 1, inplace = True)"
   ]
  },
  {
   "cell_type": "code",
   "execution_count": 351,
   "metadata": {
    "scrolled": false
   },
   "outputs": [
    {
     "data": {
      "text/plain": [
       "6     0.332159\n",
       "3     0.154879\n",
       "4     0.085461\n",
       "13    0.061755\n",
       "0     0.059701\n",
       "9     0.045770\n",
       "7     0.044401\n",
       "5     0.038709\n",
       "12    0.037812\n",
       "11    0.033868\n",
       "8     0.025565\n",
       "14    0.024661\n",
       "10    0.023817\n",
       "1     0.016469\n",
       "2     0.014974\n",
       "dtype: float64"
      ]
     },
     "execution_count": 351,
     "metadata": {},
     "output_type": "execute_result"
    }
   ],
   "source": [
    "pd.Series(train_y).value_counts(normalize = True)"
   ]
  },
  {
   "cell_type": "code",
   "execution_count": 352,
   "metadata": {},
   "outputs": [],
   "source": [
    "def oneHotEncode(data, col):\n",
    "    for c in col:\n",
    "        lbl = LabelEncoder() \n",
    "        lbl.fit(list(data[c].values)) \n",
    "        data[c] = lbl.transform(list(data[c].values))\n",
    "    for c in col:\n",
    "        enc = OneHotEncoder(sparse=False)\n",
    "        enc.fit(data[c].reshape(-1,1))\n",
    "        temp = enc.transform(data[c].reshape(-1,1))\n",
    "        for i in range(temp.shape[1]):\n",
    "            data[c+str(i)] = temp[:,i]\n",
    "        data.drop(c, axis = 1, inplace = True)"
   ]
  },
  {
   "cell_type": "code",
   "execution_count": 353,
   "metadata": {},
   "outputs": [
    {
     "name": "stderr",
     "output_type": "stream",
     "text": [
      "e:\\Anaconda3\\lib\\site-packages\\ipykernel_launcher.py:8: FutureWarning: reshape is deprecated and will raise in a subsequent release. Please use .values.reshape(...) instead\n",
      "  \n",
      "e:\\Anaconda3\\lib\\site-packages\\ipykernel_launcher.py:9: FutureWarning: reshape is deprecated and will raise in a subsequent release. Please use .values.reshape(...) instead\n",
      "  if __name__ == '__main__':\n"
     ]
    }
   ],
   "source": [
    "col = ['service_type','contract_type','net_service']\n",
    "oneHotEncode(train,col)"
   ]
  },
  {
   "cell_type": "code",
   "execution_count": 354,
   "metadata": {},
   "outputs": [
    {
     "data": {
      "text/html": [
       "<div>\n",
       "<style scoped>\n",
       "    .dataframe tbody tr th:only-of-type {\n",
       "        vertical-align: middle;\n",
       "    }\n",
       "\n",
       "    .dataframe tbody tr th {\n",
       "        vertical-align: top;\n",
       "    }\n",
       "\n",
       "    .dataframe thead th {\n",
       "        text-align: right;\n",
       "    }\n",
       "</style>\n",
       "<table border=\"1\" class=\"dataframe\">\n",
       "  <thead>\n",
       "    <tr style=\"text-align: right;\">\n",
       "      <th></th>\n",
       "      <th>is_mix_service</th>\n",
       "      <th>online_time</th>\n",
       "      <th>1_total_fee</th>\n",
       "      <th>2_total_fee</th>\n",
       "      <th>3_total_fee</th>\n",
       "      <th>4_total_fee</th>\n",
       "      <th>month_traffic</th>\n",
       "      <th>many_over_bill</th>\n",
       "      <th>contract_time</th>\n",
       "      <th>is_promise_low_consume</th>\n",
       "      <th>...</th>\n",
       "      <th>contract_type3</th>\n",
       "      <th>contract_type4</th>\n",
       "      <th>contract_type5</th>\n",
       "      <th>contract_type6</th>\n",
       "      <th>contract_type7</th>\n",
       "      <th>contract_type8</th>\n",
       "      <th>net_service0</th>\n",
       "      <th>net_service1</th>\n",
       "      <th>net_service2</th>\n",
       "      <th>net_service3</th>\n",
       "    </tr>\n",
       "  </thead>\n",
       "  <tbody>\n",
       "    <tr>\n",
       "      <th>0</th>\n",
       "      <td>0</td>\n",
       "      <td>85</td>\n",
       "      <td>295.96</td>\n",
       "      <td>296.20</td>\n",
       "      <td>296.00</td>\n",
       "      <td>296.80</td>\n",
       "      <td>3813.614698</td>\n",
       "      <td>0</td>\n",
       "      <td>36</td>\n",
       "      <td>0</td>\n",
       "      <td>...</td>\n",
       "      <td>0.0</td>\n",
       "      <td>0.0</td>\n",
       "      <td>0.0</td>\n",
       "      <td>0.0</td>\n",
       "      <td>0.0</td>\n",
       "      <td>0.0</td>\n",
       "      <td>0.0</td>\n",
       "      <td>0.0</td>\n",
       "      <td>1.0</td>\n",
       "      <td>0.0</td>\n",
       "    </tr>\n",
       "    <tr>\n",
       "      <th>1</th>\n",
       "      <td>0</td>\n",
       "      <td>10</td>\n",
       "      <td>265.20</td>\n",
       "      <td>261.20</td>\n",
       "      <td>208.50</td>\n",
       "      <td>174.50</td>\n",
       "      <td>0.000000</td>\n",
       "      <td>1</td>\n",
       "      <td>0</td>\n",
       "      <td>0</td>\n",
       "      <td>...</td>\n",
       "      <td>0.0</td>\n",
       "      <td>0.0</td>\n",
       "      <td>0.0</td>\n",
       "      <td>0.0</td>\n",
       "      <td>0.0</td>\n",
       "      <td>0.0</td>\n",
       "      <td>0.0</td>\n",
       "      <td>0.0</td>\n",
       "      <td>1.0</td>\n",
       "      <td>0.0</td>\n",
       "    </tr>\n",
       "    <tr>\n",
       "      <th>2</th>\n",
       "      <td>0</td>\n",
       "      <td>12</td>\n",
       "      <td>44.50</td>\n",
       "      <td>70.20</td>\n",
       "      <td>69.00</td>\n",
       "      <td>61.40</td>\n",
       "      <td>2598.397406</td>\n",
       "      <td>0</td>\n",
       "      <td>0</td>\n",
       "      <td>0</td>\n",
       "      <td>...</td>\n",
       "      <td>0.0</td>\n",
       "      <td>0.0</td>\n",
       "      <td>0.0</td>\n",
       "      <td>0.0</td>\n",
       "      <td>0.0</td>\n",
       "      <td>0.0</td>\n",
       "      <td>0.0</td>\n",
       "      <td>0.0</td>\n",
       "      <td>1.0</td>\n",
       "      <td>0.0</td>\n",
       "    </tr>\n",
       "    <tr>\n",
       "      <th>3</th>\n",
       "      <td>0</td>\n",
       "      <td>134</td>\n",
       "      <td>87.95</td>\n",
       "      <td>81.40</td>\n",
       "      <td>76.00</td>\n",
       "      <td>88.30</td>\n",
       "      <td>988.440563</td>\n",
       "      <td>0</td>\n",
       "      <td>0</td>\n",
       "      <td>0</td>\n",
       "      <td>...</td>\n",
       "      <td>0.0</td>\n",
       "      <td>0.0</td>\n",
       "      <td>0.0</td>\n",
       "      <td>0.0</td>\n",
       "      <td>0.0</td>\n",
       "      <td>0.0</td>\n",
       "      <td>0.0</td>\n",
       "      <td>0.0</td>\n",
       "      <td>1.0</td>\n",
       "      <td>0.0</td>\n",
       "    </tr>\n",
       "    <tr>\n",
       "      <th>4</th>\n",
       "      <td>0</td>\n",
       "      <td>84</td>\n",
       "      <td>317.04</td>\n",
       "      <td>314.08</td>\n",
       "      <td>435.51</td>\n",
       "      <td>413.05</td>\n",
       "      <td>5885.800642</td>\n",
       "      <td>0</td>\n",
       "      <td>24</td>\n",
       "      <td>0</td>\n",
       "      <td>...</td>\n",
       "      <td>0.0</td>\n",
       "      <td>0.0</td>\n",
       "      <td>0.0</td>\n",
       "      <td>0.0</td>\n",
       "      <td>0.0</td>\n",
       "      <td>0.0</td>\n",
       "      <td>0.0</td>\n",
       "      <td>0.0</td>\n",
       "      <td>1.0</td>\n",
       "      <td>0.0</td>\n",
       "    </tr>\n",
       "  </tbody>\n",
       "</table>\n",
       "<p>5 rows × 37 columns</p>\n",
       "</div>"
      ],
      "text/plain": [
       "   is_mix_service  online_time  1_total_fee  2_total_fee  3_total_fee  \\\n",
       "0               0           85       295.96       296.20       296.00   \n",
       "1               0           10       265.20       261.20       208.50   \n",
       "2               0           12        44.50        70.20        69.00   \n",
       "3               0          134        87.95        81.40        76.00   \n",
       "4               0           84       317.04       314.08       435.51   \n",
       "\n",
       "   4_total_fee  month_traffic  many_over_bill  contract_time  \\\n",
       "0       296.80    3813.614698               0             36   \n",
       "1       174.50       0.000000               1              0   \n",
       "2        61.40    2598.397406               0              0   \n",
       "3        88.30     988.440563               0              0   \n",
       "4       413.05    5885.800642               0             24   \n",
       "\n",
       "   is_promise_low_consume      ...       contract_type3  contract_type4  \\\n",
       "0                       0      ...                  0.0             0.0   \n",
       "1                       0      ...                  0.0             0.0   \n",
       "2                       0      ...                  0.0             0.0   \n",
       "3                       0      ...                  0.0             0.0   \n",
       "4                       0      ...                  0.0             0.0   \n",
       "\n",
       "   contract_type5  contract_type6  contract_type7  contract_type8  \\\n",
       "0             0.0             0.0             0.0             0.0   \n",
       "1             0.0             0.0             0.0             0.0   \n",
       "2             0.0             0.0             0.0             0.0   \n",
       "3             0.0             0.0             0.0             0.0   \n",
       "4             0.0             0.0             0.0             0.0   \n",
       "\n",
       "   net_service0  net_service1  net_service2  net_service3  \n",
       "0           0.0           0.0           1.0           0.0  \n",
       "1           0.0           0.0           1.0           0.0  \n",
       "2           0.0           0.0           1.0           0.0  \n",
       "3           0.0           0.0           1.0           0.0  \n",
       "4           0.0           0.0           1.0           0.0  \n",
       "\n",
       "[5 rows x 37 columns]"
      ]
     },
     "execution_count": 354,
     "metadata": {},
     "output_type": "execute_result"
    }
   ],
   "source": [
    "train.head()"
   ]
  },
  {
   "cell_type": "code",
   "execution_count": 355,
   "metadata": {},
   "outputs": [],
   "source": [
    "from sklearn.model_selection  import train_test_split\n",
    "from sklearn.linear_model import LogisticRegression\n",
    "from sklearn.metrics import f1_score\n",
    "import xgboost as xgb\n",
    "def f1_Cv(model, train, train_y):\n",
    "    train_x,test_x, train_y, test_y = train_test_split(train, train_y,random_state=42)\n",
    "    model.fit(train_x, train_y)\n",
    "    pred = model.predict(test_x)\n",
    "    score = f1_score(test_y ,pred, average=None)\n",
    "    return (sum(score) / len(score)) * (sum(score) / len(score))"
   ]
  },
  {
   "cell_type": "code",
   "execution_count": 356,
   "metadata": {},
   "outputs": [],
   "source": [
    "y_train_6 = np.zeros(train_y.shape[0])\n",
    "for i in range(y_train.shape[0]):\n",
    "    if train_y[i] == 6:\n",
    "        y_train_6[i] = 1"
   ]
  },
  {
   "cell_type": "code",
   "execution_count": 357,
   "metadata": {},
   "outputs": [
    {
     "data": {
      "text/html": [
       "<div>\n",
       "<style scoped>\n",
       "    .dataframe tbody tr th:only-of-type {\n",
       "        vertical-align: middle;\n",
       "    }\n",
       "\n",
       "    .dataframe tbody tr th {\n",
       "        vertical-align: top;\n",
       "    }\n",
       "\n",
       "    .dataframe thead th {\n",
       "        text-align: right;\n",
       "    }\n",
       "</style>\n",
       "<table border=\"1\" class=\"dataframe\">\n",
       "  <thead>\n",
       "    <tr style=\"text-align: right;\">\n",
       "      <th></th>\n",
       "      <th>is_mix_service</th>\n",
       "      <th>online_time</th>\n",
       "      <th>1_total_fee</th>\n",
       "      <th>2_total_fee</th>\n",
       "      <th>3_total_fee</th>\n",
       "      <th>4_total_fee</th>\n",
       "      <th>month_traffic</th>\n",
       "      <th>many_over_bill</th>\n",
       "      <th>contract_time</th>\n",
       "      <th>is_promise_low_consume</th>\n",
       "      <th>...</th>\n",
       "      <th>contract_type3</th>\n",
       "      <th>contract_type4</th>\n",
       "      <th>contract_type5</th>\n",
       "      <th>contract_type6</th>\n",
       "      <th>contract_type7</th>\n",
       "      <th>contract_type8</th>\n",
       "      <th>net_service0</th>\n",
       "      <th>net_service1</th>\n",
       "      <th>net_service2</th>\n",
       "      <th>net_service3</th>\n",
       "    </tr>\n",
       "  </thead>\n",
       "  <tbody>\n",
       "    <tr>\n",
       "      <th>0</th>\n",
       "      <td>0</td>\n",
       "      <td>85</td>\n",
       "      <td>295.96</td>\n",
       "      <td>296.20</td>\n",
       "      <td>296.00</td>\n",
       "      <td>296.80</td>\n",
       "      <td>3813.614698</td>\n",
       "      <td>0</td>\n",
       "      <td>36</td>\n",
       "      <td>0</td>\n",
       "      <td>...</td>\n",
       "      <td>0.0</td>\n",
       "      <td>0.0</td>\n",
       "      <td>0.0</td>\n",
       "      <td>0.0</td>\n",
       "      <td>0.0</td>\n",
       "      <td>0.0</td>\n",
       "      <td>0.0</td>\n",
       "      <td>0.0</td>\n",
       "      <td>1.0</td>\n",
       "      <td>0.0</td>\n",
       "    </tr>\n",
       "    <tr>\n",
       "      <th>1</th>\n",
       "      <td>0</td>\n",
       "      <td>10</td>\n",
       "      <td>265.20</td>\n",
       "      <td>261.20</td>\n",
       "      <td>208.50</td>\n",
       "      <td>174.50</td>\n",
       "      <td>0.000000</td>\n",
       "      <td>1</td>\n",
       "      <td>0</td>\n",
       "      <td>0</td>\n",
       "      <td>...</td>\n",
       "      <td>0.0</td>\n",
       "      <td>0.0</td>\n",
       "      <td>0.0</td>\n",
       "      <td>0.0</td>\n",
       "      <td>0.0</td>\n",
       "      <td>0.0</td>\n",
       "      <td>0.0</td>\n",
       "      <td>0.0</td>\n",
       "      <td>1.0</td>\n",
       "      <td>0.0</td>\n",
       "    </tr>\n",
       "    <tr>\n",
       "      <th>2</th>\n",
       "      <td>0</td>\n",
       "      <td>12</td>\n",
       "      <td>44.50</td>\n",
       "      <td>70.20</td>\n",
       "      <td>69.00</td>\n",
       "      <td>61.40</td>\n",
       "      <td>2598.397406</td>\n",
       "      <td>0</td>\n",
       "      <td>0</td>\n",
       "      <td>0</td>\n",
       "      <td>...</td>\n",
       "      <td>0.0</td>\n",
       "      <td>0.0</td>\n",
       "      <td>0.0</td>\n",
       "      <td>0.0</td>\n",
       "      <td>0.0</td>\n",
       "      <td>0.0</td>\n",
       "      <td>0.0</td>\n",
       "      <td>0.0</td>\n",
       "      <td>1.0</td>\n",
       "      <td>0.0</td>\n",
       "    </tr>\n",
       "    <tr>\n",
       "      <th>3</th>\n",
       "      <td>0</td>\n",
       "      <td>134</td>\n",
       "      <td>87.95</td>\n",
       "      <td>81.40</td>\n",
       "      <td>76.00</td>\n",
       "      <td>88.30</td>\n",
       "      <td>988.440563</td>\n",
       "      <td>0</td>\n",
       "      <td>0</td>\n",
       "      <td>0</td>\n",
       "      <td>...</td>\n",
       "      <td>0.0</td>\n",
       "      <td>0.0</td>\n",
       "      <td>0.0</td>\n",
       "      <td>0.0</td>\n",
       "      <td>0.0</td>\n",
       "      <td>0.0</td>\n",
       "      <td>0.0</td>\n",
       "      <td>0.0</td>\n",
       "      <td>1.0</td>\n",
       "      <td>0.0</td>\n",
       "    </tr>\n",
       "    <tr>\n",
       "      <th>4</th>\n",
       "      <td>0</td>\n",
       "      <td>84</td>\n",
       "      <td>317.04</td>\n",
       "      <td>314.08</td>\n",
       "      <td>435.51</td>\n",
       "      <td>413.05</td>\n",
       "      <td>5885.800642</td>\n",
       "      <td>0</td>\n",
       "      <td>24</td>\n",
       "      <td>0</td>\n",
       "      <td>...</td>\n",
       "      <td>0.0</td>\n",
       "      <td>0.0</td>\n",
       "      <td>0.0</td>\n",
       "      <td>0.0</td>\n",
       "      <td>0.0</td>\n",
       "      <td>0.0</td>\n",
       "      <td>0.0</td>\n",
       "      <td>0.0</td>\n",
       "      <td>1.0</td>\n",
       "      <td>0.0</td>\n",
       "    </tr>\n",
       "  </tbody>\n",
       "</table>\n",
       "<p>5 rows × 37 columns</p>\n",
       "</div>"
      ],
      "text/plain": [
       "   is_mix_service  online_time  1_total_fee  2_total_fee  3_total_fee  \\\n",
       "0               0           85       295.96       296.20       296.00   \n",
       "1               0           10       265.20       261.20       208.50   \n",
       "2               0           12        44.50        70.20        69.00   \n",
       "3               0          134        87.95        81.40        76.00   \n",
       "4               0           84       317.04       314.08       435.51   \n",
       "\n",
       "   4_total_fee  month_traffic  many_over_bill  contract_time  \\\n",
       "0       296.80    3813.614698               0             36   \n",
       "1       174.50       0.000000               1              0   \n",
       "2        61.40    2598.397406               0              0   \n",
       "3        88.30     988.440563               0              0   \n",
       "4       413.05    5885.800642               0             24   \n",
       "\n",
       "   is_promise_low_consume      ...       contract_type3  contract_type4  \\\n",
       "0                       0      ...                  0.0             0.0   \n",
       "1                       0      ...                  0.0             0.0   \n",
       "2                       0      ...                  0.0             0.0   \n",
       "3                       0      ...                  0.0             0.0   \n",
       "4                       0      ...                  0.0             0.0   \n",
       "\n",
       "   contract_type5  contract_type6  contract_type7  contract_type8  \\\n",
       "0             0.0             0.0             0.0             0.0   \n",
       "1             0.0             0.0             0.0             0.0   \n",
       "2             0.0             0.0             0.0             0.0   \n",
       "3             0.0             0.0             0.0             0.0   \n",
       "4             0.0             0.0             0.0             0.0   \n",
       "\n",
       "   net_service0  net_service1  net_service2  net_service3  \n",
       "0           0.0           0.0           1.0           0.0  \n",
       "1           0.0           0.0           1.0           0.0  \n",
       "2           0.0           0.0           1.0           0.0  \n",
       "3           0.0           0.0           1.0           0.0  \n",
       "4           0.0           0.0           1.0           0.0  \n",
       "\n",
       "[5 rows x 37 columns]"
      ]
     },
     "execution_count": 357,
     "metadata": {},
     "output_type": "execute_result"
    }
   ],
   "source": [
    "train.head()"
   ]
  },
  {
   "cell_type": "code",
   "execution_count": 377,
   "metadata": {},
   "outputs": [],
   "source": [
    "train = train[['1_total_fee','2_total_fee','3_total_fee','4_total_fee','service1_caller_time','service2_caller_time','month_traffic','last_month_traffic','online_time','age','pay_num','local_trafffic_month','local_caller_time','contract_time']]"
   ]
  },
  {
   "cell_type": "code",
   "execution_count": 379,
   "metadata": {},
   "outputs": [
    {
     "data": {
      "text/plain": [
       "(600661, 13)"
      ]
     },
     "execution_count": 379,
     "metadata": {},
     "output_type": "execute_result"
    }
   ],
   "source": [
    "train.shape"
   ]
  },
  {
   "cell_type": "code",
   "execution_count": 361,
   "metadata": {},
   "outputs": [
    {
     "data": {
      "text/plain": [
       "XGBClassifier(base_score=0.5, booster='gbtree', colsample_bylevel=1,\n",
       "       colsample_bytree=1, eval_metric='auc', gamma=0.1, learning_rate=0.3,\n",
       "       max_delta_step=0, max_depth=6, min_child_weight=1, missing=None,\n",
       "       n_estimators=100, n_jobs=1, nthread=None,\n",
       "       objective='multi:softprob', random_state=0, reg_alpha=0,\n",
       "       reg_lambda=1, scale_pos_weight=1, seed=1000, silent=1, subsample=1)"
      ]
     },
     "execution_count": 361,
     "metadata": {},
     "output_type": "execute_result"
    }
   ],
   "source": [
    "model_xgb = xgb.XGBClassifier(silent=1 ,\n",
    "learning_rate= 0.3,\n",
    "min_child_weight=1, \n",
    "# 这个参数默认是 1，是每个叶子里面 h 的和至少是多少，对正负样本不均衡时的 0-1 分类而言\n",
    "#，假设 h 在 0.01 附近，min_child_weight 为 1 意味着叶子节点中最少需要包含 100 个样本。\n",
    "#这个参数非常影响结果，控制叶子节点中二阶导的和的最小值，该参数值越小，越容易 overfitting。\n",
    "max_depth=6, \n",
    "gamma=0.1, \n",
    "subsample=1, \n",
    "max_delta_step=0,\n",
    "colsample_bytree=1, \n",
    "reg_lambda=1,  \n",
    "#reg_alpha=0, \n",
    "scale_pos_weight=1, \n",
    "objective= 'multi:softmax', \n",
    "# num_class=2, \n",
    "n_estimators=100, \n",
    "seed=1000, #随机种子\n",
    "eval_metric= 'auc')\n",
    "train_x,test_x, train_y1, test_y = train_test_split(train, y_train,random_state=42)\n",
    "model_xgb.fit(train_x, train_y1)"
   ]
  },
  {
   "cell_type": "code",
   "execution_count": 370,
   "metadata": {},
   "outputs": [
    {
     "data": {
      "text/plain": [
       "array([89016252, 89016253, 89016259, 89950166, 89950167, 89950168,\n",
       "       90063345, 90109916, 90155946, 99104722, 99999825, 99999826,\n",
       "       99999827, 99999828, 99999830], dtype=int64)"
      ]
     },
     "execution_count": 370,
     "metadata": {},
     "output_type": "execute_result"
    }
   ],
   "source": [
    "model_xgb.classes_"
   ]
  },
  {
   "cell_type": "code",
   "execution_count": 375,
   "metadata": {},
   "outputs": [
    {
     "data": {
      "text/plain": [
       "<matplotlib.figure.Figure at 0x1f788e2b5f8>"
      ]
     },
     "metadata": {},
     "output_type": "display_data"
    },
    {
     "data": {
      "image/png": "[encoded data removed]",
      "text/plain": [
       "<matplotlib.figure.Figure at 0x1f788e962e8>"
      ]
     },
     "metadata": {},
     "output_type": "display_data"
    }
   ],
   "source": [
    "from xgboost import plot_importance\n",
    "plt.figure(13)\n",
    "plot_importance(model_xgb)\n",
    "plt.show()"
   ]
  },
  {
   "cell_type": "code",
   "execution_count": 194,
   "metadata": {},
   "outputs": [
    {
     "name": "stderr",
     "output_type": "stream",
     "text": [
      "e:\\Anaconda3\\lib\\site-packages\\sklearn\\preprocessing\\label.py:151: DeprecationWarning: The truth value of an empty array is ambiguous. Returning False, but in future this will result in an error. Use `array.size > 0` to check that an array is not empty.\n",
      "  if diff:\n"
     ]
    }
   ],
   "source": [
    "pred = model_xgb.predict(test_x)"
   ]
  },
  {
   "cell_type": "code",
   "execution_count": 195,
   "metadata": {},
   "outputs": [],
   "source": [
    "# for data in pred:\n",
    "#     if data == 14:\n",
    "#         print(1)\n",
    "#         break"
   ]
  },
  {
   "cell_type": "code",
   "execution_count": 196,
   "metadata": {},
   "outputs": [
    {
     "data": {
      "text/plain": [
       "0.0    0.666662\n",
       "1.0    0.333338\n",
       "dtype: float64"
      ]
     },
     "execution_count": 196,
     "metadata": {},
     "output_type": "execute_result"
    }
   ],
   "source": [
    "pd.Series(pred).value_counts(normalize = True)"
   ]
  },
  {
   "cell_type": "code",
   "execution_count": 197,
   "metadata": {},
   "outputs": [
    {
     "data": {
      "text/plain": [
       "90063345    0.332159\n",
       "89950166    0.154879\n",
       "89950167    0.085461\n",
       "99999828    0.061755\n",
       "89016252    0.059701\n",
       "99104722    0.045770\n",
       "90109916    0.044401\n",
       "89950168    0.038709\n",
       "99999827    0.037812\n",
       "99999826    0.033868\n",
       "90155946    0.025565\n",
       "99999830    0.024661\n",
       "99999825    0.023817\n",
       "89016253    0.016469\n",
       "89016259    0.014974\n",
       "Name: current_service, dtype: float64"
      ]
     },
     "execution_count": 197,
     "metadata": {},
     "output_type": "execute_result"
    }
   ],
   "source": [
    "pd.Series(y_train).value_counts(normalize = True)"
   ]
  },
  {
   "cell_type": "code",
   "execution_count": 198,
   "metadata": {},
   "outputs": [
    {
     "data": {
      "text/plain": [
       "array([0.9986464 , 0.99729338])"
      ]
     },
     "execution_count": 198,
     "metadata": {},
     "output_type": "execute_result"
    }
   ],
   "source": [
    "score = f1_score(test_y ,pred, average=None)\n",
    "score"
   ]
  },
  {
   "cell_type": "code",
   "execution_count": 279,
   "metadata": {},
   "outputs": [],
   "source": [
    "train['y'] = train_y\n",
    "train_no6 = train[train['y'] != 6].copy()"
   ]
  },
  {
   "cell_type": "code",
   "execution_count": 280,
   "metadata": {},
   "outputs": [
    {
     "data": {
      "text/html": [
       "<div>\n",
       "<style scoped>\n",
       "    .dataframe tbody tr th:only-of-type {\n",
       "        vertical-align: middle;\n",
       "    }\n",
       "\n",
       "    .dataframe tbody tr th {\n",
       "        vertical-align: top;\n",
       "    }\n",
       "\n",
       "    .dataframe thead th {\n",
       "        text-align: right;\n",
       "    }\n",
       "</style>\n",
       "<table border=\"1\" class=\"dataframe\">\n",
       "  <thead>\n",
       "    <tr style=\"text-align: right;\">\n",
       "      <th></th>\n",
       "      <th>is_mix_service</th>\n",
       "      <th>online_time</th>\n",
       "      <th>1_total_fee</th>\n",
       "      <th>2_total_fee</th>\n",
       "      <th>3_total_fee</th>\n",
       "      <th>4_total_fee</th>\n",
       "      <th>month_traffic</th>\n",
       "      <th>many_over_bill</th>\n",
       "      <th>contract_time</th>\n",
       "      <th>is_promise_low_consume</th>\n",
       "      <th>...</th>\n",
       "      <th>contract_type4</th>\n",
       "      <th>contract_type5</th>\n",
       "      <th>contract_type6</th>\n",
       "      <th>contract_type7</th>\n",
       "      <th>contract_type8</th>\n",
       "      <th>net_service0</th>\n",
       "      <th>net_service1</th>\n",
       "      <th>net_service2</th>\n",
       "      <th>net_service3</th>\n",
       "      <th>y</th>\n",
       "    </tr>\n",
       "  </thead>\n",
       "  <tbody>\n",
       "    <tr>\n",
       "      <th>0</th>\n",
       "      <td>0</td>\n",
       "      <td>85</td>\n",
       "      <td>295.96</td>\n",
       "      <td>296.20</td>\n",
       "      <td>296.00</td>\n",
       "      <td>296.80</td>\n",
       "      <td>3813.614698</td>\n",
       "      <td>0</td>\n",
       "      <td>36</td>\n",
       "      <td>0</td>\n",
       "      <td>...</td>\n",
       "      <td>0.0</td>\n",
       "      <td>0.0</td>\n",
       "      <td>0.0</td>\n",
       "      <td>0.0</td>\n",
       "      <td>0.0</td>\n",
       "      <td>0.0</td>\n",
       "      <td>0.0</td>\n",
       "      <td>1.0</td>\n",
       "      <td>0.0</td>\n",
       "      <td>10</td>\n",
       "    </tr>\n",
       "    <tr>\n",
       "      <th>2</th>\n",
       "      <td>0</td>\n",
       "      <td>12</td>\n",
       "      <td>44.50</td>\n",
       "      <td>70.20</td>\n",
       "      <td>69.00</td>\n",
       "      <td>61.40</td>\n",
       "      <td>2598.397406</td>\n",
       "      <td>0</td>\n",
       "      <td>0</td>\n",
       "      <td>0</td>\n",
       "      <td>...</td>\n",
       "      <td>0.0</td>\n",
       "      <td>0.0</td>\n",
       "      <td>0.0</td>\n",
       "      <td>0.0</td>\n",
       "      <td>0.0</td>\n",
       "      <td>0.0</td>\n",
       "      <td>0.0</td>\n",
       "      <td>1.0</td>\n",
       "      <td>0.0</td>\n",
       "      <td>7</td>\n",
       "    </tr>\n",
       "    <tr>\n",
       "      <th>3</th>\n",
       "      <td>0</td>\n",
       "      <td>134</td>\n",
       "      <td>87.95</td>\n",
       "      <td>81.40</td>\n",
       "      <td>76.00</td>\n",
       "      <td>88.30</td>\n",
       "      <td>988.440563</td>\n",
       "      <td>0</td>\n",
       "      <td>0</td>\n",
       "      <td>0</td>\n",
       "      <td>...</td>\n",
       "      <td>0.0</td>\n",
       "      <td>0.0</td>\n",
       "      <td>0.0</td>\n",
       "      <td>0.0</td>\n",
       "      <td>0.0</td>\n",
       "      <td>0.0</td>\n",
       "      <td>0.0</td>\n",
       "      <td>1.0</td>\n",
       "      <td>0.0</td>\n",
       "      <td>3</td>\n",
       "    </tr>\n",
       "    <tr>\n",
       "      <th>4</th>\n",
       "      <td>0</td>\n",
       "      <td>84</td>\n",
       "      <td>317.04</td>\n",
       "      <td>314.08</td>\n",
       "      <td>435.51</td>\n",
       "      <td>413.05</td>\n",
       "      <td>5885.800642</td>\n",
       "      <td>0</td>\n",
       "      <td>24</td>\n",
       "      <td>0</td>\n",
       "      <td>...</td>\n",
       "      <td>0.0</td>\n",
       "      <td>0.0</td>\n",
       "      <td>0.0</td>\n",
       "      <td>0.0</td>\n",
       "      <td>0.0</td>\n",
       "      <td>0.0</td>\n",
       "      <td>0.0</td>\n",
       "      <td>1.0</td>\n",
       "      <td>0.0</td>\n",
       "      <td>10</td>\n",
       "    </tr>\n",
       "    <tr>\n",
       "      <th>5</th>\n",
       "      <td>0</td>\n",
       "      <td>46</td>\n",
       "      <td>36.00</td>\n",
       "      <td>36.00</td>\n",
       "      <td>36.00</td>\n",
       "      <td>37.20</td>\n",
       "      <td>218.003452</td>\n",
       "      <td>0</td>\n",
       "      <td>12</td>\n",
       "      <td>0</td>\n",
       "      <td>...</td>\n",
       "      <td>0.0</td>\n",
       "      <td>0.0</td>\n",
       "      <td>0.0</td>\n",
       "      <td>0.0</td>\n",
       "      <td>0.0</td>\n",
       "      <td>0.0</td>\n",
       "      <td>0.0</td>\n",
       "      <td>1.0</td>\n",
       "      <td>0.0</td>\n",
       "      <td>5</td>\n",
       "    </tr>\n",
       "  </tbody>\n",
       "</table>\n",
       "<p>5 rows × 38 columns</p>\n",
       "</div>"
      ],
      "text/plain": [
       "   is_mix_service  online_time  1_total_fee  2_total_fee  3_total_fee  \\\n",
       "0               0           85       295.96       296.20       296.00   \n",
       "2               0           12        44.50        70.20        69.00   \n",
       "3               0          134        87.95        81.40        76.00   \n",
       "4               0           84       317.04       314.08       435.51   \n",
       "5               0           46        36.00        36.00        36.00   \n",
       "\n",
       "   4_total_fee  month_traffic  many_over_bill  contract_time  \\\n",
       "0       296.80    3813.614698               0             36   \n",
       "2        61.40    2598.397406               0              0   \n",
       "3        88.30     988.440563               0              0   \n",
       "4       413.05    5885.800642               0             24   \n",
       "5        37.20     218.003452               0             12   \n",
       "\n",
       "   is_promise_low_consume ...  contract_type4  contract_type5  contract_type6  \\\n",
       "0                       0 ...             0.0             0.0             0.0   \n",
       "2                       0 ...             0.0             0.0             0.0   \n",
       "3                       0 ...             0.0             0.0             0.0   \n",
       "4                       0 ...             0.0             0.0             0.0   \n",
       "5                       0 ...             0.0             0.0             0.0   \n",
       "\n",
       "   contract_type7  contract_type8  net_service0  net_service1  net_service2  \\\n",
       "0             0.0             0.0           0.0           0.0           1.0   \n",
       "2             0.0             0.0           0.0           0.0           1.0   \n",
       "3             0.0             0.0           0.0           0.0           1.0   \n",
       "4             0.0             0.0           0.0           0.0           1.0   \n",
       "5             0.0             0.0           0.0           0.0           1.0   \n",
       "\n",
       "   net_service3   y  \n",
       "0           0.0  10  \n",
       "2           0.0   7  \n",
       "3           0.0   3  \n",
       "4           0.0  10  \n",
       "5           0.0   5  \n",
       "\n",
       "[5 rows x 38 columns]"
      ]
     },
     "execution_count": 280,
     "metadata": {},
     "output_type": "execute_result"
    }
   ],
   "source": [
    "train_no6.head()"
   ]
  },
  {
   "cell_type": "code",
   "execution_count": 281,
   "metadata": {},
   "outputs": [
    {
     "data": {
      "text/plain": [
       "3     0.231911\n",
       "4     0.127966\n",
       "13    0.092470\n",
       "0     0.089394\n",
       "9     0.068534\n",
       "7     0.066485\n",
       "5     0.057961\n",
       "12    0.056618\n",
       "11    0.050712\n",
       "8     0.038280\n",
       "14    0.036927\n",
       "10    0.035663\n",
       "1     0.024659\n",
       "2     0.022421\n",
       "Name: y, dtype: float64"
      ]
     },
     "execution_count": 281,
     "metadata": {},
     "output_type": "execute_result"
    }
   ],
   "source": [
    "train_no6['y'].value_counts(normalize = True)"
   ]
  },
  {
   "cell_type": "code",
   "execution_count": 287,
   "metadata": {},
   "outputs": [],
   "source": [
    "y = np.array(train_no6['y'])\n",
    "# print(y)\n",
    "for i in range(y.shape[0]):\n",
    "    a = y[i]\n",
    "    y[i] = label[a]"
   ]
  },
  {
   "cell_type": "code",
   "execution_count": 288,
   "metadata": {},
   "outputs": [],
   "source": [
    "train_no6.drop('y', axis = 1, inplace = True)"
   ]
  },
  {
   "cell_type": "code",
   "execution_count": 290,
   "metadata": {},
   "outputs": [
    {
     "data": {
      "text/html": [
       "<div>\n",
       "<style scoped>\n",
       "    .dataframe tbody tr th:only-of-type {\n",
       "        vertical-align: middle;\n",
       "    }\n",
       "\n",
       "    .dataframe tbody tr th {\n",
       "        vertical-align: top;\n",
       "    }\n",
       "\n",
       "    .dataframe thead th {\n",
       "        text-align: right;\n",
       "    }\n",
       "</style>\n",
       "<table border=\"1\" class=\"dataframe\">\n",
       "  <thead>\n",
       "    <tr style=\"text-align: right;\">\n",
       "      <th></th>\n",
       "      <th>is_mix_service</th>\n",
       "      <th>online_time</th>\n",
       "      <th>1_total_fee</th>\n",
       "      <th>2_total_fee</th>\n",
       "      <th>3_total_fee</th>\n",
       "      <th>4_total_fee</th>\n",
       "      <th>month_traffic</th>\n",
       "      <th>many_over_bill</th>\n",
       "      <th>contract_time</th>\n",
       "      <th>is_promise_low_consume</th>\n",
       "      <th>...</th>\n",
       "      <th>contract_type3</th>\n",
       "      <th>contract_type4</th>\n",
       "      <th>contract_type5</th>\n",
       "      <th>contract_type6</th>\n",
       "      <th>contract_type7</th>\n",
       "      <th>contract_type8</th>\n",
       "      <th>net_service0</th>\n",
       "      <th>net_service1</th>\n",
       "      <th>net_service2</th>\n",
       "      <th>net_service3</th>\n",
       "    </tr>\n",
       "  </thead>\n",
       "  <tbody>\n",
       "    <tr>\n",
       "      <th>0</th>\n",
       "      <td>0</td>\n",
       "      <td>85</td>\n",
       "      <td>295.96</td>\n",
       "      <td>296.20</td>\n",
       "      <td>296.00</td>\n",
       "      <td>296.80</td>\n",
       "      <td>3813.614698</td>\n",
       "      <td>0</td>\n",
       "      <td>36</td>\n",
       "      <td>0</td>\n",
       "      <td>...</td>\n",
       "      <td>0.0</td>\n",
       "      <td>0.0</td>\n",
       "      <td>0.0</td>\n",
       "      <td>0.0</td>\n",
       "      <td>0.0</td>\n",
       "      <td>0.0</td>\n",
       "      <td>0.0</td>\n",
       "      <td>0.0</td>\n",
       "      <td>1.0</td>\n",
       "      <td>0.0</td>\n",
       "    </tr>\n",
       "    <tr>\n",
       "      <th>2</th>\n",
       "      <td>0</td>\n",
       "      <td>12</td>\n",
       "      <td>44.50</td>\n",
       "      <td>70.20</td>\n",
       "      <td>69.00</td>\n",
       "      <td>61.40</td>\n",
       "      <td>2598.397406</td>\n",
       "      <td>0</td>\n",
       "      <td>0</td>\n",
       "      <td>0</td>\n",
       "      <td>...</td>\n",
       "      <td>0.0</td>\n",
       "      <td>0.0</td>\n",
       "      <td>0.0</td>\n",
       "      <td>0.0</td>\n",
       "      <td>0.0</td>\n",
       "      <td>0.0</td>\n",
       "      <td>0.0</td>\n",
       "      <td>0.0</td>\n",
       "      <td>1.0</td>\n",
       "      <td>0.0</td>\n",
       "    </tr>\n",
       "    <tr>\n",
       "      <th>3</th>\n",
       "      <td>0</td>\n",
       "      <td>134</td>\n",
       "      <td>87.95</td>\n",
       "      <td>81.40</td>\n",
       "      <td>76.00</td>\n",
       "      <td>88.30</td>\n",
       "      <td>988.440563</td>\n",
       "      <td>0</td>\n",
       "      <td>0</td>\n",
       "      <td>0</td>\n",
       "      <td>...</td>\n",
       "      <td>0.0</td>\n",
       "      <td>0.0</td>\n",
       "      <td>0.0</td>\n",
       "      <td>0.0</td>\n",
       "      <td>0.0</td>\n",
       "      <td>0.0</td>\n",
       "      <td>0.0</td>\n",
       "      <td>0.0</td>\n",
       "      <td>1.0</td>\n",
       "      <td>0.0</td>\n",
       "    </tr>\n",
       "    <tr>\n",
       "      <th>4</th>\n",
       "      <td>0</td>\n",
       "      <td>84</td>\n",
       "      <td>317.04</td>\n",
       "      <td>314.08</td>\n",
       "      <td>435.51</td>\n",
       "      <td>413.05</td>\n",
       "      <td>5885.800642</td>\n",
       "      <td>0</td>\n",
       "      <td>24</td>\n",
       "      <td>0</td>\n",
       "      <td>...</td>\n",
       "      <td>0.0</td>\n",
       "      <td>0.0</td>\n",
       "      <td>0.0</td>\n",
       "      <td>0.0</td>\n",
       "      <td>0.0</td>\n",
       "      <td>0.0</td>\n",
       "      <td>0.0</td>\n",
       "      <td>0.0</td>\n",
       "      <td>1.0</td>\n",
       "      <td>0.0</td>\n",
       "    </tr>\n",
       "    <tr>\n",
       "      <th>5</th>\n",
       "      <td>0</td>\n",
       "      <td>46</td>\n",
       "      <td>36.00</td>\n",
       "      <td>36.00</td>\n",
       "      <td>36.00</td>\n",
       "      <td>37.20</td>\n",
       "      <td>218.003452</td>\n",
       "      <td>0</td>\n",
       "      <td>12</td>\n",
       "      <td>0</td>\n",
       "      <td>...</td>\n",
       "      <td>1.0</td>\n",
       "      <td>0.0</td>\n",
       "      <td>0.0</td>\n",
       "      <td>0.0</td>\n",
       "      <td>0.0</td>\n",
       "      <td>0.0</td>\n",
       "      <td>0.0</td>\n",
       "      <td>0.0</td>\n",
       "      <td>1.0</td>\n",
       "      <td>0.0</td>\n",
       "    </tr>\n",
       "  </tbody>\n",
       "</table>\n",
       "<p>5 rows × 37 columns</p>\n",
       "</div>"
      ],
      "text/plain": [
       "   is_mix_service  online_time  1_total_fee  2_total_fee  3_total_fee  \\\n",
       "0               0           85       295.96       296.20       296.00   \n",
       "2               0           12        44.50        70.20        69.00   \n",
       "3               0          134        87.95        81.40        76.00   \n",
       "4               0           84       317.04       314.08       435.51   \n",
       "5               0           46        36.00        36.00        36.00   \n",
       "\n",
       "   4_total_fee  month_traffic  many_over_bill  contract_time  \\\n",
       "0       296.80    3813.614698               0             36   \n",
       "2        61.40    2598.397406               0              0   \n",
       "3        88.30     988.440563               0              0   \n",
       "4       413.05    5885.800642               0             24   \n",
       "5        37.20     218.003452               0             12   \n",
       "\n",
       "   is_promise_low_consume      ...       contract_type3  contract_type4  \\\n",
       "0                       0      ...                  0.0             0.0   \n",
       "2                       0      ...                  0.0             0.0   \n",
       "3                       0      ...                  0.0             0.0   \n",
       "4                       0      ...                  0.0             0.0   \n",
       "5                       0      ...                  1.0             0.0   \n",
       "\n",
       "   contract_type5  contract_type6  contract_type7  contract_type8  \\\n",
       "0             0.0             0.0             0.0             0.0   \n",
       "2             0.0             0.0             0.0             0.0   \n",
       "3             0.0             0.0             0.0             0.0   \n",
       "4             0.0             0.0             0.0             0.0   \n",
       "5             0.0             0.0             0.0             0.0   \n",
       "\n",
       "   net_service0  net_service1  net_service2  net_service3  \n",
       "0           0.0           0.0           1.0           0.0  \n",
       "2           0.0           0.0           1.0           0.0  \n",
       "3           0.0           0.0           1.0           0.0  \n",
       "4           0.0           0.0           1.0           0.0  \n",
       "5           0.0           0.0           1.0           0.0  \n",
       "\n",
       "[5 rows x 37 columns]"
      ]
     },
     "execution_count": 290,
     "metadata": {},
     "output_type": "execute_result"
    }
   ],
   "source": [
    "train_no6.head()"
   ]
  },
  {
   "cell_type": "code",
   "execution_count": 292,
   "metadata": {},
   "outputs": [
    {
     "data": {
      "text/plain": [
       "(401146,)"
      ]
     },
     "execution_count": 292,
     "metadata": {},
     "output_type": "execute_result"
    }
   ],
   "source": [
    "y.shape"
   ]
  },
  {
   "cell_type": "code",
   "execution_count": 293,
   "metadata": {},
   "outputs": [
    {
     "data": {
      "text/plain": [
       "XGBClassifier(base_score=0.5, booster='gbtree', colsample_bylevel=1,\n",
       "       colsample_bytree=1, eval_metric='auc', gamma=0.1, learning_rate=0.3,\n",
       "       max_delta_step=0, max_depth=6, min_child_weight=1, missing=None,\n",
       "       n_estimators=100, n_jobs=1, nthread=None,\n",
       "       objective='multi:softprob', random_state=0, reg_alpha=0,\n",
       "       reg_lambda=1, scale_pos_weight=1, seed=1000, silent=1, subsample=1)"
      ]
     },
     "execution_count": 293,
     "metadata": {},
     "output_type": "execute_result"
    }
   ],
   "source": [
    "model_xgb = xgb.XGBClassifier(silent=1 ,\n",
    "learning_rate= 0.3,\n",
    "min_child_weight=1, \n",
    "# 这个参数默认是 1，是每个叶子里面 h 的和至少是多少，对正负样本不均衡时的 0-1 分类而言\n",
    "#，假设 h 在 0.01 附近，min_child_weight 为 1 意味着叶子节点中最少需要包含 100 个样本。\n",
    "#这个参数非常影响结果，控制叶子节点中二阶导的和的最小值，该参数值越小，越容易 overfitting。\n",
    "max_depth=6, \n",
    "gamma=0.1, \n",
    "subsample=1, \n",
    "max_delta_step=0,\n",
    "colsample_bytree=1, \n",
    "reg_lambda=1,  \n",
    "#reg_alpha=0, \n",
    "scale_pos_weight=1, \n",
    "objective= 'multi:softmax', \n",
    "# num_class=2, \n",
    "n_estimators=100, \n",
    "seed=1000 ,\n",
    "eval_metric= 'auc')\n",
    "train_x,test_x, train_y1, test_y = train_test_split(train_no6, y,random_state=42)\n",
    "model_xgb.fit(train_x, train_y1)"
   ]
  },
  {
   "cell_type": "code",
   "execution_count": 294,
   "metadata": {},
   "outputs": [
    {
     "name": "stderr",
     "output_type": "stream",
     "text": [
      "e:\\Anaconda3\\lib\\site-packages\\sklearn\\preprocessing\\label.py:151: DeprecationWarning: The truth value of an empty array is ambiguous. Returning False, but in future this will result in an error. Use `array.size > 0` to check that an array is not empty.\n",
      "  if diff:\n"
     ]
    }
   ],
   "source": [
    "pred = model_xgb.predict(test_x)"
   ]
  },
  {
   "cell_type": "code",
   "execution_count": 296,
   "metadata": {},
   "outputs": [
    {
     "data": {
      "text/plain": [
       "0.8803993091700271"
      ]
     },
     "execution_count": 296,
     "metadata": {},
     "output_type": "execute_result"
    }
   ],
   "source": [
    "score = f1_score(test_y ,pred, average=None)\n",
    "score.mean()"
   ]
  },
  {
   "cell_type": "code",
   "execution_count": 67,
   "metadata": {},
   "outputs": [
    {
     "name": "stdout",
     "output_type": "stream",
     "text": [
      "<class 'pandas.core.frame.DataFrame'>\n",
      "RangeIndex: 262565 entries, 0 to 262564\n",
      "Data columns (total 25 columns):\n",
      "service_type              262565 non-null int64\n",
      "is_mix_service            262565 non-null int64\n",
      "online_time               262565 non-null int64\n",
      "1_total_fee               262565 non-null float64\n",
      "2_total_fee               262565 non-null object\n",
      "3_total_fee               262565 non-null object\n",
      "4_total_fee               262565 non-null float64\n",
      "month_traffic             262565 non-null float64\n",
      "many_over_bill            262565 non-null int64\n",
      "contract_type             262565 non-null int64\n",
      "contract_time             262565 non-null int64\n",
      "is_promise_low_consume    262565 non-null int64\n",
      "net_service               262565 non-null int64\n",
      "pay_times                 262565 non-null int64\n",
      "pay_num                   262565 non-null float64\n",
      "last_month_traffic        262565 non-null float64\n",
      "local_trafffic_month      262565 non-null float64\n",
      "local_caller_time         262565 non-null float64\n",
      "service1_caller_time      262565 non-null float64\n",
      "service2_caller_time      262565 non-null float64\n",
      "gender                    262565 non-null int64\n",
      "age                       262565 non-null int64\n",
      "complaint_level           262565 non-null int64\n",
      "former_complaint_num      262565 non-null int64\n",
      "former_complaint_fee      262565 non-null int64\n",
      "dtypes: float64(9), int64(14), object(2)\n",
      "memory usage: 50.1+ MB\n"
     ]
    }
   ],
   "source": [
    "test.info()"
   ]
  },
  {
   "cell_type": "code",
   "execution_count": 101,
   "metadata": {},
   "outputs": [
    {
     "name": "stdout",
     "output_type": "stream",
     "text": [
      "262565\n",
      "262565\n"
     ]
    }
   ],
   "source": [
    "temp = list(test['2_total_fee'])\n",
    "_total_fee = list(test['1_total_fee'])\n",
    "print(len(temp))\n",
    "i = 0\n",
    "while i < len(temp):\n",
    "    if temp[i] == '\\\\N':\n",
    "        temp[i] = _total_fee[i]\n",
    "    i += 1\n",
    "print(len(temp))\n",
    "test['2_total_fee'] = pd.Series(temp)\n",
    "# test = test[test['2_total_fee'].isin(temp)].reset_index(drop=True)"
   ]
  },
  {
   "cell_type": "code",
   "execution_count": 102,
   "metadata": {},
   "outputs": [
    {
     "name": "stdout",
     "output_type": "stream",
     "text": [
      "262565\n",
      "262565\n"
     ]
    }
   ],
   "source": [
    "temp = list(test['3_total_fee'])\n",
    "_total_fee = list(test['1_total_fee'])\n",
    "print(len(temp))\n",
    "i = 0\n",
    "while i < len(temp):\n",
    "    if temp[i] == '\\\\N':\n",
    "        temp[i] = _total_fee[i]\n",
    "    i += 1\n",
    "print(len(temp))\n",
    "test['3_total_fee'] = pd.Series(temp)\n",
    "# test = test[test['3_total_fee'].isin(temp)].reset_index(drop=True)"
   ]
  },
  {
   "cell_type": "code",
   "execution_count": 103,
   "metadata": {},
   "outputs": [],
   "source": [
    "_total_fee_2 = test['2_total_fee']\n",
    "_total_fee_2 = np.array(_total_fee_2, dtype = np.float)\n",
    "test['2_total_fee'] = pd.DataFrame(_total_fee_2)\n",
    "_total_fee_3 = test['3_total_fee']\n",
    "_total_fee_3 = np.array(_total_fee_3, dtype = np.float)\n",
    "test['3_total_fee'] = pd.DataFrame(_total_fee_2)"
   ]
  },
  {
   "cell_type": "code",
   "execution_count": 104,
   "metadata": {},
   "outputs": [],
   "source": [
    "test.drop('complaint_level',axis = 1, inplace = True )"
   ]
  },
  {
   "cell_type": "code",
   "execution_count": 105,
   "metadata": {},
   "outputs": [
    {
     "name": "stdout",
     "output_type": "stream",
     "text": [
      "<class 'pandas.core.frame.DataFrame'>\n",
      "RangeIndex: 262565 entries, 0 to 262564\n",
      "Data columns (total 24 columns):\n",
      "service_type              262565 non-null int64\n",
      "is_mix_service            262565 non-null int64\n",
      "online_time               262565 non-null int64\n",
      "1_total_fee               262565 non-null float64\n",
      "2_total_fee               262565 non-null float64\n",
      "3_total_fee               262565 non-null float64\n",
      "4_total_fee               262565 non-null float64\n",
      "month_traffic             262565 non-null float64\n",
      "many_over_bill            262565 non-null int64\n",
      "contract_type             262565 non-null int64\n",
      "contract_time             262565 non-null int64\n",
      "is_promise_low_consume    262565 non-null int64\n",
      "net_service               262565 non-null int64\n",
      "pay_times                 262565 non-null int64\n",
      "pay_num                   262565 non-null float64\n",
      "last_month_traffic        262565 non-null float64\n",
      "local_trafffic_month      262565 non-null float64\n",
      "local_caller_time         262565 non-null float64\n",
      "service1_caller_time      262565 non-null float64\n",
      "service2_caller_time      262565 non-null float64\n",
      "gender                    262565 non-null int64\n",
      "age                       262565 non-null int64\n",
      "former_complaint_num      262565 non-null int64\n",
      "former_complaint_fee      262565 non-null int64\n",
      "dtypes: float64(11), int64(13)\n",
      "memory usage: 48.1 MB\n"
     ]
    }
   ],
   "source": [
    "test.info()"
   ]
  },
  {
   "cell_type": "code",
   "execution_count": 106,
   "metadata": {},
   "outputs": [
    {
     "name": "stderr",
     "output_type": "stream",
     "text": [
      "e:\\Anaconda3\\lib\\site-packages\\ipykernel_launcher.py:8: FutureWarning: reshape is deprecated and will raise in a subsequent release. Please use .values.reshape(...) instead\n",
      "  \n",
      "e:\\Anaconda3\\lib\\site-packages\\ipykernel_launcher.py:9: FutureWarning: reshape is deprecated and will raise in a subsequent release. Please use .values.reshape(...) instead\n",
      "  if __name__ == '__main__':\n"
     ]
    }
   ],
   "source": [
    "col = ['service_type','contract_type','net_service']\n",
    "oneHotEncode(test,col)"
   ]
  },
  {
   "cell_type": "code",
   "execution_count": 107,
   "metadata": {},
   "outputs": [
    {
     "data": {
      "text/html": [
       "<div>\n",
       "<style scoped>\n",
       "    .dataframe tbody tr th:only-of-type {\n",
       "        vertical-align: middle;\n",
       "    }\n",
       "\n",
       "    .dataframe tbody tr th {\n",
       "        vertical-align: top;\n",
       "    }\n",
       "\n",
       "    .dataframe thead th {\n",
       "        text-align: right;\n",
       "    }\n",
       "</style>\n",
       "<table border=\"1\" class=\"dataframe\">\n",
       "  <thead>\n",
       "    <tr style=\"text-align: right;\">\n",
       "      <th></th>\n",
       "      <th>is_mix_service</th>\n",
       "      <th>online_time</th>\n",
       "      <th>1_total_fee</th>\n",
       "      <th>2_total_fee</th>\n",
       "      <th>3_total_fee</th>\n",
       "      <th>4_total_fee</th>\n",
       "      <th>month_traffic</th>\n",
       "      <th>many_over_bill</th>\n",
       "      <th>contract_time</th>\n",
       "      <th>is_promise_low_consume</th>\n",
       "      <th>...</th>\n",
       "      <th>contract_type3</th>\n",
       "      <th>contract_type4</th>\n",
       "      <th>contract_type5</th>\n",
       "      <th>contract_type6</th>\n",
       "      <th>contract_type7</th>\n",
       "      <th>contract_type8</th>\n",
       "      <th>net_service0</th>\n",
       "      <th>net_service1</th>\n",
       "      <th>net_service2</th>\n",
       "      <th>net_service3</th>\n",
       "    </tr>\n",
       "  </thead>\n",
       "  <tbody>\n",
       "    <tr>\n",
       "      <th>0</th>\n",
       "      <td>0</td>\n",
       "      <td>193</td>\n",
       "      <td>80.00</td>\n",
       "      <td>80.00</td>\n",
       "      <td>80.00</td>\n",
       "      <td>80.00</td>\n",
       "      <td>872.042338</td>\n",
       "      <td>0</td>\n",
       "      <td>0</td>\n",
       "      <td>1</td>\n",
       "      <td>...</td>\n",
       "      <td>0.0</td>\n",
       "      <td>0.0</td>\n",
       "      <td>0.0</td>\n",
       "      <td>0.0</td>\n",
       "      <td>0.0</td>\n",
       "      <td>0.0</td>\n",
       "      <td>0.0</td>\n",
       "      <td>0.0</td>\n",
       "      <td>1.0</td>\n",
       "      <td>0.0</td>\n",
       "    </tr>\n",
       "    <tr>\n",
       "      <th>1</th>\n",
       "      <td>0</td>\n",
       "      <td>5</td>\n",
       "      <td>86.70</td>\n",
       "      <td>74.20</td>\n",
       "      <td>74.20</td>\n",
       "      <td>68.90</td>\n",
       "      <td>200.000000</td>\n",
       "      <td>1</td>\n",
       "      <td>0</td>\n",
       "      <td>0</td>\n",
       "      <td>...</td>\n",
       "      <td>0.0</td>\n",
       "      <td>0.0</td>\n",
       "      <td>0.0</td>\n",
       "      <td>0.0</td>\n",
       "      <td>0.0</td>\n",
       "      <td>0.0</td>\n",
       "      <td>0.0</td>\n",
       "      <td>0.0</td>\n",
       "      <td>1.0</td>\n",
       "      <td>0.0</td>\n",
       "    </tr>\n",
       "    <tr>\n",
       "      <th>2</th>\n",
       "      <td>0</td>\n",
       "      <td>62</td>\n",
       "      <td>90.90</td>\n",
       "      <td>127.35</td>\n",
       "      <td>127.35</td>\n",
       "      <td>91.00</td>\n",
       "      <td>22927.945140</td>\n",
       "      <td>0</td>\n",
       "      <td>12</td>\n",
       "      <td>0</td>\n",
       "      <td>...</td>\n",
       "      <td>0.0</td>\n",
       "      <td>0.0</td>\n",
       "      <td>0.0</td>\n",
       "      <td>0.0</td>\n",
       "      <td>1.0</td>\n",
       "      <td>0.0</td>\n",
       "      <td>0.0</td>\n",
       "      <td>0.0</td>\n",
       "      <td>1.0</td>\n",
       "      <td>0.0</td>\n",
       "    </tr>\n",
       "    <tr>\n",
       "      <th>3</th>\n",
       "      <td>0</td>\n",
       "      <td>87</td>\n",
       "      <td>95.45</td>\n",
       "      <td>154.65</td>\n",
       "      <td>154.65</td>\n",
       "      <td>143.35</td>\n",
       "      <td>4793.146457</td>\n",
       "      <td>0</td>\n",
       "      <td>36</td>\n",
       "      <td>0</td>\n",
       "      <td>...</td>\n",
       "      <td>0.0</td>\n",
       "      <td>0.0</td>\n",
       "      <td>0.0</td>\n",
       "      <td>0.0</td>\n",
       "      <td>0.0</td>\n",
       "      <td>0.0</td>\n",
       "      <td>0.0</td>\n",
       "      <td>0.0</td>\n",
       "      <td>1.0</td>\n",
       "      <td>0.0</td>\n",
       "    </tr>\n",
       "    <tr>\n",
       "      <th>4</th>\n",
       "      <td>0</td>\n",
       "      <td>53</td>\n",
       "      <td>76.00</td>\n",
       "      <td>86.00</td>\n",
       "      <td>86.00</td>\n",
       "      <td>76.00</td>\n",
       "      <td>563.253649</td>\n",
       "      <td>0</td>\n",
       "      <td>0</td>\n",
       "      <td>0</td>\n",
       "      <td>...</td>\n",
       "      <td>0.0</td>\n",
       "      <td>0.0</td>\n",
       "      <td>0.0</td>\n",
       "      <td>0.0</td>\n",
       "      <td>0.0</td>\n",
       "      <td>0.0</td>\n",
       "      <td>0.0</td>\n",
       "      <td>0.0</td>\n",
       "      <td>1.0</td>\n",
       "      <td>0.0</td>\n",
       "    </tr>\n",
       "  </tbody>\n",
       "</table>\n",
       "<p>5 rows × 37 columns</p>\n",
       "</div>"
      ],
      "text/plain": [
       "   is_mix_service  online_time  1_total_fee  2_total_fee  3_total_fee  \\\n",
       "0               0          193        80.00        80.00        80.00   \n",
       "1               0            5        86.70        74.20        74.20   \n",
       "2               0           62        90.90       127.35       127.35   \n",
       "3               0           87        95.45       154.65       154.65   \n",
       "4               0           53        76.00        86.00        86.00   \n",
       "\n",
       "   4_total_fee  month_traffic  many_over_bill  contract_time  \\\n",
       "0        80.00     872.042338               0              0   \n",
       "1        68.90     200.000000               1              0   \n",
       "2        91.00   22927.945140               0             12   \n",
       "3       143.35    4793.146457               0             36   \n",
       "4        76.00     563.253649               0              0   \n",
       "\n",
       "   is_promise_low_consume      ...       contract_type3  contract_type4  \\\n",
       "0                       1      ...                  0.0             0.0   \n",
       "1                       0      ...                  0.0             0.0   \n",
       "2                       0      ...                  0.0             0.0   \n",
       "3                       0      ...                  0.0             0.0   \n",
       "4                       0      ...                  0.0             0.0   \n",
       "\n",
       "   contract_type5  contract_type6  contract_type7  contract_type8  \\\n",
       "0             0.0             0.0             0.0             0.0   \n",
       "1             0.0             0.0             0.0             0.0   \n",
       "2             0.0             0.0             1.0             0.0   \n",
       "3             0.0             0.0             0.0             0.0   \n",
       "4             0.0             0.0             0.0             0.0   \n",
       "\n",
       "   net_service0  net_service1  net_service2  net_service3  \n",
       "0           0.0           0.0           1.0           0.0  \n",
       "1           0.0           0.0           1.0           0.0  \n",
       "2           0.0           0.0           1.0           0.0  \n",
       "3           0.0           0.0           1.0           0.0  \n",
       "4           0.0           0.0           1.0           0.0  \n",
       "\n",
       "[5 rows x 37 columns]"
      ]
     },
     "execution_count": 107,
     "metadata": {},
     "output_type": "execute_result"
    }
   ],
   "source": [
    "test.head()"
   ]
  },
  {
   "cell_type": "code",
   "execution_count": null,
   "metadata": {},
   "outputs": [],
   "source": []
  },
  {
   "cell_type": "code",
   "execution_count": 108,
   "metadata": {},
   "outputs": [
    {
     "name": "stderr",
     "output_type": "stream",
     "text": [
      "e:\\Anaconda3\\lib\\site-packages\\sklearn\\preprocessing\\label.py:151: DeprecationWarning: The truth value of an empty array is ambiguous. Returning False, but in future this will result in an error. Use `array.size > 0` to check that an array is not empty.\n",
      "  if diff:\n"
     ]
    }
   ],
   "source": [
    "pred = model_xgb.predict(test)"
   ]
  },
  {
   "cell_type": "code",
   "execution_count": 87,
   "metadata": {},
   "outputs": [
    {
     "data": {
      "text/plain": [
       "(262565,)"
      ]
     },
     "execution_count": 87,
     "metadata": {},
     "output_type": "execute_result"
    }
   ],
   "source": [
    "test_id.shape"
   ]
  },
  {
   "cell_type": "code",
   "execution_count": 109,
   "metadata": {},
   "outputs": [
    {
     "data": {
      "text/plain": [
       "(262565,)"
      ]
     },
     "execution_count": 109,
     "metadata": {},
     "output_type": "execute_result"
    }
   ],
   "source": [
    "pred.shape"
   ]
  },
  {
   "cell_type": "code",
   "execution_count": 110,
   "metadata": {},
   "outputs": [],
   "source": [
    "sub = pd.DataFrame()\n",
    "sub['PassengerId'] = test_id\n",
    "sub['Survived'] = pred\n",
    "sub.to_csv('submission.csv',index=False)"
   ]
  },
  {
   "cell_type": "code",
   "execution_count": null,
   "metadata": {},
   "outputs": [],
   "source": [
    "group = pd.DataFrame()\n",
    "\n",
    "group['current_service'] = train['current_service'].copy()\n",
    "group['1_total_fee'] = train['1_total_fee'].copy()\n",
    "group.groupby('current_service')['1_total_fee'].std()"
   ]
  },
  {
   "cell_type": "code",
   "execution_count": null,
   "metadata": {},
   "outputs": [],
   "source": [
    "group = pd.DataFrame()\n",
    "\n",
    "group['is_promise_low_consume'] = train['is_promise_low_consume'].copy()\n",
    "group['current_service'] = pd.Series(train_y)\n",
    "group.groupby('is_promise_low_consume')['current_service'].value_counts(normalize = True)"
   ]
  },
  {
   "cell_type": "code",
   "execution_count": null,
   "metadata": {},
   "outputs": [],
   "source": [
    "def oneHotEncode(data, col):\n",
    "    for c in col:\n",
    "        lbl = LabelEncoder() \n",
    "        lbl.fit(list(data[c].values)) \n",
    "        data[c] = lbl.transform(list(data[c].values))\n",
    "    for c in col:\n",
    "        enc = OneHotEncoder(sparse=False)\n",
    "        enc.fit(data[c].reshape(-1,1))\n",
    "        temp = enc.transform(data[c].reshape(-1,1))\n",
    "        for i in range(temp.shape[1]):\n",
    "            data[c+str(i)] = temp[:,i]"
   ]
  },
  {
   "cell_type": "code",
   "execution_count": null,
   "metadata": {},
   "outputs": [],
   "source": [
    "all_data = pd.concat((train.drop('current_service', axis = 1), test)).reset_index(drop=True)"
   ]
  },
  {
   "cell_type": "code",
   "execution_count": null,
   "metadata": {},
   "outputs": [],
   "source": [
    "month_traffic = all_data['month_traffic']\n",
    "local_caller_time = all_data['local_caller_time']\n",
    "_total_fee = all_data['1_total_fee']\n",
    "service1_caller_time = all_data['service1_caller_time']"
   ]
  },
  {
   "cell_type": "code",
   "execution_count": null,
   "metadata": {},
   "outputs": [],
   "source": [
    "a = all_data[['1_total_fee','2_total_fee','3_total_fee','4_total_fee']].corr()\n",
    "print(a)"
   ]
  },
  {
   "cell_type": "code",
   "execution_count": null,
   "metadata": {},
   "outputs": [],
   "source": [
    "plt.plot(local_caller_time, _total_fee, 'ro')\n",
    "plt.show()"
   ]
  },
  {
   "cell_type": "code",
   "execution_count": null,
   "metadata": {},
   "outputs": [],
   "source": [
    "col = ['service_type','contract_type','net_service','complaint_level']\n",
    "oneHotEncode(all_data,col)"
   ]
  },
  {
   "cell_type": "code",
   "execution_count": null,
   "metadata": {},
   "outputs": [],
   "source": [
    "all_data.head()"
   ]
  },
  {
   "cell_type": "code",
   "execution_count": null,
   "metadata": {},
   "outputs": [],
   "source": [
    "all_data.drop(['service_type','contract_type','net_service','complaint_level','age','2_total_fee', '3_total_fee','gender', 'user_id'], axis = 1, inplace = True)"
   ]
  },
  {
   "cell_type": "code",
   "execution_count": null,
   "metadata": {},
   "outputs": [],
   "source": [
    "all_data.head()"
   ]
  },
  {
   "cell_type": "code",
   "execution_count": null,
   "metadata": {},
   "outputs": [],
   "source": [
    "import xgboost as xgb"
   ]
  },
  {
   "cell_type": "code",
   "execution_count": null,
   "metadata": {},
   "outputs": [],
   "source": [
    "model_xgb = xgb.XGBClassifier(objective = 'multi:softmax')"
   ]
  },
  {
   "cell_type": "code",
   "execution_count": null,
   "metadata": {},
   "outputs": [],
   "source": [
    "from sklearn.svm import LinearSVC\n",
    "from sklearn.learning_curve import learning_curve\n",
    "#绘制学习曲线，以确定模型的状况\n",
    "def plot_learning_curve(estimator, title, X, y, ylim=None, cv=None,\n",
    "                        train_sizes=np.linspace(.1, 1.0, 10)):\n",
    "    \"\"\"\n",
    "    画出data在某模型上的learning curve.\n",
    "    参数解释\n",
    "    ----------\n",
    "    estimator : 你用的分类器。\n",
    "    title : 表格的标题。\n",
    "    X : 输入的feature，numpy类型\n",
    "    y : 输入的target vector\n",
    "    ylim : tuple格式的(ymin, ymax), 设定图像中纵坐标的最低点和最高点\n",
    "    cv : 做cross-validation的时候，数据分成的份数，其中一份作为cv集，其余n-1份作为training(默认为3份)\n",
    "    \"\"\"\n",
    "    plt.figure()\n",
    "    train_sizes, train_scores, test_scores = learning_curve(\n",
    "        estimator, X, y, cv=5, n_jobs=1, train_sizes=train_sizes)\n",
    "    train_scores_mean = np.mean(train_scores, axis=1)\n",
    "    train_scores_std = np.std(train_scores, axis=1)\n",
    "    test_scores_mean = np.mean(test_scores, axis=1)\n",
    "    test_scores_std = np.std(test_scores, axis=1)\n",
    "    plt.fill_between(train_sizes, train_scores_mean - train_scores_std,\n",
    "                     train_scores_mean + train_scores_std, alpha=0.1,\n",
    "                     color=\"r\")\n",
    "    plt.fill_between(train_sizes, test_scores_mean - test_scores_std,\n",
    "                     test_scores_mean + test_scores_std, alpha=0.1, color=\"g\")\n",
    "    plt.plot(train_sizes, train_scores_mean, 'o-', color=\"r\",\n",
    "             label=\"Training score\")\n",
    "    plt.plot(train_sizes, test_scores_mean, 'o-', color=\"g\",\n",
    "             label=\"Cross-validation score\")\n",
    "    plt.xlabel(\"Training examples\")\n",
    "    plt.ylabel(\"Score\")\n",
    "    plt.legend(loc=\"best\")\n",
    "    plt.grid(\"on\") \n",
    "    if ylim:\n",
    "        plt.ylim(ylim)\n",
    "    plt.title(title)\n",
    "    plt.show()"
   ]
  },
  {
   "cell_type": "code",
   "execution_count": null,
   "metadata": {},
   "outputs": [],
   "source": [
    "# all_data.info()\n",
    "# all_data['age'] = pd.Series(all_data['age'], dtype=np.float)\n",
    "# all_data['2_total_fee'] = pd.Series(all_data['2_total_fee'], dtype='float64')\n",
    "# all_data['3_total_fee'] = pd.Series(all_data['3_total_fee'], dtype='float64')\n",
    "# all_data['gender'] = pd.Series(all_data['gender'], dtype=np.float)\n",
    "train = all_data[0:n_train]\n",
    "all_data.info()"
   ]
  },
  {
   "cell_type": "code",
   "execution_count": null,
   "metadata": {},
   "outputs": [],
   "source": [
    "all_data.head()"
   ]
  },
  {
   "cell_type": "code",
   "execution_count": null,
   "metadata": {},
   "outputs": [],
   "source": [
    "# plot_learning_curve(model_xgb, \"xgb学习曲线\", train, train_y)"
   ]
  },
  {
   "cell_type": "code",
   "execution_count": null,
   "metadata": {},
   "outputs": [],
   "source": [
    "from sklearn.linear_model import LogisticRegression\n",
    "softmax_reg = LogisticRegression(multi_class=\"multinomial\", solver=\"lbfgs\", C=10)"
   ]
  },
  {
   "cell_type": "code",
   "execution_count": null,
   "metadata": {},
   "outputs": [],
   "source": [
    "plot_learning_curve(softmax_reg, \"xgb学习曲线\", train, train_y)"
   ]
  },
  {
   "cell_type": "code",
   "execution_count": null,
   "metadata": {},
   "outputs": [],
   "source": [
    "from sklearn.model_selection  import train_test_split\n",
    "train_x,test_x, train_y, test_y = train_test_split(train, train_y,random_state=42)"
   ]
  },
  {
   "cell_type": "code",
   "execution_count": null,
   "metadata": {},
   "outputs": [],
   "source": [
    "print(train_x.shape)\n",
    "print(test_x.shape)\n",
    "print(train_y.shape)\n",
    "print(test_y.shape)"
   ]
  },
  {
   "cell_type": "code",
   "execution_count": null,
   "metadata": {},
   "outputs": [],
   "source": []
  },
  {
   "cell_type": "code",
   "execution_count": null,
   "metadata": {},
   "outputs": [],
   "source": []
  }
 ],
 "metadata": {
  "kernelspec": {
   "display_name": "Python 3",
   "language": "python",
   "name": "python3"
  },
  "language_info": {
   "codemirror_mode": {
    "name": "ipython",
    "version": 3
   },
   "file_extension": ".py",
   "mimetype": "text/x-python",
   "name": "python",
   "nbconvert_exporter": "python",
   "pygments_lexer": "ipython3",
   "version": "3.6.4"
  }
 },
 "nbformat": 4,
 "nbformat_minor": 2
}
